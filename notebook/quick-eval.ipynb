{
 "cells": [
  {
   "cell_type": "code",
   "execution_count": 24,
   "metadata": {},
   "outputs": [],
   "source": [
    "from promptflow import PFClient\n",
    "\n",
    "pf_client = PFClient()"
   ]
  },
  {
   "cell_type": "code",
   "execution_count": 25,
   "metadata": {},
   "outputs": [
    {
     "name": "stderr",
     "output_type": "stream",
     "text": [
      "[2023-11-29 14:26:45,888][promptflow._sdk.entities._connection][WARNING] - Please use connection.secrets[key] to access secrets.\n"
     ]
    },
    {
     "name": "stdout",
     "output_type": "stream",
     "text": [
      "2023-11-29 14:26:45 -0600    8896 execution.flow     INFO     Start to run 5 nodes with concurrency level 16.\n",
      "2023-11-29 14:26:45 -0600    8896 execution.flow     INFO     Executing node question_embedding. node run id: 25ac5726-4d7a-47bd-bcce-06e6f1fbf8fa_question_embedding_0\n",
      "2023-11-29 14:26:45 -0600    8896 execution.flow     INFO     Executing node customer_lookup. node run id: 25ac5726-4d7a-47bd-bcce-06e6f1fbf8fa_customer_lookup_0\n",
      "2023-11-29 14:26:46 -0600    8896 execution.flow     INFO     Node question_embedding completes.\n",
      "2023-11-29 14:26:46 -0600    8896 execution.flow     INFO     Executing node retrieve_documentation. node run id: 25ac5726-4d7a-47bd-bcce-06e6f1fbf8fa_retrieve_documentation_0\n",
      "2023-11-29 14:26:47 -0600    8896 execution.flow     INFO     Node retrieve_documentation completes.\n",
      "2023-11-29 14:26:47 -0600    8896 execution.flow     INFO     Node customer_lookup completes.\n",
      "2023-11-29 14:26:47 -0600    8896 execution.flow     INFO     Executing node customer_prompt. node run id: 25ac5726-4d7a-47bd-bcce-06e6f1fbf8fa_customer_prompt_0\n",
      "2023-11-29 14:26:47 -0600    8896 execution.flow     INFO     Node customer_prompt completes.\n",
      "2023-11-29 14:26:47 -0600    8896 execution.flow     INFO     Executing node llm_response. node run id: 25ac5726-4d7a-47bd-bcce-06e6f1fbf8fa_llm_response_0\n",
      "2023-11-29 14:26:48 -0600    8896 execution.flow     WARNING  Output of llm_response is not json serializable, use str to store it.\n",
      "2023-11-29 14:26:48 -0600    8896 execution.flow     INFO     Node llm_response completes.\n"
     ]
    }
   ],
   "source": [
    "question = \"What was in my previous order?\"\n",
    "customerId = \"4\"\n",
    "output = pf_client.test(\n",
    "    \"../\",\n",
    "    inputs={\n",
    "        \"chat_history\": [],\n",
    "        \"question\": question,\n",
    "        \"customerId\": customerId,\n",
    "    },\n",
    ")\n",
    "output[\"answer\"] = \"\".join(list(output[\"answer\"]))"
   ]
  },
  {
   "cell_type": "code",
   "execution_count": 26,
   "metadata": {},
   "outputs": [
    {
     "data": {
      "text/plain": [
       "{'answer': \"Hi Sarah Lee! 🙋\\u200d♀️ As a valued Platinum member, you've previously purchased the TrailMaster X4 Tent and CozyNights Sleeping Bag, perfect for your outdoor adventures. 🏕️😴 Is there something else you're interested in purchasing today? Let me know how I can help! 😊\",\n",
       " 'context': [{'id': '19',\n",
       "   'title': 'Adventure Dining Table',\n",
       "   'content': \"Discover the joy of outdoor adventures with the CampBuddy Adventure Dining Table. This feature-packed camping essential brings both comfort and convenience to your memorable trips. Made from high-quality aluminum, it promises long-lasting performance, weather resistance, and easy maintenance - all key for the great outdoors! It's light, portable, and comes with adjustable height settings to suit various seating arrangements and the spacious surface comfortably accommodates meals, drinks, and other essentials. The sturdy yet lightweight frame holds food, dishes, and utensils with ease. When it's time to pack up, it fold and stows away with no fuss, ready for the next adventure!  Perfect for camping, picnics, barbecues, and beach outings - its versatility shines as brightly as the summer sun! Durable, sturdy and a breeze to set up, the Adventure Dining Table will be a loyal companion on every trip. Embark on your next adventure and make lifetime memories with CampBuddy. As with all good experiences, it'll leave you wanting more! \",\n",
       "   'url': '/products/adventure-dining-table'},\n",
       "  {'id': '16',\n",
       "   'title': 'TrailLite Daypack',\n",
       "   'content': \"Step up your hiking game with HikeMate's TrailLite Daypack. Built for comfort and efficiency, this lightweight and durable backpack offers a spacious main compartment, multiple pockets, and organization-friendly features all in one sleek package. The adjustable shoulder straps and padded back panel ensure optimal comfort during those long exhilarating treks. Course through nature without worry as the daypack's water-resistant fabric protects your essentials from unexpected showers. Plus, never run dry with the integrated hydration system. And did we mention it comes in a plethora of colors and designs? So you can choose one that truly speaks to your outdoorsy soul! Keeping your visibility in mind, we've added reflective accents that light up in low-light conditions. Don't just carry a backpack, adorn a companion that takes you a step ahead in your adventures. Trust the TrailLite Daypack for a hassle-free, enjoyable hiking experience.\",\n",
       "   'url': '/products/traillite-daypack'}]}"
      ]
     },
     "execution_count": 26,
     "metadata": {},
     "output_type": "execute_result"
    }
   ],
   "source": [
    "output"
   ]
  },
  {
   "cell_type": "code",
   "execution_count": 27,
   "metadata": {},
   "outputs": [
    {
     "name": "stderr",
     "output_type": "stream",
     "text": [
      "[2023-11-29 14:26:49,400][promptflow._sdk.entities._connection][WARNING] - Please use connection.secrets[key] to access secrets.\n"
     ]
    },
    {
     "name": "stdout",
     "output_type": "stream",
     "text": [
      "2023-11-29 14:26:49 -0600    8896 execution.flow     INFO     Start to run 5 nodes with concurrency level 16.\n",
      "2023-11-29 14:26:49 -0600    8896 execution.flow     INFO     Executing node question_embedding. node run id: 05177f86-1e36-46a8-a91e-a5eeb97436b0_question_embedding_0\n",
      "2023-11-29 14:26:49 -0600    8896 execution.flow     INFO     Executing node customer_lookup. node run id: 05177f86-1e36-46a8-a91e-a5eeb97436b0_customer_lookup_0\n",
      "2023-11-29 14:26:50 -0600    8896 execution.flow     INFO     Node question_embedding completes.\n",
      "2023-11-29 14:26:50 -0600    8896 execution.flow     INFO     Executing node retrieve_documentation. node run id: 05177f86-1e36-46a8-a91e-a5eeb97436b0_retrieve_documentation_0\n",
      "2023-11-29 14:26:51 -0600    8896 execution.flow     INFO     Node retrieve_documentation completes.\n",
      "2023-11-29 14:26:51 -0600    8896 execution.flow     INFO     Node customer_lookup completes.\n",
      "2023-11-29 14:26:51 -0600    8896 execution.flow     INFO     Executing node customer_prompt. node run id: 05177f86-1e36-46a8-a91e-a5eeb97436b0_customer_prompt_0\n",
      "2023-11-29 14:26:51 -0600    8896 execution.flow     INFO     Node customer_prompt completes.\n",
      "2023-11-29 14:26:51 -0600    8896 execution.flow     INFO     Executing node llm_response. node run id: 05177f86-1e36-46a8-a91e-a5eeb97436b0_llm_response_0\n",
      "2023-11-29 14:26:51 -0600    8896 execution.flow     WARNING  Output of llm_response is not json serializable, use str to store it.\n",
      "2023-11-29 14:26:51 -0600    8896 execution.flow     INFO     Node llm_response completes.\n"
     ]
    }
   ],
   "source": [
    "question = \"What is the temperature rating of my sleeping bag?\"\n",
    "customerId = \"4\"\n",
    "output = pf_client.test(\n",
    "    \"../\",\n",
    "    inputs={\n",
    "        \"chat_history\": [],\n",
    "        \"question\": question,\n",
    "        \"customerId\": customerId,\n",
    "    },\n",
    ")\n",
    "output[\"answer\"] = \"\".join(list(output[\"answer\"]))"
   ]
  },
  {
   "cell_type": "code",
   "execution_count": 28,
   "metadata": {},
   "outputs": [
    {
     "name": "stdout",
     "output_type": "stream",
     "text": [
      "2023-11-29 14:26:52 -0600    8896 execution.flow     INFO     Start to run 2 nodes with concurrency level 16.\n",
      "2023-11-29 14:26:52 -0600    8896 execution.flow     INFO     Executing node groundedness_score. node run id: 2869725f-35ee-45e7-a3f5-cc6eaba7cbc6_groundedness_score_0\n",
      "2023-11-29 14:26:53 -0600    8896 execution.flow     INFO     Node groundedness_score completes.\n",
      "2023-11-29 14:26:53 -0600    8896 execution.flow     INFO     Executing node concat_scores. node run id: 2869725f-35ee-45e7-a3f5-cc6eaba7cbc6_concat_scores_0\n",
      "2023-11-29 14:26:53 -0600    8896 execution.flow     INFO     Node concat_scores completes.\n",
      "2023-11-29 14:26:53 -0600    8896 execution.flow     INFO     Start to run 1 nodes with concurrency level 16.\n",
      "2023-11-29 14:26:53 -0600    8896 execution.flow     INFO     Executing node aggregate_variants_results. node run id: b5683f6e-6cba-45e7-87f4-4d108db436fe_aggregate_variants_results_reduce\n",
      "2023-11-29 14:26:53 -0600    8896 execution.flow     INFO     Node aggregate_variants_results completes.\n"
     ]
    }
   ],
   "source": [
    "test = pf_client.test(\n",
    "    \"../eval/groundedness\",\n",
    "    inputs={\n",
    "        \"question\": question,\n",
    "        \"context\": str(output[\"context\"]),\n",
    "        \"answer\": output[\"answer\"],\n",
    "    },\n",
    ")"
   ]
  },
  {
   "cell_type": "code",
   "execution_count": 29,
   "metadata": {},
   "outputs": [
    {
     "data": {
      "text/plain": [
       "{'answer': 'Hi Sarah Lee! 🌟👋  The temperature rating of your CozyNights Sleeping Bag is reliable and perfect for spring, summer, and fall outdoor adventures. Stay cozy and comfortable on your next trip! 🏕️🌲🔥',\n",
       " 'context': [{'id': '14',\n",
       "   'title': 'MountainDream Sleeping Bag',\n",
       "   'content': \"Meet the MountainDream Sleeping Bag: your new must-have companion for every outdoor adventure. Designed to handle 3-season camping with ease, it comes equipped with a premium synthetic insulation that will keep you cozy even when temperatures fall down to 15°F! Sporting a durable water-resistant nylon shell and soft breathable polyester lining, this bag doesn't sacrifice comfort for toughness. The star of the show is the contoured mummy shape that not only provides optimal heat retention but also cuts down on the weight. A smooth, snag-free YKK zipper with a unique anti-snag design allows for hassle-free operation, while the adjustable hood and full-length zipper baffle work together to ensure you stay warm all night long. Need to bring along some essentials? Not to worry! There's an interior pocket just for that. And when it's time to pack up? Just slip it into the included compression sack for easy storage and transport. Whether you're a backpacking pro or a camping novice, the MountainDream Sleeping Bag is the perfect blend of durability, warmth, and comfort that you've been looking for.\",\n",
       "   'url': '/products/mountaindream-sleeping-bag'},\n",
       "  {'id': '7',\n",
       "   'title': 'CozyNights Sleeping Bag',\n",
       "   'content': \"Embrace the great outdoors in any season with the lightweight CozyNights Sleeping Bag! This durable three-season bag is superbly designed to give hikers, campers, and backpackers comfort and warmth during spring, summer, and fall. With a compact design that folds down into a convenient stuff sack, you can whisk it away on any adventure without a hitch. The sleeping bag takes comfort seriously, featuring a handy hood, ample room and padding, and a reliable temperature rating. Crafted from high-quality polyester, it ensures long-lasting use and can even be zipped together with another bag for shared comfort. Whether you're gazing at stars or catching a quick nap between trails, the CozyNights Sleeping Bag makes it a treat. Don't just sleep— dream with CozyNights.\",\n",
       "   'url': '/products/cozynights-sleeping-bag'}]}"
      ]
     },
     "execution_count": 29,
     "metadata": {},
     "output_type": "execute_result"
    }
   ],
   "source": [
    "output"
   ]
  },
  {
   "cell_type": "code",
   "execution_count": 30,
   "metadata": {},
   "outputs": [
    {
     "data": {
      "text/plain": [
       "{'gpt_groundedness': 5.0}"
      ]
     },
     "execution_count": 30,
     "metadata": {},
     "output_type": "execute_result"
    }
   ],
   "source": [
    "test"
   ]
  },
  {
   "cell_type": "markdown",
   "metadata": {},
   "source": [
    "## Eval Flow"
   ]
  },
  {
   "cell_type": "code",
   "execution_count": 22,
   "metadata": {},
   "outputs": [
    {
     "name": "stdout",
     "output_type": "stream",
     "text": [
      "2023-11-29 14:24:32 -0600    8896 execution.flow     INFO     Start to run 8 nodes with concurrency level 16.\n",
      "2023-11-29 14:24:32 -0600    8896 execution.flow     INFO     Executing node coherence_score. node run id: 8e933540-5e69-426b-916a-cb9911cb5efb_coherence_score_0\n",
      "2023-11-29 14:24:32 -0600    8896 execution.flow     INFO     Executing node fluency_score. node run id: 8e933540-5e69-426b-916a-cb9911cb5efb_fluency_score_0\n",
      "2023-11-29 14:24:32 -0600    8896 execution.flow     INFO     Executing node groundedness_score. node run id: 8e933540-5e69-426b-916a-cb9911cb5efb_groundedness_score_0\n",
      "2023-11-29 14:24:32 -0600    8896 execution.flow     INFO     Executing node relevance_score. node run id: 8e933540-5e69-426b-916a-cb9911cb5efb_relevance_score_0\n",
      "2023-11-29 14:24:33 -0600    8896 execution.flow     INFO     Node coherence_score completes.\n",
      "2023-11-29 14:24:33 -0600    8896 execution.flow     INFO     Executing node coherence_concat_scores. node run id: 8e933540-5e69-426b-916a-cb9911cb5efb_coherence_concat_scores_0\n",
      "2023-11-29 14:24:33 -0600    8896 execution.flow     INFO     Node coherence_concat_scores completes.\n",
      "2023-11-29 14:24:33 -0600    8896 execution.flow     INFO     Node relevance_score completes.\n",
      "2023-11-29 14:24:33 -0600    8896 execution.flow     INFO     Executing node relevance_concat_scores. node run id: 8e933540-5e69-426b-916a-cb9911cb5efb_relevance_concat_scores_0\n",
      "2023-11-29 14:24:33 -0600    8896 execution.flow     INFO     Node relevance_concat_scores completes.\n",
      "2023-11-29 14:24:33 -0600    8896 execution.flow     INFO     Node fluency_score completes.\n",
      "2023-11-29 14:24:33 -0600    8896 execution.flow     INFO     Executing node fluency_concat_scores. node run id: 8e933540-5e69-426b-916a-cb9911cb5efb_fluency_concat_scores_0\n",
      "2023-11-29 14:24:33 -0600    8896 execution.flow     INFO     Node fluency_concat_scores completes.\n",
      "2023-11-29 14:24:34 -0600    8896 execution.flow     INFO     Node groundedness_score completes.\n",
      "2023-11-29 14:24:34 -0600    8896 execution.flow     INFO     Executing node groundedness_concat_scores. node run id: 8e933540-5e69-426b-916a-cb9911cb5efb_groundedness_concat_scores_0\n",
      "2023-11-29 14:24:34 -0600    8896 execution.flow     INFO     Node groundedness_concat_scores completes.\n",
      "2023-11-29 14:24:34 -0600    8896 execution.flow     INFO     Start to run 4 nodes with concurrency level 16.\n",
      "2023-11-29 14:24:34 -0600    8896 execution.flow     INFO     Executing node coherence_aggregate_variants_results. node run id: 9c7414e7-36f9-4be0-855b-d31455a03ffa_coherence_aggregate_variants_results_reduce\n",
      "2023-11-29 14:24:34 -0600    8896 execution.flow     INFO     Executing node fluency_aggregate_variants_results. node run id: 9c7414e7-36f9-4be0-855b-d31455a03ffa_fluency_aggregate_variants_results_reduce\n",
      "2023-11-29 14:24:34 -0600    8896 execution.flow     INFO     Executing node groundedness_aggregate_variants_results. node run id: 9c7414e7-36f9-4be0-855b-d31455a03ffa_groundedness_aggregate_variants_results_reduce\n",
      "2023-11-29 14:24:34 -0600    8896 execution.flow     INFO     Node coherence_aggregate_variants_results completes.\n",
      "2023-11-29 14:24:34 -0600    8896 execution.flow     INFO     Executing node relevance_aggregate_variants_results. node run id: 9c7414e7-36f9-4be0-855b-d31455a03ffa_relevance_aggregate_variants_results_reduce\n",
      "2023-11-29 14:24:34 -0600    8896 execution.flow     INFO     Node fluency_aggregate_variants_results completes.\n",
      "2023-11-29 14:24:34 -0600    8896 execution.flow     INFO     Node groundedness_aggregate_variants_results completes.\n",
      "2023-11-29 14:24:34 -0600    8896 execution.flow     INFO     Node relevance_aggregate_variants_results completes.\n"
     ]
    }
   ],
   "source": [
    "test_multi = pf_client.test(\n",
    "    \"../eval/multi_flow\",\n",
    "    inputs={\n",
    "        \"question\": question,\n",
    "        \"context\": str(output[\"context\"]),\n",
    "        \"answer\": output[\"answer\"],\n",
    "    },\n",
    ")"
   ]
  },
  {
   "cell_type": "code",
   "execution_count": 23,
   "metadata": {},
   "outputs": [
    {
     "data": {
      "text/plain": [
       "{'gpt_coherence': 5.0,\n",
       " 'gpt_fluency': 5.0,\n",
       " 'gpt_groundedness': 5.0,\n",
       " 'gpt_relevance': 4.0}"
      ]
     },
     "execution_count": 23,
     "metadata": {},
     "output_type": "execute_result"
    }
   ],
   "source": [
    "test_multi"
   ]
  },
  {
   "cell_type": "code",
   "execution_count": null,
   "metadata": {},
   "outputs": [],
   "source": []
  }
 ],
 "metadata": {
  "kernelspec": {
   "display_name": ".venv",
   "language": "python",
   "name": "python3"
  },
  "language_info": {
   "codemirror_mode": {
    "name": "ipython",
    "version": 3
   },
   "file_extension": ".py",
   "mimetype": "text/x-python",
   "name": "python",
   "nbconvert_exporter": "python",
   "pygments_lexer": "ipython3",
   "version": "3.9.18"
  }
 },
 "nbformat": 4,
 "nbformat_minor": 2
}
