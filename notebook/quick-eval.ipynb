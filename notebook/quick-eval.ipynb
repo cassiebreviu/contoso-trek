{
 "cells": [
  {
   "cell_type": "code",
   "execution_count": 1,
   "metadata": {},
   "outputs": [],
   "source": [
    "from promptflow import PFClient\n",
    "\n",
    "question = \"tell me about your jackets\"\n",
    "customerId = \"2\""
   ]
  },
  {
   "cell_type": "code",
   "execution_count": 2,
   "metadata": {},
   "outputs": [
    {
     "name": "stderr",
     "output_type": "stream",
     "text": [
      "[2023-11-29 11:35:21,764][promptflow._sdk.entities._connection][WARNING] - Please use connection.secrets[key] to access secrets.\n"
     ]
    },
    {
     "name": "stdout",
     "output_type": "stream",
     "text": [
      "2023-11-29 11:35:21 -0800   12728 execution.flow     INFO     Start to run 5 nodes with concurrency level 16.\n",
      "2023-11-29 11:35:21 -0800   12728 execution.flow     INFO     Executing node question_embedding. node run id: faa7c71b-eb08-4794-b43d-2487532e430d_question_embedding_0\n",
      "2023-11-29 11:35:21 -0800   12728 execution.flow     INFO     Executing node customer_lookup. node run id: faa7c71b-eb08-4794-b43d-2487532e430d_customer_lookup_0\n",
      "2023-11-29 11:35:24 -0800   12728 execution.flow     INFO     Node question_embedding completes.\n",
      "2023-11-29 11:35:24 -0800   12728 execution.flow     INFO     Executing node retrieve_documentation. node run id: faa7c71b-eb08-4794-b43d-2487532e430d_retrieve_documentation_0\n",
      "2023-11-29 11:35:24 -0800   12728 execution.flow     INFO     Node customer_lookup completes.\n",
      "2023-11-29 11:35:26 -0800   12728 execution.flow     INFO     Node retrieve_documentation completes.\n",
      "2023-11-29 11:35:26 -0800   12728 execution.flow     INFO     Executing node customer_prompt. node run id: faa7c71b-eb08-4794-b43d-2487532e430d_customer_prompt_0\n",
      "2023-11-29 11:35:26 -0800   12728 execution.flow     INFO     Node customer_prompt completes.\n",
      "2023-11-29 11:35:26 -0800   12728 execution.flow     INFO     Executing node llm_response. node run id: faa7c71b-eb08-4794-b43d-2487532e430d_llm_response_0\n",
      "2023-11-29 11:35:26 -0800   12728 execution.flow     WARNING  Output of llm_response is not json serializable, use str to store it.\n",
      "2023-11-29 11:35:26 -0800   12728 execution.flow     INFO     Node llm_response completes.\n"
     ]
    }
   ],
   "source": [
    "pf_client = PFClient()\n",
    "output = pf_client.test(\n",
    "    \"../\",\n",
    "    inputs={\n",
    "        \"chat_history\": [],\n",
    "        \"question\": question,\n",
    "        \"customerId\": customerId,\n",
    "    },\n",
    ")\n",
    "output[\"answer\"] = \"\".join(list(output[\"answer\"]))"
   ]
  },
  {
   "cell_type": "code",
   "execution_count": 3,
   "metadata": {},
   "outputs": [
    {
     "name": "stdout",
     "output_type": "stream",
     "text": [
      "2023-11-29 11:35:30 -0800   12728 execution.flow     INFO     Start to run 2 nodes with concurrency level 16.\n",
      "2023-11-29 11:35:30 -0800   12728 execution.flow     INFO     Executing node groundedness_score. node run id: 9d4c1a29-d518-4952-aa93-23ed52e562f1_groundedness_score_0\n",
      "2023-11-29 11:35:32 -0800   12728 execution.flow     INFO     Node groundedness_score completes.\n",
      "2023-11-29 11:35:32 -0800   12728 execution.flow     INFO     Executing node concat_scores. node run id: 9d4c1a29-d518-4952-aa93-23ed52e562f1_concat_scores_0\n",
      "2023-11-29 11:35:32 -0800   12728 execution.flow     INFO     Node concat_scores completes.\n",
      "2023-11-29 11:35:32 -0800   12728 execution.flow     INFO     Start to run 1 nodes with concurrency level 16.\n",
      "2023-11-29 11:35:32 -0800   12728 execution.flow     INFO     Executing node aggregate_variants_results. node run id: ada04f42-2d8a-4d21-bd34-6407dcc2c35c_aggregate_variants_results_reduce\n",
      "2023-11-29 11:35:32 -0800   12728 execution.flow     INFO     Node aggregate_variants_results completes.\n"
     ]
    }
   ],
   "source": [
    "test = pf_client.test(\n",
    "    \"../eval/groundedness\",\n",
    "    inputs={\n",
    "        \"question\": question,\n",
    "        \"context\": str(output[\"context\"]),\n",
    "        \"answer\": output[\"answer\"],\n",
    "    },\n",
    ")"
   ]
  },
  {
   "cell_type": "code",
   "execution_count": 4,
   "metadata": {},
   "outputs": [
    {
     "data": {
      "text/plain": [
       "{'gpt_groundedness': 5.0}"
      ]
     },
     "execution_count": 4,
     "metadata": {},
     "output_type": "execute_result"
    }
   ],
   "source": [
    "test"
   ]
  },
  {
   "cell_type": "code",
   "execution_count": null,
   "metadata": {},
   "outputs": [],
   "source": []
  }
 ],
 "metadata": {
  "kernelspec": {
   "display_name": ".venv",
   "language": "python",
   "name": "python3"
  },
  "language_info": {
   "codemirror_mode": {
    "name": "ipython",
    "version": 3
   },
   "file_extension": ".py",
   "mimetype": "text/x-python",
   "name": "python",
   "nbconvert_exporter": "python",
   "pygments_lexer": "ipython3",
   "version": "3.11.5"
  }
 },
 "nbformat": 4,
 "nbformat_minor": 2
}
