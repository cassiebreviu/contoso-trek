{
 "cells": [
  {
   "cell_type": "markdown",
   "metadata": {},
   "source": [
    "# Local Evaluation"
   ]
  },
  {
   "cell_type": "code",
   "execution_count": 1,
   "metadata": {},
   "outputs": [],
   "source": [
    "from promptflow import PFClient\n",
    "\n",
    "pf_client = PFClient()"
   ]
  },
  {
   "cell_type": "code",
   "execution_count": 2,
   "metadata": {},
   "outputs": [
    {
     "name": "stderr",
     "output_type": "stream",
     "text": [
      "[2023-11-29 18:13:08,354][promptflow._sdk.entities._connection][WARNING] - Please use connection.secrets[key] to access secrets.\n"
     ]
    },
    {
     "name": "stdout",
     "output_type": "stream",
     "text": [
      "2023-11-29 18:13:08 -0600   39040 execution.flow     INFO     Start to run 5 nodes with concurrency level 16.\n",
      "2023-11-29 18:13:08 -0600   39040 execution.flow     INFO     Executing node question_embedding. node run id: d16a937f-ce36-4eee-b4e5-43ecef979b3b_question_embedding_0\n",
      "2023-11-29 18:13:08 -0600   39040 execution.flow     INFO     Executing node customer_lookup. node run id: d16a937f-ce36-4eee-b4e5-43ecef979b3b_customer_lookup_0\n",
      "2023-11-29 18:13:09 -0600   39040 execution.flow     INFO     Node question_embedding completes.\n",
      "2023-11-29 18:13:09 -0600   39040 execution.flow     INFO     Executing node retrieve_documentation. node run id: d16a937f-ce36-4eee-b4e5-43ecef979b3b_retrieve_documentation_0\n",
      "2023-11-29 18:13:10 -0600   39040 execution.flow     INFO     Node customer_lookup completes.\n",
      "2023-11-29 18:13:10 -0600   39040 execution.flow     INFO     Node retrieve_documentation completes.\n",
      "2023-11-29 18:13:10 -0600   39040 execution.flow     INFO     Executing node customer_prompt. node run id: d16a937f-ce36-4eee-b4e5-43ecef979b3b_customer_prompt_0\n",
      "2023-11-29 18:13:10 -0600   39040 execution.flow     INFO     Node customer_prompt completes.\n",
      "2023-11-29 18:13:10 -0600   39040 execution.flow     INFO     Executing node llm_response. node run id: d16a937f-ce36-4eee-b4e5-43ecef979b3b_llm_response_0\n",
      "2023-11-29 18:13:10 -0600   39040 execution.flow     WARNING  Output of llm_response is not json serializable, use str to store it.\n",
      "2023-11-29 18:13:10 -0600   39040 execution.flow     INFO     Node llm_response completes.\n"
     ]
    }
   ],
   "source": [
    "question = \"What was in my previous order?\"\n",
    "customerId = \"4\"\n",
    "output = pf_client.test(\n",
    "    \"../\",\n",
    "    inputs={\n",
    "        \"chat_history\": [],\n",
    "        \"question\": question,\n",
    "        \"customerId\": customerId,\n",
    "    },\n",
    ")\n",
    "output[\"answer\"] = \"\".join(list(output[\"answer\"]))"
   ]
  },
  {
   "cell_type": "code",
   "execution_count": 3,
   "metadata": {},
   "outputs": [
    {
     "data": {
      "text/plain": [
       "{'answer': 'Hi Sarah Lee! 🌞 As a valued Platinum member, you have purchased the TrailMaster X4 Tent 🏕️ and the CozyNights Sleeping Bag 🌙 in the past, both perfect for any nature enthusiast! 🌳🌼',\n",
       " 'context': [{'id': '19',\n",
       "   'title': 'Adventure Dining Table',\n",
       "   'content': \"Discover the joy of outdoor adventures with the CampBuddy Adventure Dining Table. This feature-packed camping essential brings both comfort and convenience to your memorable trips. Made from high-quality aluminum, it promises long-lasting performance, weather resistance, and easy maintenance - all key for the great outdoors! It's light, portable, and comes with adjustable height settings to suit various seating arrangements and the spacious surface comfortably accommodates meals, drinks, and other essentials. The sturdy yet lightweight frame holds food, dishes, and utensils with ease. When it's time to pack up, it fold and stows away with no fuss, ready for the next adventure!  Perfect for camping, picnics, barbecues, and beach outings - its versatility shines as brightly as the summer sun! Durable, sturdy and a breeze to set up, the Adventure Dining Table will be a loyal companion on every trip. Embark on your next adventure and make lifetime memories with CampBuddy. As with all good experiences, it'll leave you wanting more! \",\n",
       "   'url': '/products/adventure-dining-table'},\n",
       "  {'id': '16',\n",
       "   'title': 'TrailLite Daypack',\n",
       "   'content': \"Step up your hiking game with HikeMate's TrailLite Daypack. Built for comfort and efficiency, this lightweight and durable backpack offers a spacious main compartment, multiple pockets, and organization-friendly features all in one sleek package. The adjustable shoulder straps and padded back panel ensure optimal comfort during those long exhilarating treks. Course through nature without worry as the daypack's water-resistant fabric protects your essentials from unexpected showers. Plus, never run dry with the integrated hydration system. And did we mention it comes in a plethora of colors and designs? So you can choose one that truly speaks to your outdoorsy soul! Keeping your visibility in mind, we've added reflective accents that light up in low-light conditions. Don't just carry a backpack, adorn a companion that takes you a step ahead in your adventures. Trust the TrailLite Daypack for a hassle-free, enjoyable hiking experience.\",\n",
       "   'url': '/products/traillite-daypack'}]}"
      ]
     },
     "execution_count": 3,
     "metadata": {},
     "output_type": "execute_result"
    }
   ],
   "source": [
    "output"
   ]
  },
  {
   "cell_type": "code",
   "execution_count": 4,
   "metadata": {},
   "outputs": [
    {
     "name": "stderr",
     "output_type": "stream",
     "text": [
      "[2023-11-29 18:13:11,183][promptflow._sdk.entities._connection][WARNING] - Please use connection.secrets[key] to access secrets.\n"
     ]
    },
    {
     "name": "stdout",
     "output_type": "stream",
     "text": [
      "2023-11-29 18:13:11 -0600   39040 execution.flow     INFO     Start to run 5 nodes with concurrency level 16.\n",
      "2023-11-29 18:13:11 -0600   39040 execution.flow     INFO     Executing node question_embedding. node run id: 614cfa5e-7c98-4c95-a002-710eade0fe8e_question_embedding_0\n",
      "2023-11-29 18:13:11 -0600   39040 execution.flow     INFO     Executing node customer_lookup. node run id: 614cfa5e-7c98-4c95-a002-710eade0fe8e_customer_lookup_0\n",
      "2023-11-29 18:13:11 -0600   39040 execution.flow     INFO     Node question_embedding completes.\n",
      "2023-11-29 18:13:11 -0600   39040 execution.flow     INFO     Executing node retrieve_documentation. node run id: 614cfa5e-7c98-4c95-a002-710eade0fe8e_retrieve_documentation_0\n",
      "2023-11-29 18:13:12 -0600   39040 execution.flow     INFO     Node customer_lookup completes.\n",
      "2023-11-29 18:13:12 -0600   39040 execution.flow     INFO     Node retrieve_documentation completes.\n",
      "2023-11-29 18:13:12 -0600   39040 execution.flow     INFO     Executing node customer_prompt. node run id: 614cfa5e-7c98-4c95-a002-710eade0fe8e_customer_prompt_0\n",
      "2023-11-29 18:13:12 -0600   39040 execution.flow     INFO     Node customer_prompt completes.\n",
      "2023-11-29 18:13:12 -0600   39040 execution.flow     INFO     Executing node llm_response. node run id: 614cfa5e-7c98-4c95-a002-710eade0fe8e_llm_response_0\n",
      "2023-11-29 18:13:12 -0600   39040 execution.flow     WARNING  Output of llm_response is not json serializable, use str to store it.\n",
      "2023-11-29 18:13:12 -0600   39040 execution.flow     INFO     Node llm_response completes.\n"
     ]
    }
   ],
   "source": [
    "question = \"What is the temperature rating of my sleeping bag?\"\n",
    "customerId = \"4\"\n",
    "output = pf_client.test(\n",
    "    \"../\",\n",
    "    inputs={\n",
    "        \"chat_history\": [],\n",
    "        \"question\": question,\n",
    "        \"customerId\": customerId,\n",
    "    },\n",
    ")\n",
    "output[\"answer\"] = \"\".join(list(output[\"answer\"]))"
   ]
  },
  {
   "cell_type": "code",
   "execution_count": 5,
   "metadata": {},
   "outputs": [
    {
     "name": "stdout",
     "output_type": "stream",
     "text": [
      "2023-11-29 18:13:14 -0600   39040 execution.flow     INFO     Start to run 2 nodes with concurrency level 16.\n",
      "2023-11-29 18:13:14 -0600   39040 execution.flow     INFO     Executing node groundedness_score. node run id: e2f9eeaa-315e-427c-9bcf-a6e3b5a31926_groundedness_score_0\n",
      "2023-11-29 18:13:15 -0600   39040 execution.flow     INFO     Node groundedness_score completes.\n",
      "2023-11-29 18:13:15 -0600   39040 execution.flow     INFO     Executing node concat_scores. node run id: e2f9eeaa-315e-427c-9bcf-a6e3b5a31926_concat_scores_0\n",
      "2023-11-29 18:13:15 -0600   39040 execution.flow     INFO     Node concat_scores completes.\n",
      "2023-11-29 18:13:15 -0600   39040 execution.flow     INFO     Start to run 1 nodes with concurrency level 16.\n",
      "2023-11-29 18:13:15 -0600   39040 execution.flow     INFO     Executing node aggregate_variants_results. node run id: 7fae7f28-307a-4a38-abde-4aa1ddfd989a_aggregate_variants_results_reduce\n",
      "2023-11-29 18:13:15 -0600   39040 execution.flow     INFO     Node aggregate_variants_results completes.\n"
     ]
    }
   ],
   "source": [
    "test = pf_client.test(\n",
    "    \"../eval/groundedness\",\n",
    "    inputs={\n",
    "        \"question\": question,\n",
    "        \"context\": str(output[\"context\"]),\n",
    "        \"answer\": output[\"answer\"],\n",
    "    },\n",
    ")"
   ]
  },
  {
   "cell_type": "code",
   "execution_count": 6,
   "metadata": {},
   "outputs": [
    {
     "data": {
      "text/plain": [
       "{'answer': 'Hi Sarah Lee! Based on the information in our relevant documents, your CozyNights Sleeping Bag features a reliable temperature rating suitable for spring, summer, and fall camping! 🏕️🌞🍁  To complement your sleeping bag, you may want to check out our TrailMaster X4 Tent, which features water-resistant construction and a spacious interior perfect for four occupants. ⛺️👨\\u200d👩\\u200d👧\\u200d👦🌧️',\n",
       " 'context': [{'id': '14',\n",
       "   'title': 'MountainDream Sleeping Bag',\n",
       "   'content': \"Meet the MountainDream Sleeping Bag: your new must-have companion for every outdoor adventure. Designed to handle 3-season camping with ease, it comes equipped with a premium synthetic insulation that will keep you cozy even when temperatures fall down to 15°F! Sporting a durable water-resistant nylon shell and soft breathable polyester lining, this bag doesn't sacrifice comfort for toughness. The star of the show is the contoured mummy shape that not only provides optimal heat retention but also cuts down on the weight. A smooth, snag-free YKK zipper with a unique anti-snag design allows for hassle-free operation, while the adjustable hood and full-length zipper baffle work together to ensure you stay warm all night long. Need to bring along some essentials? Not to worry! There's an interior pocket just for that. And when it's time to pack up? Just slip it into the included compression sack for easy storage and transport. Whether you're a backpacking pro or a camping novice, the MountainDream Sleeping Bag is the perfect blend of durability, warmth, and comfort that you've been looking for.\",\n",
       "   'url': '/products/mountaindream-sleeping-bag'},\n",
       "  {'id': '7',\n",
       "   'title': 'CozyNights Sleeping Bag',\n",
       "   'content': \"Embrace the great outdoors in any season with the lightweight CozyNights Sleeping Bag! This durable three-season bag is superbly designed to give hikers, campers, and backpackers comfort and warmth during spring, summer, and fall. With a compact design that folds down into a convenient stuff sack, you can whisk it away on any adventure without a hitch. The sleeping bag takes comfort seriously, featuring a handy hood, ample room and padding, and a reliable temperature rating. Crafted from high-quality polyester, it ensures long-lasting use and can even be zipped together with another bag for shared comfort. Whether you're gazing at stars or catching a quick nap between trails, the CozyNights Sleeping Bag makes it a treat. Don't just sleep— dream with CozyNights.\",\n",
       "   'url': '/products/cozynights-sleeping-bag'}]}"
      ]
     },
     "execution_count": 6,
     "metadata": {},
     "output_type": "execute_result"
    }
   ],
   "source": [
    "output"
   ]
  },
  {
   "cell_type": "code",
   "execution_count": 7,
   "metadata": {},
   "outputs": [
    {
     "data": {
      "text/plain": [
       "{'gpt_groundedness': 5.0}"
      ]
     },
     "execution_count": 7,
     "metadata": {},
     "output_type": "execute_result"
    }
   ],
   "source": [
    "test"
   ]
  },
  {
   "cell_type": "markdown",
   "metadata": {},
   "source": [
    "## Eval Flow"
   ]
  },
  {
   "cell_type": "code",
   "execution_count": 8,
   "metadata": {},
   "outputs": [
    {
     "name": "stdout",
     "output_type": "stream",
     "text": [
      "2023-11-29 18:13:15 -0600   39040 execution.flow     INFO     Start to run 8 nodes with concurrency level 16.\n",
      "2023-11-29 18:13:15 -0600   39040 execution.flow     INFO     Executing node coherence_score. node run id: 93b4e933-eb6b-41d1-ae6c-15f50c1fde59_coherence_score_0\n",
      "2023-11-29 18:13:15 -0600   39040 execution.flow     INFO     Executing node fluency_score. node run id: 93b4e933-eb6b-41d1-ae6c-15f50c1fde59_fluency_score_0\n",
      "2023-11-29 18:13:15 -0600   39040 execution.flow     INFO     Executing node groundedness_score. node run id: 93b4e933-eb6b-41d1-ae6c-15f50c1fde59_groundedness_score_0\n",
      "2023-11-29 18:13:15 -0600   39040 execution.flow     INFO     Executing node relevance_score. node run id: 93b4e933-eb6b-41d1-ae6c-15f50c1fde59_relevance_score_0\n",
      "2023-11-29 18:13:17 -0600   39040 execution.flow     INFO     Node coherence_score completes.\n",
      "2023-11-29 18:13:17 -0600   39040 execution.flow     INFO     Executing node coherence_concat_scores. node run id: 93b4e933-eb6b-41d1-ae6c-15f50c1fde59_coherence_concat_scores_0\n",
      "2023-11-29 18:13:17 -0600   39040 execution.flow     INFO     Node coherence_concat_scores completes.\n",
      "2023-11-29 18:13:17 -0600   39040 execution.flow     INFO     Node fluency_score completes.\n",
      "2023-11-29 18:13:17 -0600   39040 execution.flow     INFO     Executing node fluency_concat_scores. node run id: 93b4e933-eb6b-41d1-ae6c-15f50c1fde59_fluency_concat_scores_0\n",
      "2023-11-29 18:13:17 -0600   39040 execution.flow     INFO     Node fluency_concat_scores completes.\n",
      "2023-11-29 18:13:17 -0600   39040 execution.flow     INFO     Node relevance_score completes.\n",
      "2023-11-29 18:13:17 -0600   39040 execution.flow     INFO     Executing node relevance_concat_scores. node run id: 93b4e933-eb6b-41d1-ae6c-15f50c1fde59_relevance_concat_scores_0\n",
      "2023-11-29 18:13:17 -0600   39040 execution.flow     INFO     Node relevance_concat_scores completes.\n",
      "2023-11-29 18:13:17 -0600   39040 execution.flow     INFO     Node groundedness_score completes.\n",
      "2023-11-29 18:13:17 -0600   39040 execution.flow     INFO     Executing node groundedness_concat_scores. node run id: 93b4e933-eb6b-41d1-ae6c-15f50c1fde59_groundedness_concat_scores_0\n",
      "2023-11-29 18:13:17 -0600   39040 execution.flow     INFO     Node groundedness_concat_scores completes.\n",
      "2023-11-29 18:13:17 -0600   39040 execution.flow     INFO     Start to run 4 nodes with concurrency level 16.\n",
      "2023-11-29 18:13:17 -0600   39040 execution.flow     INFO     Executing node coherence_aggregate_variants_results. node run id: 4d118ede-de8f-4821-9a00-0f28257bfe61_coherence_aggregate_variants_results_reduce\n",
      "2023-11-29 18:13:17 -0600   39040 execution.flow     INFO     Executing node fluency_aggregate_variants_results. node run id: 4d118ede-de8f-4821-9a00-0f28257bfe61_fluency_aggregate_variants_results_reduce\n",
      "2023-11-29 18:13:17 -0600   39040 execution.flow     INFO     Executing node groundedness_aggregate_variants_results. node run id: 4d118ede-de8f-4821-9a00-0f28257bfe61_groundedness_aggregate_variants_results_reduce\n",
      "2023-11-29 18:13:17 -0600   39040 execution.flow     INFO     Node coherence_aggregate_variants_results completes.\n",
      "2023-11-29 18:13:17 -0600   39040 execution.flow     INFO     Executing node relevance_aggregate_variants_results. node run id: 4d118ede-de8f-4821-9a00-0f28257bfe61_relevance_aggregate_variants_results_reduce\n",
      "2023-11-29 18:13:17 -0600   39040 execution.flow     INFO     Node fluency_aggregate_variants_results completes.\n",
      "2023-11-29 18:13:17 -0600   39040 execution.flow     INFO     Node groundedness_aggregate_variants_results completes.\n",
      "2023-11-29 18:13:17 -0600   39040 execution.flow     INFO     Node relevance_aggregate_variants_results completes.\n"
     ]
    }
   ],
   "source": [
    "test_multi = pf_client.test(\n",
    "    \"../eval/multi_flow\",\n",
    "    inputs={\n",
    "        \"question\": question,\n",
    "        \"context\": str(output[\"context\"]),\n",
    "        \"answer\": output[\"answer\"],\n",
    "    },\n",
    ")"
   ]
  },
  {
   "cell_type": "code",
   "execution_count": 9,
   "metadata": {},
   "outputs": [
    {
     "data": {
      "text/plain": [
       "{'gpt_coherence': 4.0,\n",
       " 'gpt_fluency': 5.0,\n",
       " 'gpt_groundedness': 3.0,\n",
       " 'gpt_relevance': 2.0}"
      ]
     },
     "execution_count": 9,
     "metadata": {},
     "output_type": "execute_result"
    }
   ],
   "source": [
    "test_multi"
   ]
  },
  {
   "cell_type": "markdown",
   "metadata": {},
   "source": [
    "# Cloud Evalution"
   ]
  },
  {
   "cell_type": "code",
   "execution_count": 33,
   "metadata": {},
   "outputs": [],
   "source": [
    "import json\n",
    "# Import required libraries\n",
    "from promptflow.azure import PFClient\n",
    "\n",
    "# Import required libraries\n",
    "from azure.identity import DefaultAzureCredential, InteractiveBrowserCredential"
   ]
  },
  {
   "cell_type": "code",
   "execution_count": 34,
   "metadata": {},
   "outputs": [],
   "source": [
    "try:\n",
    "    credential = DefaultAzureCredential()\n",
    "    # Check if given credential can get token successfully.\n",
    "    credential.get_token(\"https://management.azure.com/.default\")\n",
    "except Exception as ex:\n",
    "    # Fall back to InteractiveBrowserCredential in case DefaultAzureCredential not work\n",
    "    credential = InteractiveBrowserCredential()"
   ]
  },
  {
   "cell_type": "code",
   "execution_count": 35,
   "metadata": {},
   "outputs": [
    {
     "name": "stderr",
     "output_type": "stream",
     "text": [
      "Found the config file in: ..\\config.json\n"
     ]
    }
   ],
   "source": [
    "config_path = \"../config.json\"\n",
    "pf = PFClient.from_config(credential=credential, path=config_path)"
   ]
  },
  {
   "cell_type": "code",
   "execution_count": 36,
   "metadata": {},
   "outputs": [],
   "source": [
    "runtime = \"contoso-retail-runtime\"\n",
    "# load flow\n",
    "flow = \"../\"\n",
    "data = \"../data/testdata.jsonl\""
   ]
  },
  {
   "cell_type": "code",
   "execution_count": 38,
   "metadata": {},
   "outputs": [
    {
     "name": "stdout",
     "output_type": "stream",
     "text": [
      "Portal url: https://ml.azure.com/prompts/flow/bulkrun/run/contoso_trek_variant_0_20231129_183349_136243/details?wsid=/subscriptions/91d27443-f037-45d9-bb0c-428256992df6/resourceGroups/rg-contosooutdoors/providers/Microsoft.MachineLearningServices/workspaces/contoso-store\n",
      "name: contoso_trek_variant_0_20231129_183349_136243\n",
      "created_on: '2023-11-30T00:34:02.934915+00:00'\n",
      "status: Preparing\n",
      "display_name: contoso-trek\n",
      "description: null\n",
      "tags: {}\n",
      "properties:\n",
      "  azureml.promptflow.runtime_name: contoso-retail-runtime\n",
      "  azureml.promptflow.runtime_version: 20231024.v1\n",
      "  azureml.promptflow.definition_file_name: flow.dag.yaml\n",
      "  azureml.promptflow.session_id: c284997311bc83cae62ec6a3be730410617ebd278b1f935c\n",
      "  azureml.promptflow.flow_lineage_id: 429e1e6d26688d24763c13521763a396c1f37974a875a82d49bb0ba9df1dc560\n",
      "  azureml.promptflow.flow_definition_datastore_name: workspaceblobstore\n",
      "  azureml.promptflow.flow_definition_blob_path: LocalUpload/8bd72b0ef84f950082b81cab090a58c5/contoso-trek/flow.dag.yaml\n",
      "  azureml.promptflow.snapshot_id: d8743b48-ccde-445a-ba12-129a08e350c4\n",
      "  _azureml.evaluation_run: promptflow.BatchRun\n",
      "creation_context:\n",
      "  userObjectId: 50c2d972-de75-441d-ab86-ce5b387ed84a\n",
      "  userPuId: 1003200035704ECF\n",
      "  userIdp: null\n",
      "  userAltSecId: null\n",
      "  userIss: https://sts.windows.net/72f988bf-86f1-41af-91ab-2d7cd011db47/\n",
      "  userTenantId: 72f988bf-86f1-41af-91ab-2d7cd011db47\n",
      "  userName: Cassie Breviu\n",
      "  upn: null\n",
      "start_time: null\n",
      "end_time: null\n",
      "duration: null\n",
      "portal_url: https://ml.azure.com/prompts/flow/bulkrun/run/contoso_trek_variant_0_20231129_183349_136243/details?wsid=/subscriptions/91d27443-f037-45d9-bb0c-428256992df6/resourceGroups/rg-contosooutdoors/providers/Microsoft.MachineLearningServices/workspaces/contoso-store\n",
      "data: azureml://datastores/workspaceblobstore/paths/LocalUpload/da7da0535829a1c714482f457f2a936e/testdata.jsonl\n",
      "data_portal_url: https://ml.azure.com/data/datastore/workspaceblobstore/edit?wsid=/subscriptions/91d27443-f037-45d9-bb0c-428256992df6/resourceGroups/rg-contosooutdoors/providers/Microsoft.MachineLearningServices/workspaces/contoso-store&activeFilePath=LocalUpload/da7da0535829a1c714482f457f2a936e/testdata.jsonl#browseTab\n",
      "output: null\n",
      "output_portal_url: null\n",
      "\n"
     ]
    }
   ],
   "source": [
    "# create run\n",
    "base_run = pf.run(\n",
    "    flow=flow,\n",
    "    data=data,\n",
    "    runtime=runtime,\n",
    ")\n",
    "print(base_run)"
   ]
  },
  {
   "cell_type": "code",
   "execution_count": 39,
   "metadata": {},
   "outputs": [
    {
     "name": "stdout",
     "output_type": "stream",
     "text": [
      "2023-11-30 00:34:08 +0000     152 promptflow-runtime INFO     [contoso_trek_variant_0_20231129_183349_136243] Receiving v2 bulk run request ec7ff076-e211-420e-86db-b5b1b2abc6d9: {\"flow_id\": \"contoso_trek_variant_0_20231129_183349_136243\", \"flow_run_id\": \"contoso_trek_variant_0_20231129_183349_136243\", \"flow_source\": {\"flow_source_type\": 1, \"flow_source_info\": {\"snapshot_id\": \"d8743b48-ccde-445a-ba12-129a08e350c4\"}, \"flow_dag_file\": \"flow.dag.yaml\"}, \"connections\": \"**data_scrubbed**\", \"log_path\": \"https://stcontosoout446048492429.blob.core.windows.net/azureml/ExperimentRun/dcid.contoso_trek_variant_0_20231129_183349_136243/logs/azureml/executionlogs.txt?sv=2019-07-07&sr=b&sig=**data_scrubbed**&skoid=6a9cdc9c-374e-4dae-aeb3-39ff5126526d&sktid=72f988bf-86f1-41af-91ab-2d7cd011db47&skt=2023-11-29T22%3A56%3A02Z&ske=2023-12-01T07%3A06%3A02Z&sks=b&skv=2019-07-07&st=2023-11-30T00%3A24%3A04Z&se=2023-11-30T08%3A34%3A04Z&sp=rcw\", \"app_insights_instrumentation_key\": \"InstrumentationKey=**data_scrubbed**;IngestionEndpoint=https://eastus-6.in.applicationinsights.azure.com/;LiveEndpoint=https://eastus.livediagnostics.monitor.azure.com/\", \"data_inputs\": {\"data\": \"azureml://datastores/workspaceblobstore/paths/LocalUpload/da7da0535829a1c714482f457f2a936e/testdata.jsonl\"}, \"azure_storage_setting\": {\"azure_storage_mode\": 1, \"storage_account_name\": \"stcontosoout446048492429\", \"blob_container_name\": \"azureml-blobstore-4ab2cc7d-74ab-4a3f-9ce1-218668c55b0e\", \"flow_artifacts_root_path\": \"promptflow/PromptFlowArtifacts/contoso_trek_variant_0_20231129_183349_136243\", \"blob_container_sas_token\": \"?sv=2019-07-07&sr=c&sig=**data_scrubbed**&skoid=6a9cdc9c-374e-4dae-aeb3-39ff5126526d&sktid=72f988bf-86f1-41af-91ab-2d7cd011db47&skt=2023-11-30T00%3A34%3A06Z&ske=2023-12-07T00%3A34%3A06Z&sks=b&skv=2019-07-07&se=2023-12-07T00%3A34%3A06Z&sp=racwl\", \"output_datastore_name\": \"workspaceblobstore\"}}\n",
      "2023-11-30 00:34:08 +0000     152 promptflow-runtime INFO     Runtime version: 20231024.v1. PromptFlow version: 0.1.0b8.dev5\n",
      "2023-11-30 00:34:08 +0000     152 promptflow-runtime INFO     Running <function RunHistoryClient.get_run at 0x7f0eed4be310>, 3 more tries to go.\n",
      "2023-11-30 00:34:08 +0000     152 promptflow-runtime INFO     Running <function RunHistoryClient.get_run at 0x7f0eed4be280>, 3 more tries to go.\n",
      "2023-11-30 00:34:08 +0000     152 promptflow-runtime INFO     Running <function RunHistoryClient.update_run_status at 0x7f0eed4be0d0>, 3 more tries to go.\n",
      "2023-11-30 00:34:08 +0000     152 promptflow-runtime INFO     Updating contoso_trek_variant_0_20231129_183349_136243 to Status.Preparing...\n",
      "2023-11-30 00:34:09 +0000     152 promptflow-runtime INFO     Starting to check process 2128 status for run contoso_trek_variant_0_20231129_183349_136243\n",
      "2023-11-30 00:34:09 +0000     152 promptflow-runtime INFO     Start checking run status for bulk run contoso_trek_variant_0_20231129_183349_136243\n",
      "2023-11-30 00:34:09 +0000     152 promptflow-runtime INFO     Start checking run status for run contoso_trek_variant_0_20231129_183349_136243\n",
      "2023-11-30 00:34:09 +0000    2128 promptflow-runtime INFO     [152--2128] Start processing flowV2......\n",
      "2023-11-30 00:34:09 +0000    2128 promptflow-runtime INFO     Setting mlflow tracking uri...\n",
      "2023-11-30 00:34:09 +0000    2128 promptflow-runtime INFO     Validating 'AzureML Data Scientist' user authentication...\n",
      "2023-11-30 00:34:09 +0000    2128 promptflow-runtime INFO     Running <function RuntimeConfig.validate_by_get_dummy_run at 0x7f0eed4c8790>, 5 more tries to go.\n",
      "2023-11-30 00:34:09 +0000    2128 promptflow-runtime INFO     Successfully validated 'AzureML Data Scientist' user authentication.\n",
      "2023-11-30 00:34:09 +0000    2128 promptflow-runtime INFO     Using AzureMLRunStorageV2\n",
      "2023-11-30 00:34:09 +0000    2128 promptflow-runtime INFO     Setting mlflow tracking uri to 'azureml://eastus.api.azureml.ms/mlflow/v1.0/subscriptions/91d27443-f037-45d9-bb0c-428256992df6/resourceGroups/rg-contosooutdoors/providers/Microsoft.MachineLearningServices/workspaces/contoso-store'\n",
      "2023-11-30 00:34:09 +0000    2128 promptflow-runtime INFO     Running <function MlflowHelper.get_host_creds at 0x7f0eb99abb80>, 5 more tries to go.\n",
      "2023-11-30 00:34:10 +0000    2128 promptflow-runtime INFO     Initialized blob service client for AzureMLRunTracker.\n",
      "2023-11-30 00:34:10 +0000    2128 promptflow-runtime INFO     Setting mlflow tracking uri to 'azureml://eastus.api.azureml.ms/mlflow/v1.0/subscriptions/91d27443-f037-45d9-bb0c-428256992df6/resourceGroups/rg-contosooutdoors/providers/Microsoft.MachineLearningServices/workspaces/contoso-store'\n",
      "2023-11-30 00:34:10 +0000    2128 promptflow-runtime INFO     Running <function MlflowHelper.get_host_creds at 0x7f0eb99abb80>, 5 more tries to go.\n",
      "2023-11-30 00:34:10 +0000    2128 promptflow-runtime INFO     Running <function SnapshotsClient.download_snapshot at 0x7f0eec8104c0>, 3 more tries to go.\n",
      "2023-11-30 00:34:10 +0000    2128 promptflow-runtime INFO     Get snapshot sas url for d8743b48-ccde-445a-ba12-129a08e350c4...\n",
      "2023-11-30 00:34:29 +0000     152 promptflow-runtime INFO     Running <function RunHistoryClient.get_run at 0x7f0eed4be310>, 3 more tries to go.\n",
      "2023-11-30 00:34:29 +0000     152 promptflow-runtime INFO     Running <function RunHistoryClient.get_run at 0x7f0eed4be280>, 3 more tries to go.\n",
      "2023-11-30 00:34:29 +0000     152 promptflow-runtime INFO     Run contoso_trek_variant_0_20231129_183349_136243 is in progress, Execution status: Preparing\n",
      "(Run status is 'Running', continue streaming...)\n",
      "2023-11-30 00:34:38 +0000    2128 promptflow-runtime INFO     Downloading snapshot d8743b48-ccde-445a-ba12-129a08e350c4 from uri https://stcontosoout446048492429.blob.core.windows.net/snapshotzips/contoso-store:4ab2cc7d-74ab-4a3f-9ce1-218668c55b0e:snapshotzip/d8743b48-ccde-445a-ba12-129a08e350c4.zip...\n",
      "2023-11-30 00:34:38 +0000    2128 promptflow-runtime INFO     Downloaded file /service/app/38491/requests/contoso_trek_variant_0_20231129_183349_136243/d8743b48-ccde-445a-ba12-129a08e350c4.zip with size 102736 for snapshot d8743b48-ccde-445a-ba12-129a08e350c4.\n",
      "2023-11-30 00:34:38 +0000    2128 promptflow-runtime INFO     Download snapshot d8743b48-ccde-445a-ba12-129a08e350c4 completed.\n",
      "2023-11-30 00:34:38 +0000    2128 promptflow-runtime INFO     Running <function prepare_data at 0x7f0eb64f33a0>, 3 more tries to go.\n",
      "2023-11-30 00:34:38 +0000    2128 promptflow-runtime INFO     Resolve data from url finished in 0.45359257934615016 seconds\n",
      "2023-11-30 00:34:38 +0000    2128 promptflow-runtime INFO     Flow run is not terminated, skip persisting flow run record.\n",
      "2023-11-30 00:34:38 +0000    2128 promptflow-runtime INFO     Starting the aml run 'contoso_trek_variant_0_20231129_183349_136243'...\n",
      "2023-11-30 00:34:39 +0000    2128 execution          WARNING  Starting run without column mapping may lead to unexpected results. Please consult the following documentation for more information: https://aka.ms/pf/column-mapping\n",
      "2023-11-30 00:34:39 +0000    2128 execution.bulk     INFO     Using fork, process count: 5\n",
      "2023-11-30 00:34:39 +0000    2160 execution          INFO     Process 2160 started.\n",
      "2023-11-30 00:34:39 +0000    2171 execution          INFO     Process 2171 started.\n",
      "2023-11-30 00:34:39 +0000    2175 execution          INFO     Process 2175 started.\n",
      "2023-11-30 00:34:39 +0000    2179 execution          INFO     Process 2179 started.\n",
      "2023-11-30 00:34:39 +0000    2128 execution          INFO     Process name: Process-20:4, Process id: 2171, Line number: 0 start execution.\n",
      "2023-11-30 00:34:39 +0000    2128 promptflow-runtime INFO     Flow run is not terminated, skip persisting flow run record.\n",
      "2023-11-30 00:34:39 +0000    2128 execution          INFO     Process name: Process-20:6, Process id: 2175, Line number: 1 start execution.\n",
      "2023-11-30 00:34:40 +0000    2128 promptflow-runtime INFO     Flow run is not terminated, skip persisting flow run record.\n",
      "2023-11-30 00:34:39 +0000    2128 execution          INFO     Process name: Process-20:5, Process id: 2179, Line number: 2 start execution.\n",
      "2023-11-30 00:34:40 +0000    2128 promptflow-runtime INFO     Flow run is not terminated, skip persisting flow run record.\n",
      "2023-11-30 00:34:41 +0000    2128 execution          INFO     Process name: Process-20:6, Process id: 2175, Line number: 1 completed.\n",
      "2023-11-30 00:34:41 +0000    2128 execution.bulk     INFO     Finished 2 / 5 lines.\n",
      "2023-11-30 00:34:41 +0000    2128 execution.bulk     INFO     Average execution time for completed lines: 1.16 seconds. Estimated time for incomplete lines: 3.48 seconds.\n",
      "2023-11-30 00:34:41 +0000    2128 execution          INFO     Process name: Process-20:4, Process id: 2171, Line number: 0 completed.\n",
      "2023-11-30 00:34:41 +0000    2128 execution.bulk     INFO     Finished 2 / 5 lines.\n",
      "2023-11-30 00:34:41 +0000    2128 execution.bulk     INFO     Average execution time for completed lines: 1.24 seconds. Estimated time for incomplete lines: 3.72 seconds.\n",
      "2023-11-30 00:34:41 +0000    2128 execution          INFO     Process name: Process-20:6, Process id: 2175, Line number: 3 start execution.\n",
      "2023-11-30 00:34:42 +0000    2128 promptflow-runtime INFO     Flow run is not terminated, skip persisting flow run record.\n",
      "2023-11-30 00:34:41 +0000    2128 execution          INFO     Process name: Process-20:5, Process id: 2179, Line number: 2 completed.\n",
      "2023-11-30 00:34:42 +0000    2128 execution.bulk     INFO     Finished 3 / 5 lines.\n",
      "2023-11-30 00:34:42 +0000    2128 execution.bulk     INFO     Average execution time for completed lines: 0.97 seconds. Estimated time for incomplete lines: 1.94 seconds.\n",
      "2023-11-30 00:34:41 +0000    2128 execution          INFO     Process name: Process-20:4, Process id: 2171, Line number: 4 start execution.\n",
      "2023-11-30 00:34:42 +0000    2128 promptflow-runtime INFO     Flow run is not terminated, skip persisting flow run record.\n",
      "2023-11-30 00:34:43 +0000    2128 execution          INFO     Process name: Process-20:6, Process id: 2175, Line number: 3 completed.\n",
      "2023-11-30 00:34:43 +0000    2128 execution.bulk     INFO     Finished 4 / 5 lines.\n",
      "2023-11-30 00:34:43 +0000    2128 execution.bulk     INFO     Average execution time for completed lines: 1.02 seconds. Estimated time for incomplete lines: 1.02 seconds.\n",
      "2023-11-30 00:34:44 +0000    2128 execution          INFO     Process name: Process-20:4, Process id: 2171, Line number: 4 completed.\n",
      "2023-11-30 00:34:44 +0000    2128 execution.bulk     INFO     Finished 5 / 5 lines.\n",
      "2023-11-30 00:34:44 +0000    2128 execution.bulk     INFO     Average execution time for completed lines: 0.95 seconds. Estimated time for incomplete lines: 0.0 seconds.\n",
      "2023-11-30 00:34:49 +0000     152 promptflow-runtime INFO     Running <function RunHistoryClient.get_run at 0x7f0eed4be310>, 3 more tries to go.\n",
      "2023-11-30 00:34:49 +0000     152 promptflow-runtime INFO     Running <function RunHistoryClient.get_run at 0x7f0eed4be280>, 3 more tries to go.\n",
      "2023-11-30 00:34:49 +0000     152 promptflow-runtime INFO     Run contoso_trek_variant_0_20231129_183349_136243 is in progress, Execution status: Running\n",
      "2023-11-30 00:34:39 +0000    2164 execution          INFO     Process 2164 started.\n",
      "2023-11-30 00:34:39 +0000    2160 execution          INFO     Process 2160 started.\n",
      "2023-11-30 00:35:02 +0000    2128 execution.bulk     INFO     Upload status summary metrics for run contoso_trek_variant_0_20231129_183349_136243 finished in 2.796496966853738 seconds\n",
      "2023-11-30 00:35:02 +0000    2128 promptflow-runtime INFO     Successfully write run properties {\"azureml.promptflow.total_tokens\": 6365, \"_azureml.evaluate_artifacts\": \"[{\\\"path\\\": \\\"instance_results.jsonl\\\", \\\"type\\\": \\\"table\\\"}]\"} with run id 'contoso_trek_variant_0_20231129_183349_136243'\n",
      "2023-11-30 00:35:02 +0000    2128 execution.bulk     INFO     Upload RH properties for run contoso_trek_variant_0_20231129_183349_136243 finished in 0.06263475771993399 seconds\n",
      "2023-11-30 00:35:02 +0000    2128 promptflow-runtime INFO     Running <function AssetClient.create_unregistered_output at 0x7f0ee5f31820>, 3 more tries to go.\n",
      "2023-11-30 00:35:02 +0000    2128 promptflow-runtime INFO     Creating unregistered output Asset for Run contoso_trek_variant_0_20231129_183349_136243...\n",
      "2023-11-30 00:35:03 +0000    2128 promptflow-runtime INFO     Created debug_info Asset: azureml://locations/eastus/workspaces/4ab2cc7d-74ab-4a3f-9ce1-218668c55b0e/data/azureml_contoso_trek_variant_0_20231129_183349_136243_output_data_debug_info/versions/1\n",
      "2023-11-30 00:35:03 +0000    2128 promptflow-runtime INFO     Running <function AssetClient.create_unregistered_output at 0x7f0ee5f31820>, 3 more tries to go.\n",
      "2023-11-30 00:35:03 +0000    2128 promptflow-runtime INFO     Creating unregistered output Asset for Run contoso_trek_variant_0_20231129_183349_136243...\n",
      "2023-11-30 00:35:03 +0000    2128 promptflow-runtime INFO     Created flow_outputs output Asset: azureml://locations/eastus/workspaces/4ab2cc7d-74ab-4a3f-9ce1-218668c55b0e/data/azureml_contoso_trek_variant_0_20231129_183349_136243_output_data_flow_outputs/versions/1\n",
      "2023-11-30 00:35:03 +0000    2128 promptflow-runtime INFO     Running <function ArtifactClient.register_artifact at 0x7f0ee5f31af0>, 3 more tries to go.\n",
      "2023-11-30 00:35:03 +0000    2128 promptflow-runtime INFO     Creating Artifact for Run contoso_trek_variant_0_20231129_183349_136243...\n",
      "2023-11-30 00:35:03 +0000    2128 promptflow-runtime INFO     Created instance_results.jsonl Artifact.\n",
      "2023-11-30 00:35:03 +0000    2128 promptflow-runtime INFO     Running <function RunHistoryClient.patch_run at 0x7f0eed4b7f70>, 3 more tries to go.\n",
      "2023-11-30 00:35:03 +0000    2128 promptflow-runtime INFO     Patching contoso_trek_variant_0_20231129_183349_136243...\n",
      "2023-11-30 00:35:03 +0000    2128 promptflow-runtime INFO     Ending the aml run 'contoso_trek_variant_0_20231129_183349_136243' with status 'Completed'...\n",
      "2023-11-30 00:35:04 +0000     152 promptflow-runtime INFO     Process 2128 finished\n",
      "2023-11-30 00:35:04 +0000     152 promptflow-runtime INFO     [152] Child process finished!\n",
      "2023-11-30 00:35:04 +0000     152 promptflow-runtime INFO     [contoso_trek_variant_0_20231129_183349_136243] End processing bulk run\n",
      "2023-11-30 00:35:09 +0000     152 promptflow-runtime INFO     Running <function RunHistoryClient.get_run at 0x7f0eed4be310>, 3 more tries to go.\n",
      "2023-11-30 00:35:09 +0000     152 promptflow-runtime INFO     Running <function RunHistoryClient.get_run at 0x7f0eed4be280>, 3 more tries to go.\n",
      "2023-11-30 00:35:09 +0000     152 promptflow-runtime INFO     Run contoso_trek_variant_0_20231129_183349_136243 is in progress, Execution status: Completed\n",
      "======= Run Summary =======\n",
      "Run name: \"contoso_trek_variant_0_20231129_183349_136243\"\n",
      "Run status: \"Completed\"\n",
      "Start time: \"2023-11-30 00:34:39.074157+00:00\"\n",
      "Duration: \"0:00:24.919022\"\n",
      "Run url: \"https://ml.azure.com/prompts/flow/bulkrun/run/contoso_trek_variant_0_20231129_183349_136243/details?wsid=/subscriptions/91d27443-f037-45d9-bb0c-428256992df6/resourceGroups/rg-contosooutdoors/providers/Microsoft.MachineLearningServices/workspaces/contoso-store\""
     ]
    },
    {
     "data": {
      "text/plain": [
       "<promptflow._sdk.entities._run.Run at 0x1e6bd26df70>"
      ]
     },
     "execution_count": 39,
     "metadata": {},
     "output_type": "execute_result"
    }
   ],
   "source": [
    "pf.stream(base_run)"
   ]
  },
  {
   "cell_type": "code",
   "execution_count": 40,
   "metadata": {},
   "outputs": [
    {
     "data": {
      "text/html": [
       "<div>\n",
       "<style scoped>\n",
       "    .dataframe tbody tr th:only-of-type {\n",
       "        vertical-align: middle;\n",
       "    }\n",
       "\n",
       "    .dataframe tbody tr th {\n",
       "        vertical-align: top;\n",
       "    }\n",
       "\n",
       "    .dataframe thead th {\n",
       "        text-align: right;\n",
       "    }\n",
       "</style>\n",
       "<table border=\"1\" class=\"dataframe\">\n",
       "  <thead>\n",
       "    <tr style=\"text-align: right;\">\n",
       "      <th></th>\n",
       "      <th>inputs.chat_history</th>\n",
       "      <th>inputs.line_number</th>\n",
       "      <th>inputs.question</th>\n",
       "      <th>inputs.customerId</th>\n",
       "      <th>outputs.answer</th>\n",
       "      <th>outputs.context</th>\n",
       "    </tr>\n",
       "    <tr>\n",
       "      <th>outputs.line_number</th>\n",
       "      <th></th>\n",
       "      <th></th>\n",
       "      <th></th>\n",
       "      <th></th>\n",
       "      <th></th>\n",
       "      <th></th>\n",
       "    </tr>\n",
       "  </thead>\n",
       "  <tbody>\n",
       "    <tr>\n",
       "      <th>1</th>\n",
       "      <td>[]</td>\n",
       "      <td>1</td>\n",
       "      <td>What can you tell me about your jackets?</td>\n",
       "      <td>2</td>\n",
       "      <td>Hi Jane! 🌟 Based on your previous purchases of...</td>\n",
       "      <td>[{'id': '3', 'title': 'Summit Breeze Jacket', ...</td>\n",
       "    </tr>\n",
       "    <tr>\n",
       "      <th>0</th>\n",
       "      <td>[]</td>\n",
       "      <td>0</td>\n",
       "      <td>What can you tell me about your jackets?</td>\n",
       "      <td>2</td>\n",
       "      <td>Hi Jane Doe! 😊 MountainStyle offers two great ...</td>\n",
       "      <td>[{'id': '3', 'title': 'Summit Breeze Jacket', ...</td>\n",
       "    </tr>\n",
       "    <tr>\n",
       "      <th>2</th>\n",
       "      <td>[]</td>\n",
       "      <td>2</td>\n",
       "      <td>What can you tell me about your jackets?</td>\n",
       "      <td>2</td>\n",
       "      <td>Hi Jane Doe! If you're looking for amazing out...</td>\n",
       "      <td>[{'id': '3', 'title': 'Summit Breeze Jacket', ...</td>\n",
       "    </tr>\n",
       "    <tr>\n",
       "      <th>3</th>\n",
       "      <td>[]</td>\n",
       "      <td>3</td>\n",
       "      <td>What can you tell me about your jackets?</td>\n",
       "      <td>2</td>\n",
       "      <td>Hi Jane! 😊 We have two great hiking jackets th...</td>\n",
       "      <td>[{'id': '3', 'title': 'Summit Breeze Jacket', ...</td>\n",
       "    </tr>\n",
       "    <tr>\n",
       "      <th>4</th>\n",
       "      <td>[]</td>\n",
       "      <td>4</td>\n",
       "      <td>What can you tell me about your jackets?</td>\n",
       "      <td>2</td>\n",
       "      <td>Hi Jane Doe! We have Summit Breeze Jacket and ...</td>\n",
       "      <td>[{'id': '3', 'title': 'Summit Breeze Jacket', ...</td>\n",
       "    </tr>\n",
       "  </tbody>\n",
       "</table>\n",
       "</div>"
      ],
      "text/plain": [
       "                    inputs.chat_history  inputs.line_number  \\\n",
       "outputs.line_number                                           \n",
       "1                                    []                   1   \n",
       "0                                    []                   0   \n",
       "2                                    []                   2   \n",
       "3                                    []                   3   \n",
       "4                                    []                   4   \n",
       "\n",
       "                                              inputs.question  \\\n",
       "outputs.line_number                                             \n",
       "1                    What can you tell me about your jackets?   \n",
       "0                    What can you tell me about your jackets?   \n",
       "2                    What can you tell me about your jackets?   \n",
       "3                    What can you tell me about your jackets?   \n",
       "4                    What can you tell me about your jackets?   \n",
       "\n",
       "                    inputs.customerId  \\\n",
       "outputs.line_number                     \n",
       "1                                   2   \n",
       "0                                   2   \n",
       "2                                   2   \n",
       "3                                   2   \n",
       "4                                   2   \n",
       "\n",
       "                                                        outputs.answer  \\\n",
       "outputs.line_number                                                      \n",
       "1                    Hi Jane! 🌟 Based on your previous purchases of...   \n",
       "0                    Hi Jane Doe! 😊 MountainStyle offers two great ...   \n",
       "2                    Hi Jane Doe! If you're looking for amazing out...   \n",
       "3                    Hi Jane! 😊 We have two great hiking jackets th...   \n",
       "4                    Hi Jane Doe! We have Summit Breeze Jacket and ...   \n",
       "\n",
       "                                                       outputs.context  \n",
       "outputs.line_number                                                     \n",
       "1                    [{'id': '3', 'title': 'Summit Breeze Jacket', ...  \n",
       "0                    [{'id': '3', 'title': 'Summit Breeze Jacket', ...  \n",
       "2                    [{'id': '3', 'title': 'Summit Breeze Jacket', ...  \n",
       "3                    [{'id': '3', 'title': 'Summit Breeze Jacket', ...  \n",
       "4                    [{'id': '3', 'title': 'Summit Breeze Jacket', ...  "
      ]
     },
     "execution_count": 40,
     "metadata": {},
     "output_type": "execute_result"
    }
   ],
   "source": [
    "details = pf.get_details(base_run)\n",
    "details.head(10)"
   ]
  },
  {
   "cell_type": "markdown",
   "metadata": {},
   "source": [
    "# Cloud Eval"
   ]
  },
  {
   "cell_type": "code",
   "execution_count": 44,
   "metadata": {},
   "outputs": [
    {
     "name": "stdout",
     "output_type": "stream",
     "text": [
      "Portal url: https://ml.azure.com/prompts/flow/bulkrun/run/multi_flow_variant_0_20231129_183642_434060/details?wsid=/subscriptions/91d27443-f037-45d9-bb0c-428256992df6/resourceGroups/rg-contosooutdoors/providers/Microsoft.MachineLearningServices/workspaces/contoso-store\n"
     ]
    }
   ],
   "source": [
    "eval_flow = \"../eval/multi_flow/\"\n",
    "data = \"../data/testdata.jsonl\"\n",
    "\n",
    "eval_run_variant = pf.run(\n",
    "    flow=eval_flow,\n",
    "    data=data,  # path to the data file\n",
    "    run=base_run,  # use run as the variant\n",
    "    column_mapping={\n",
    "        # reference data\n",
    "        \"customerId\": \"${data.customerId}\",\n",
    "        \"question\": \"${data.question}\",\n",
    "        # reference the run's output\n",
    "        \"prediction\": \"${run.outputs.answer}\",\n",
    "    },\n",
    "    runtime=runtime,\n",
    ")"
   ]
  },
  {
   "cell_type": "code",
   "execution_count": 45,
   "metadata": {},
   "outputs": [
    {
     "name": "stdout",
     "output_type": "stream",
     "text": [
      "2023-11-30 00:36:59 +0000     152 promptflow-runtime INFO     [multi_flow_variant_0_20231129_183642_434060] Receiving v2 bulk run request 35f4727a-e435-4c6c-80fb-59ff69e7527b: {\"flow_id\": \"multi_flow_variant_0_20231129_183642_434060\", \"flow_run_id\": \"multi_flow_variant_0_20231129_183642_434060\", \"flow_source\": {\"flow_source_type\": 1, \"flow_source_info\": {\"snapshot_id\": \"1ad95d7a-f826-4fd2-ace6-50ef98342da5\"}, \"flow_dag_file\": \"flow.dag.yaml\"}, \"connections\": \"**data_scrubbed**\", \"log_path\": \"https://stcontosoout446048492429.blob.core.windows.net/azureml/ExperimentRun/dcid.multi_flow_variant_0_20231129_183642_434060/logs/azureml/executionlogs.txt?sv=2019-07-07&sr=b&sig=**data_scrubbed**&skoid=6a9cdc9c-374e-4dae-aeb3-39ff5126526d&sktid=72f988bf-86f1-41af-91ab-2d7cd011db47&skt=2023-11-29T17%3A24%3A17Z&ske=2023-12-01T01%3A34%3A17Z&sks=b&skv=2019-07-07&st=2023-11-30T00%3A26%3A56Z&se=2023-11-30T08%3A36%3A56Z&sp=rcw\", \"app_insights_instrumentation_key\": \"InstrumentationKey=**data_scrubbed**;IngestionEndpoint=https://eastus-6.in.applicationinsights.azure.com/;LiveEndpoint=https://eastus.livediagnostics.monitor.azure.com/\", \"data_inputs\": {\"data\": \"azureml://datastores/workspaceblobstore/paths/LocalUpload/da7da0535829a1c714482f457f2a936e/testdata.jsonl\", \"run.outputs\": \"azureml:/subscriptions/91d27443-f037-45d9-bb0c-428256992df6/resourceGroups/rg-contosooutdoors/providers/Microsoft.MachineLearningServices/workspaces/contoso-store/data/azureml_contoso_trek_variant_0_20231129_183349_136243_output_data_flow_outputs/versions/1\"}, \"inputs_mapping\": {\"customerId\": \"${data.customerId}\", \"question\": \"${data.question}\", \"prediction\": \"${run.outputs.answer}\"}, \"azure_storage_setting\": {\"azure_storage_mode\": 1, \"storage_account_name\": \"stcontosoout446048492429\", \"blob_container_name\": \"azureml-blobstore-4ab2cc7d-74ab-4a3f-9ce1-218668c55b0e\", \"flow_artifacts_root_path\": \"promptflow/PromptFlowArtifacts/multi_flow_variant_0_20231129_183642_434060\", \"blob_container_sas_token\": \"?sv=2019-07-07&sr=c&sig=**data_scrubbed**&skoid=6a9cdc9c-374e-4dae-aeb3-39ff5126526d&sktid=72f988bf-86f1-41af-91ab-2d7cd011db47&skt=2023-11-30T00%3A36%3A58Z&ske=2023-12-07T00%3A36%3A57Z&sks=b&skv=2019-07-07&se=2023-12-07T00%3A36%3A57Z&sp=racwl\", \"output_datastore_name\": \"workspaceblobstore\"}}\n",
      "2023-11-30 00:36:59 +0000     152 promptflow-runtime INFO     Runtime version: 20231024.v1. PromptFlow version: 0.1.0b8.dev5\n",
      "2023-11-30 00:36:59 +0000     152 promptflow-runtime INFO     Running <function RunHistoryClient.get_run at 0x7f0eed4be310>, 3 more tries to go.\n",
      "2023-11-30 00:36:59 +0000     152 promptflow-runtime INFO     Running <function RunHistoryClient.get_run at 0x7f0eed4be280>, 3 more tries to go.\n",
      "2023-11-30 00:36:59 +0000     152 promptflow-runtime INFO     Running <function RunHistoryClient.update_run_status at 0x7f0eed4be0d0>, 3 more tries to go.\n",
      "2023-11-30 00:36:59 +0000     152 promptflow-runtime INFO     Updating multi_flow_variant_0_20231129_183642_434060 to Status.Preparing...\n",
      "2023-11-30 00:36:59 +0000     152 promptflow-runtime INFO     Starting to check process 2303 status for run multi_flow_variant_0_20231129_183642_434060\n",
      "2023-11-30 00:36:59 +0000     152 promptflow-runtime INFO     Start checking run status for bulk run multi_flow_variant_0_20231129_183642_434060\n",
      "2023-11-30 00:36:59 +0000     152 promptflow-runtime INFO     Start checking run status for run multi_flow_variant_0_20231129_183642_434060\n",
      "2023-11-30 00:36:59 +0000    2303 promptflow-runtime INFO     [152--2303] Start processing flowV2......\n",
      "2023-11-30 00:36:59 +0000    2303 promptflow-runtime INFO     Setting mlflow tracking uri...\n",
      "2023-11-30 00:36:59 +0000    2303 promptflow-runtime INFO     Validating 'AzureML Data Scientist' user authentication...\n",
      "2023-11-30 00:36:59 +0000    2303 promptflow-runtime INFO     Running <function RuntimeConfig.validate_by_get_dummy_run at 0x7f0eed4c8790>, 5 more tries to go.\n",
      "2023-11-30 00:37:00 +0000    2303 promptflow-runtime INFO     Successfully validated 'AzureML Data Scientist' user authentication.\n",
      "2023-11-30 00:37:00 +0000    2303 promptflow-runtime INFO     Using AzureMLRunStorageV2\n",
      "2023-11-30 00:37:00 +0000    2303 promptflow-runtime INFO     Setting mlflow tracking uri to 'azureml://eastus.api.azureml.ms/mlflow/v1.0/subscriptions/91d27443-f037-45d9-bb0c-428256992df6/resourceGroups/rg-contosooutdoors/providers/Microsoft.MachineLearningServices/workspaces/contoso-store'\n",
      "2023-11-30 00:37:00 +0000    2303 promptflow-runtime INFO     Running <function MlflowHelper.get_host_creds at 0x7f0eb99abb80>, 5 more tries to go.\n",
      "2023-11-30 00:37:00 +0000    2303 promptflow-runtime INFO     Initialized blob service client for AzureMLRunTracker.\n",
      "2023-11-30 00:37:00 +0000    2303 promptflow-runtime INFO     Setting mlflow tracking uri to 'azureml://eastus.api.azureml.ms/mlflow/v1.0/subscriptions/91d27443-f037-45d9-bb0c-428256992df6/resourceGroups/rg-contosooutdoors/providers/Microsoft.MachineLearningServices/workspaces/contoso-store'\n",
      "2023-11-30 00:37:00 +0000    2303 promptflow-runtime INFO     Running <function MlflowHelper.get_host_creds at 0x7f0eb99abb80>, 5 more tries to go.\n",
      "2023-11-30 00:37:00 +0000    2303 promptflow-runtime INFO     Running <function SnapshotsClient.download_snapshot at 0x7f0eec84d550>, 3 more tries to go.\n",
      "2023-11-30 00:37:00 +0000    2303 promptflow-runtime INFO     Get snapshot sas url for 1ad95d7a-f826-4fd2-ace6-50ef98342da5...\n",
      "2023-11-30 00:37:07 +0000    2303 promptflow-runtime INFO     Downloading snapshot 1ad95d7a-f826-4fd2-ace6-50ef98342da5 from uri https://stcontosoout446048492429.blob.core.windows.net/snapshotzips/contoso-store:4ab2cc7d-74ab-4a3f-9ce1-218668c55b0e:snapshotzip/1ad95d7a-f826-4fd2-ace6-50ef98342da5.zip...\n",
      "2023-11-30 00:37:07 +0000    2303 promptflow-runtime INFO     Downloaded file /service/app/38491/requests/multi_flow_variant_0_20231129_183642_434060/1ad95d7a-f826-4fd2-ace6-50ef98342da5.zip with size 31573 for snapshot 1ad95d7a-f826-4fd2-ace6-50ef98342da5.\n",
      "2023-11-30 00:37:07 +0000    2303 promptflow-runtime INFO     Download snapshot 1ad95d7a-f826-4fd2-ace6-50ef98342da5 completed.\n",
      "2023-11-30 00:37:07 +0000    2303 promptflow-runtime INFO     Running <function prepare_data at 0x7f0eb64f33a0>, 3 more tries to go.\n",
      "2023-11-30 00:37:07 +0000    2303 promptflow-runtime INFO     Resolve data from url finished in 0.4366315118968487 seconds\n",
      "2023-11-30 00:37:07 +0000    2303 promptflow-runtime INFO     Running <function prepare_data at 0x7f0eb64f33a0>, 3 more tries to go.\n",
      "2023-11-30 00:37:08 +0000    2303 promptflow-runtime INFO     Resolve data from url finished in 0.551346146967262 seconds\n",
      "2023-11-30 00:37:08 +0000    2303 promptflow-runtime INFO     Flow run is not terminated, skip persisting flow run record.\n",
      "2023-11-30 00:37:08 +0000    2303 promptflow-runtime INFO     Starting the aml run 'multi_flow_variant_0_20231129_183642_434060'...\n",
      "2023-11-30 00:37:18 +0000    2303 execution.bulk     INFO     Using fork, process count: 5\n",
      "2023-11-30 00:37:18 +0000    2336 execution          INFO     Process 2336 started.\n",
      "2023-11-30 00:37:18 +0000    2341 execution          INFO     Process 2341 started.\n",
      "2023-11-30 00:37:18 +0000    2343 execution          INFO     Process 2343 started.\n",
      "2023-11-30 00:37:18 +0000    2349 execution          INFO     Process 2349 started.\n",
      "2023-11-30 00:37:18 +0000    2353 execution          INFO     Process 2353 started.\n",
      "2023-11-30 00:37:18 +0000    2303 execution          INFO     Process name: Process-24:2, Process id: 2336, Line number: 0 start execution.\n",
      "2023-11-30 00:37:19 +0000    2303 promptflow-runtime INFO     Flow run is not terminated, skip persisting flow run record.\n",
      "2023-11-30 00:37:18 +0000    2303 execution          INFO     Process name: Process-24:4, Process id: 2341, Line number: 1 start execution.\n",
      "2023-11-30 00:37:19 +0000    2303 promptflow-runtime INFO     Flow run is not terminated, skip persisting flow run record.\n",
      "2023-11-30 00:37:18 +0000    2303 execution          INFO     Process name: Process-24:3, Process id: 2343, Line number: 2 start execution.\n",
      "2023-11-30 00:37:19 +0000    2303 promptflow-runtime INFO     Flow run is not terminated, skip persisting flow run record.\n",
      "2023-11-30 00:37:19 +0000    2303 execution          INFO     Process name: Process-24:6, Process id: 2349, Line number: 3 start execution.\n",
      "2023-11-30 00:37:19 +0000    2303 promptflow-runtime INFO     Flow run is not terminated, skip persisting flow run record.\n",
      "2023-11-30 00:37:19 +0000    2303 execution          INFO     Process name: Process-24:5, Process id: 2353, Line number: 4 start execution.\n",
      "2023-11-30 00:37:19 +0000    2303 promptflow-runtime INFO     Flow run is not terminated, skip persisting flow run record.\n",
      "2023-11-30 00:37:19 +0000    2336 execution          WARNING  [groundedness_score in line 0 (index starts from 0)] stderr> Exception occurs: RateLimitError: Requests to the ChatCompletions_Create Operation under Azure OpenAI API version 2023-07-01-preview have exceeded call rate limit of your current OpenAI S0 pricing tier. Please retry after 10 seconds. Please go here: https://aka.ms/oai/quotaincrease if you would like to further increase the default rate limit.\n",
      "2023-11-30 00:37:19 +0000    2336 execution          WARNING  [relevance_score in line 0 (index starts from 0)] stderr> Exception occurs: RateLimitError: Requests to the ChatCompletions_Create Operation under Azure OpenAI API version 2023-07-01-preview have exceeded call rate limit of your current OpenAI S0 pricing tier. Please retry after 10 seconds. Please go here: https://aka.ms/oai/quotaincrease if you would like to further increase the default rate limit.\n",
      "2023-11-30 00:37:19 +0000    2353 execution          WARNING  [groundedness_score in line 4 (index starts from 0)] stderr> Exception occurs: RateLimitError: Requests to the ChatCompletions_Create Operation under Azure OpenAI API version 2023-07-01-preview have exceeded call rate limit of your current OpenAI S0 pricing tier. Please retry after 10 seconds. Please go here: https://aka.ms/oai/quotaincrease if you would like to further increase the default rate limit.\n",
      "2023-11-30 00:37:19 +0000    2336 execution          WARNING  [groundedness_score in line 0 (index starts from 0)] stderr> RateLimitError #0, Retry-After=10, Back off 10.0 seconds for retry.\n",
      "2023-11-30 00:37:19 +0000    2353 execution          WARNING  [relevance_score in line 4 (index starts from 0)] stderr> Exception occurs: RateLimitError: Requests to the ChatCompletions_Create Operation under Azure OpenAI API version 2023-07-01-preview have exceeded call rate limit of your current OpenAI S0 pricing tier. Please retry after 10 seconds. Please go here: https://aka.ms/oai/quotaincrease if you would like to further increase the default rate limit.\n",
      "2023-11-30 00:37:19 +0000    2349 execution          WARNING  [groundedness_score in line 3 (index starts from 0)] stderr> Exception occurs: RateLimitError: Requests to the ChatCompletions_Create Operation under Azure OpenAI API version 2023-07-01-preview have exceeded call rate limit of your current OpenAI S0 pricing tier. Please retry after 10 seconds. Please go here: https://aka.ms/oai/quotaincrease if you would like to further increase the default rate limit.\n",
      "2023-11-30 00:37:19 +0000    2336 execution          WARNING  [relevance_score in line 0 (index starts from 0)] stderr> RateLimitError #0, Retry-After=10, Back off 10.0 seconds for retry.\n",
      "2023-11-30 00:37:19 +0000    2349 execution          WARNING  [groundedness_score in line 3 (index starts from 0)] stderr> RateLimitError #0, Retry-After=10, Back off 10.0 seconds for retry.\n",
      "2023-11-30 00:37:19 +0000    2353 execution          WARNING  [groundedness_score in line 4 (index starts from 0)] stderr> RateLimitError #0, Retry-After=10, Back off 10.0 seconds for retry.\n",
      "2023-11-30 00:37:19 +0000    2341 execution          WARNING  [groundedness_score in line 1 (index starts from 0)] stderr> Exception occurs: RateLimitError: Requests to the ChatCompletions_Create Operation under Azure OpenAI API version 2023-07-01-preview have exceeded call rate limit of your current OpenAI S0 pricing tier. Please retry after 10 seconds. Please go here: https://aka.ms/oai/quotaincrease if you would like to further increase the default rate limit.\n",
      "2023-11-30 00:37:19 +0000    2353 execution          WARNING  [relevance_score in line 4 (index starts from 0)] stderr> RateLimitError #0, Retry-After=10, Back off 10.0 seconds for retry.\n",
      "2023-11-30 00:37:19 +0000    2341 execution          WARNING  [relevance_score in line 1 (index starts from 0)] stderr> Exception occurs: RateLimitError: Requests to the ChatCompletions_Create Operation under Azure OpenAI API version 2023-07-01-preview have exceeded call rate limit of your current OpenAI S0 pricing tier. Please retry after 10 seconds. Please go here: https://aka.ms/oai/quotaincrease if you would like to further increase the default rate limit.\n",
      "2023-11-30 00:37:19 +0000    2341 execution          WARNING  [groundedness_score in line 1 (index starts from 0)] stderr> RateLimitError #0, Retry-After=10, Back off 10.0 seconds for retry.\n",
      "2023-11-30 00:37:19 +0000    2341 execution          WARNING  [relevance_score in line 1 (index starts from 0)] stderr> RateLimitError #0, Retry-After=10, Back off 10.0 seconds for retry.\n",
      "2023-11-30 00:37:19 +0000    2343 execution          WARNING  [groundedness_score in line 2 (index starts from 0)] stderr> Exception occurs: RateLimitError: Requests to the ChatCompletions_Create Operation under Azure OpenAI API version 2023-07-01-preview have exceeded call rate limit of your current OpenAI S0 pricing tier. Please retry after 10 seconds. Please go here: https://aka.ms/oai/quotaincrease if you would like to further increase the default rate limit.\n",
      "2023-11-30 00:37:19 +0000    2343 execution          WARNING  [relevance_score in line 2 (index starts from 0)] stderr> Exception occurs: RateLimitError: Requests to the ChatCompletions_Create Operation under Azure OpenAI API version 2023-07-01-preview have exceeded call rate limit of your current OpenAI S0 pricing tier. Please retry after 10 seconds. Please go here: https://aka.ms/oai/quotaincrease if you would like to further increase the default rate limit.\n",
      "2023-11-30 00:37:19 +0000    2343 execution          WARNING  [groundedness_score in line 2 (index starts from 0)] stderr> RateLimitError #0, Retry-After=10, Back off 10.0 seconds for retry.\n",
      "2023-11-30 00:37:19 +0000    2343 execution          WARNING  [relevance_score in line 2 (index starts from 0)] stderr> RateLimitError #0, Retry-After=10, Back off 10.0 seconds for retry.\n",
      "(Run status is 'Running', continue streaming...)\n",
      "2023-11-30 00:37:19 +0000     152 promptflow-runtime INFO     Running <function RunHistoryClient.get_run at 0x7f0eed4be310>, 3 more tries to go.\n",
      "2023-11-30 00:37:19 +0000     152 promptflow-runtime INFO     Running <function RunHistoryClient.get_run at 0x7f0eed4be280>, 3 more tries to go.\n",
      "2023-11-30 00:37:19 +0000     152 promptflow-runtime INFO     Run multi_flow_variant_0_20231129_183642_434060 is in progress, Execution status: Running\n",
      "2023-11-30 00:37:19 +0000    2349 execution          WARNING  [relevance_score in line 3 (index starts from 0)] stderr> Exception occurs: RateLimitError: Requests to the ChatCompletions_Create Operation under Azure OpenAI API version 2023-07-01-preview have exceeded call rate limit of your current OpenAI S0 pricing tier. Please retry after 10 seconds. Please go here: https://aka.ms/oai/quotaincrease if you would like to further increase the default rate limit.\n",
      "2023-11-30 00:37:19 +0000    2349 execution          WARNING  [relevance_score in line 3 (index starts from 0)] stderr> RateLimitError #0, Retry-After=10, Back off 10.0 seconds for retry.\n",
      "2023-11-30 00:37:30 +0000    2303 execution          INFO     Process name: Process-24:6, Process id: 2349, Line number: 3 completed.\n",
      "2023-11-30 00:37:30 +0000    2303 execution.bulk     INFO     Finished 1 / 5 lines.\n",
      "2023-11-30 00:37:30 +0000    2303 execution.bulk     INFO     Average execution time for completed lines: 11.64 seconds. Estimated time for incomplete lines: 46.56 seconds.\n",
      "2023-11-30 00:37:30 +0000    2303 execution          INFO     Process name: Process-24:3, Process id: 2343, Line number: 2 completed.\n",
      "2023-11-30 00:37:30 +0000    2303 execution.bulk     INFO     Finished 2 / 5 lines.\n",
      "2023-11-30 00:37:30 +0000    2303 execution.bulk     INFO     Average execution time for completed lines: 6.0 seconds. Estimated time for incomplete lines: 18.0 seconds.\n",
      "2023-11-30 00:37:31 +0000    2303 execution          INFO     Process name: Process-24:2, Process id: 2336, Line number: 0 completed.\n",
      "2023-11-30 00:37:31 +0000    2303 execution.bulk     INFO     Finished 3 / 5 lines.\n",
      "2023-11-30 00:37:31 +0000    2303 execution.bulk     INFO     Average execution time for completed lines: 4.08 seconds. Estimated time for incomplete lines: 8.16 seconds.\n",
      "2023-11-30 00:37:31 +0000    2303 execution          INFO     Process name: Process-24:5, Process id: 2353, Line number: 4 completed.\n",
      "2023-11-30 00:37:31 +0000    2303 execution.bulk     INFO     Finished 5 / 5 lines.\n",
      "2023-11-30 00:37:31 +0000    2303 execution.bulk     INFO     Average execution time for completed lines: 2.53 seconds. Estimated time for incomplete lines: 0.0 seconds.\n",
      "2023-11-30 00:37:31 +0000    2303 execution          INFO     Process name: Process-24:4, Process id: 2341, Line number: 1 completed.\n",
      "2023-11-30 00:37:31 +0000    2303 execution.bulk     INFO     Finished 5 / 5 lines.\n",
      "2023-11-30 00:37:31 +0000    2303 execution.bulk     INFO     Average execution time for completed lines: 2.54 seconds. Estimated time for incomplete lines: 0.0 seconds.\n",
      "2023-11-30 00:37:32 +0000    2303 execution          INFO     Executing aggregation nodes...\n",
      "2023-11-30 00:37:32 +0000    2303 execution          INFO     Finish executing aggregation nodes.\n",
      "2023-11-30 00:37:39 +0000     152 promptflow-runtime INFO     Running <function RunHistoryClient.get_run at 0x7f0eed4be310>, 3 more tries to go.\n",
      "2023-11-30 00:37:39 +0000     152 promptflow-runtime INFO     Running <function RunHistoryClient.get_run at 0x7f0eed4be280>, 3 more tries to go.\n",
      "2023-11-30 00:37:40 +0000     152 promptflow-runtime INFO     Run multi_flow_variant_0_20231129_183642_434060 is in progress, Execution status: Running\n",
      "2023-11-30 00:37:42 +0000    2303 execution.bulk     INFO     Upload status summary metrics for run multi_flow_variant_0_20231129_183642_434060 finished in 9.864871663972735 seconds\n",
      "2023-11-30 00:37:45 +0000    2303 execution.bulk     INFO     Upload metrics for run multi_flow_variant_0_20231129_183642_434060 finished in 3.2180551709607244 seconds\n",
      "2023-11-30 00:37:45 +0000    2303 promptflow-runtime INFO     Successfully write run properties {\"azureml.promptflow.total_tokens\": 15776, \"_azureml.evaluate_artifacts\": \"[{\\\"path\\\": \\\"instance_results.jsonl\\\", \\\"type\\\": \\\"table\\\"}]\"} with run id 'multi_flow_variant_0_20231129_183642_434060'\n",
      "2023-11-30 00:37:45 +0000    2303 execution.bulk     INFO     Upload RH properties for run multi_flow_variant_0_20231129_183642_434060 finished in 0.08419805765151978 seconds\n",
      "2023-11-30 00:37:45 +0000    2303 promptflow-runtime INFO     Running <function AssetClient.create_unregistered_output at 0x7f0ee5de65e0>, 3 more tries to go.\n",
      "2023-11-30 00:37:45 +0000    2303 promptflow-runtime INFO     Creating unregistered output Asset for Run multi_flow_variant_0_20231129_183642_434060...\n",
      "2023-11-30 00:37:46 +0000    2303 promptflow-runtime INFO     Created debug_info Asset: azureml://locations/eastus/workspaces/4ab2cc7d-74ab-4a3f-9ce1-218668c55b0e/data/azureml_multi_flow_variant_0_20231129_183642_434060_output_data_debug_info/versions/1\n",
      "2023-11-30 00:37:46 +0000    2303 promptflow-runtime INFO     Running <function AssetClient.create_unregistered_output at 0x7f0ee5de65e0>, 3 more tries to go.\n",
      "2023-11-30 00:37:46 +0000    2303 promptflow-runtime INFO     Creating unregistered output Asset for Run multi_flow_variant_0_20231129_183642_434060...\n",
      "2023-11-30 00:37:46 +0000    2303 promptflow-runtime INFO     Created flow_outputs output Asset: azureml://locations/eastus/workspaces/4ab2cc7d-74ab-4a3f-9ce1-218668c55b0e/data/azureml_multi_flow_variant_0_20231129_183642_434060_output_data_flow_outputs/versions/1\n",
      "2023-11-30 00:37:46 +0000    2303 promptflow-runtime INFO     Running <function ArtifactClient.register_artifact at 0x7f0ee5de68b0>, 3 more tries to go.\n",
      "2023-11-30 00:37:46 +0000    2303 promptflow-runtime INFO     Creating Artifact for Run multi_flow_variant_0_20231129_183642_434060...\n",
      "2023-11-30 00:37:46 +0000    2303 promptflow-runtime INFO     Created instance_results.jsonl Artifact.\n",
      "2023-11-30 00:37:46 +0000    2303 promptflow-runtime INFO     Running <function RunHistoryClient.patch_run at 0x7f0eed4b7f70>, 3 more tries to go.\n",
      "2023-11-30 00:37:46 +0000    2303 promptflow-runtime INFO     Patching multi_flow_variant_0_20231129_183642_434060...\n",
      "2023-11-30 00:37:46 +0000    2303 promptflow-runtime INFO     Ending the aml run 'multi_flow_variant_0_20231129_183642_434060' with status 'Completed'...\n",
      "2023-11-30 00:37:47 +0000     152 promptflow-runtime INFO     Process 2303 finished\n",
      "2023-11-30 00:37:47 +0000     152 promptflow-runtime INFO     [152] Child process finished!\n",
      "2023-11-30 00:37:47 +0000     152 promptflow-runtime INFO     [multi_flow_variant_0_20231129_183642_434060] End processing bulk run\n",
      "2023-11-30 00:38:00 +0000     152 promptflow-runtime INFO     Running <function RunHistoryClient.get_run at 0x7f0eed4be310>, 3 more tries to go.\n",
      "2023-11-30 00:38:00 +0000     152 promptflow-runtime INFO     Running <function RunHistoryClient.get_run at 0x7f0eed4be280>, 3 more tries to go.\n",
      "2023-11-30 00:38:00 +0000     152 promptflow-runtime INFO     Run multi_flow_variant_0_20231129_183642_434060 is in progress, Execution status: Completed\n",
      "======= Run Summary =======\n",
      "Run name: \"multi_flow_variant_0_20231129_183642_434060\"\n",
      "Run status: \"Completed\"\n",
      "Start time: \"2023-11-30 00:37:08.607588+00:00\"\n",
      "Duration: \"0:00:38.259112\"\n",
      "Run url: \"https://ml.azure.com/prompts/flow/bulkrun/run/multi_flow_variant_0_20231129_183642_434060/details?wsid=/subscriptions/91d27443-f037-45d9-bb0c-428256992df6/resourceGroups/rg-contosooutdoors/providers/Microsoft.MachineLearningServices/workspaces/contoso-store\""
     ]
    },
    {
     "data": {
      "text/plain": [
       "<promptflow._sdk.entities._run.Run at 0x1e6c00a3790>"
      ]
     },
     "execution_count": 45,
     "metadata": {},
     "output_type": "execute_result"
    }
   ],
   "source": [
    "pf.stream(eval_run_variant)"
   ]
  },
  {
   "cell_type": "code",
   "execution_count": 46,
   "metadata": {},
   "outputs": [
    {
     "data": {
      "text/html": [
       "<div>\n",
       "<style scoped>\n",
       "    .dataframe tbody tr th:only-of-type {\n",
       "        vertical-align: middle;\n",
       "    }\n",
       "\n",
       "    .dataframe tbody tr th {\n",
       "        vertical-align: top;\n",
       "    }\n",
       "\n",
       "    .dataframe thead th {\n",
       "        text-align: right;\n",
       "    }\n",
       "</style>\n",
       "<table border=\"1\" class=\"dataframe\">\n",
       "  <thead>\n",
       "    <tr style=\"text-align: right;\">\n",
       "      <th></th>\n",
       "      <th>inputs.chat_history</th>\n",
       "      <th>inputs.customerId</th>\n",
       "      <th>inputs.question</th>\n",
       "      <th>inputs.prediction</th>\n",
       "      <th>inputs.line_number</th>\n",
       "      <th>inputs.context</th>\n",
       "      <th>inputs.answer</th>\n",
       "      <th>outputs.gpt_coherence</th>\n",
       "      <th>outputs.gpt_fluency</th>\n",
       "      <th>outputs.gpt_groundedness</th>\n",
       "      <th>outputs.gpt_relevance</th>\n",
       "    </tr>\n",
       "    <tr>\n",
       "      <th>outputs.line_number</th>\n",
       "      <th></th>\n",
       "      <th></th>\n",
       "      <th></th>\n",
       "      <th></th>\n",
       "      <th></th>\n",
       "      <th></th>\n",
       "      <th></th>\n",
       "      <th></th>\n",
       "      <th></th>\n",
       "      <th></th>\n",
       "      <th></th>\n",
       "    </tr>\n",
       "  </thead>\n",
       "  <tbody>\n",
       "    <tr>\n",
       "      <th>3</th>\n",
       "      <td>[]</td>\n",
       "      <td>6</td>\n",
       "      <td>Do you have any hiking boots?</td>\n",
       "      <td>Hi Jane! 😊 We have two great hiking jackets th...</td>\n",
       "      <td>3</td>\n",
       "      <td>{\"customer_data\":[{\"id\":\"7\",\"firstName\":\"Jason...</td>\n",
       "      <td>The CozyNights Sleeping Bag is rated for tempe...</td>\n",
       "      <td>1.0</td>\n",
       "      <td>1.0</td>\n",
       "      <td>1.0</td>\n",
       "      <td>1.0</td>\n",
       "    </tr>\n",
       "    <tr>\n",
       "      <th>2</th>\n",
       "      <td>[]</td>\n",
       "      <td>3</td>\n",
       "      <td>Can you tell me about your selection of tents?</td>\n",
       "      <td>Hi Jane Doe! If you're looking for amazing out...</td>\n",
       "      <td>2</td>\n",
       "      <td>{\"customer_data\":[{\"id\":\"7\",\"firstName\":\"Jason...</td>\n",
       "      <td>The CozyNights Sleeping Bag is rated for tempe...</td>\n",
       "      <td>2.0</td>\n",
       "      <td>2.0</td>\n",
       "      <td>1.0</td>\n",
       "      <td>1.0</td>\n",
       "    </tr>\n",
       "    <tr>\n",
       "      <th>0</th>\n",
       "      <td>[]</td>\n",
       "      <td>4</td>\n",
       "      <td>tell me about your hiking jackets</td>\n",
       "      <td>Hi Jane Doe! 😊 MountainStyle offers two great ...</td>\n",
       "      <td>0</td>\n",
       "      <td>{\"customer_data\":[{\"id\":\"7\",\"firstName\":\"Jason...</td>\n",
       "      <td>The CozyNights Sleeping Bag is rated for tempe...</td>\n",
       "      <td>2.0</td>\n",
       "      <td>2.0</td>\n",
       "      <td>1.0</td>\n",
       "      <td>1.0</td>\n",
       "    </tr>\n",
       "    <tr>\n",
       "      <th>4</th>\n",
       "      <td>[]</td>\n",
       "      <td>2</td>\n",
       "      <td>What gear do you recommend for hiking?</td>\n",
       "      <td>Hi Jane Doe! We have Summit Breeze Jacket and ...</td>\n",
       "      <td>4</td>\n",
       "      <td>{\"customer_data\":[{\"id\":\"7\",\"firstName\":\"Jason...</td>\n",
       "      <td>The CozyNights Sleeping Bag is rated for tempe...</td>\n",
       "      <td>2.0</td>\n",
       "      <td>4.0</td>\n",
       "      <td>1.0</td>\n",
       "      <td>2.0</td>\n",
       "    </tr>\n",
       "    <tr>\n",
       "      <th>1</th>\n",
       "      <td>[]</td>\n",
       "      <td>1</td>\n",
       "      <td>Do you have any climbing gear?</td>\n",
       "      <td>Hi Jane! 🌟 Based on your previous purchases of...</td>\n",
       "      <td>1</td>\n",
       "      <td>{\"customer_data\":[{\"id\":\"7\",\"firstName\":\"Jason...</td>\n",
       "      <td>The CozyNights Sleeping Bag is rated for tempe...</td>\n",
       "      <td>2.0</td>\n",
       "      <td>2.0</td>\n",
       "      <td>1.0</td>\n",
       "      <td>2.0</td>\n",
       "    </tr>\n",
       "  </tbody>\n",
       "</table>\n",
       "</div>"
      ],
      "text/plain": [
       "                    inputs.chat_history  inputs.customerId  \\\n",
       "outputs.line_number                                          \n",
       "3                                    []                  6   \n",
       "2                                    []                  3   \n",
       "0                                    []                  4   \n",
       "4                                    []                  2   \n",
       "1                                    []                  1   \n",
       "\n",
       "                                                    inputs.question  \\\n",
       "outputs.line_number                                                   \n",
       "3                                     Do you have any hiking boots?   \n",
       "2                    Can you tell me about your selection of tents?   \n",
       "0                                 tell me about your hiking jackets   \n",
       "4                            What gear do you recommend for hiking?   \n",
       "1                                    Do you have any climbing gear?   \n",
       "\n",
       "                                                     inputs.prediction  \\\n",
       "outputs.line_number                                                      \n",
       "3                    Hi Jane! 😊 We have two great hiking jackets th...   \n",
       "2                    Hi Jane Doe! If you're looking for amazing out...   \n",
       "0                    Hi Jane Doe! 😊 MountainStyle offers two great ...   \n",
       "4                    Hi Jane Doe! We have Summit Breeze Jacket and ...   \n",
       "1                    Hi Jane! 🌟 Based on your previous purchases of...   \n",
       "\n",
       "                     inputs.line_number  \\\n",
       "outputs.line_number                       \n",
       "3                                     3   \n",
       "2                                     2   \n",
       "0                                     0   \n",
       "4                                     4   \n",
       "1                                     1   \n",
       "\n",
       "                                                        inputs.context  \\\n",
       "outputs.line_number                                                      \n",
       "3                    {\"customer_data\":[{\"id\":\"7\",\"firstName\":\"Jason...   \n",
       "2                    {\"customer_data\":[{\"id\":\"7\",\"firstName\":\"Jason...   \n",
       "0                    {\"customer_data\":[{\"id\":\"7\",\"firstName\":\"Jason...   \n",
       "4                    {\"customer_data\":[{\"id\":\"7\",\"firstName\":\"Jason...   \n",
       "1                    {\"customer_data\":[{\"id\":\"7\",\"firstName\":\"Jason...   \n",
       "\n",
       "                                                         inputs.answer  \\\n",
       "outputs.line_number                                                      \n",
       "3                    The CozyNights Sleeping Bag is rated for tempe...   \n",
       "2                    The CozyNights Sleeping Bag is rated for tempe...   \n",
       "0                    The CozyNights Sleeping Bag is rated for tempe...   \n",
       "4                    The CozyNights Sleeping Bag is rated for tempe...   \n",
       "1                    The CozyNights Sleeping Bag is rated for tempe...   \n",
       "\n",
       "                     outputs.gpt_coherence  outputs.gpt_fluency  \\\n",
       "outputs.line_number                                               \n",
       "3                                      1.0                  1.0   \n",
       "2                                      2.0                  2.0   \n",
       "0                                      2.0                  2.0   \n",
       "4                                      2.0                  4.0   \n",
       "1                                      2.0                  2.0   \n",
       "\n",
       "                     outputs.gpt_groundedness  outputs.gpt_relevance  \n",
       "outputs.line_number                                                   \n",
       "3                                         1.0                    1.0  \n",
       "2                                         1.0                    1.0  \n",
       "0                                         1.0                    1.0  \n",
       "4                                         1.0                    2.0  \n",
       "1                                         1.0                    2.0  "
      ]
     },
     "execution_count": 46,
     "metadata": {},
     "output_type": "execute_result"
    }
   ],
   "source": [
    "details = pf.get_details(eval_run_variant)\n",
    "details.head(10)"
   ]
  },
  {
   "cell_type": "code",
   "execution_count": 47,
   "metadata": {},
   "outputs": [
    {
     "name": "stdout",
     "output_type": "stream",
     "text": [
      "{\n",
      "    \"gpt_coherence\": 1.8,\n",
      "    \"gpt_coherence_pass_rate(%)\": 0.0,\n",
      "    \"gpt_fluency\": 2.2,\n",
      "    \"gpt_fluency_pass_rate(%)\": 20.0,\n",
      "    \"gpt_groundedness\": 1.0,\n",
      "    \"gpt_groundedness_pass_rate(%)\": 0.0,\n",
      "    \"gpt_relevance\": 1.4,\n",
      "    \"gpt_relevance_pass_rate(%)\": 0.0\n",
      "}\n"
     ]
    }
   ],
   "source": [
    "\n",
    "metrics = pf.get_metrics(eval_run_variant)\n",
    "print(json.dumps(metrics, indent=4))"
   ]
  },
  {
   "cell_type": "code",
   "execution_count": 48,
   "metadata": {},
   "outputs": [
    {
     "ename": "NameError",
     "evalue": "name 'eval_run' is not defined",
     "output_type": "error",
     "traceback": [
      "\u001b[1;31m---------------------------------------------------------------------------\u001b[0m",
      "\u001b[1;31mNameError\u001b[0m                                 Traceback (most recent call last)",
      "Cell \u001b[1;32mIn[48], line 1\u001b[0m\n\u001b[1;32m----> 1\u001b[0m pf\u001b[38;5;241m.\u001b[39mvisualize([\u001b[43meval_run\u001b[49m, eval_run_variant])\n",
      "\u001b[1;31mNameError\u001b[0m: name 'eval_run' is not defined"
     ]
    }
   ],
   "source": [
    "pf.visualize([eval_run, eval_run_variant])"
   ]
  },
  {
   "cell_type": "markdown",
   "metadata": {},
   "source": []
  },
  {
   "cell_type": "markdown",
   "metadata": {},
   "source": []
  }
 ],
 "metadata": {
  "kernelspec": {
   "display_name": ".venv",
   "language": "python",
   "name": "python3"
  },
  "language_info": {
   "codemirror_mode": {
    "name": "ipython",
    "version": 3
   },
   "file_extension": ".py",
   "mimetype": "text/x-python",
   "name": "python",
   "nbconvert_exporter": "python",
   "pygments_lexer": "ipython3",
   "version": "3.9.18"
  }
 },
 "nbformat": 4,
 "nbformat_minor": 2
}
