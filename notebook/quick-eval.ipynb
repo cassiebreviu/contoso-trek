{
 "cells": [
  {
   "cell_type": "markdown",
   "metadata": {},
   "source": [
    "# Local Evaluation"
   ]
  },
  {
   "cell_type": "code",
   "execution_count": 1,
   "metadata": {},
   "outputs": [],
   "source": [
    "from promptflow import PFClient\n",
    "\n",
    "pf_client = PFClient()"
   ]
  },
  {
   "cell_type": "code",
   "execution_count": 2,
   "metadata": {},
   "outputs": [
    {
     "name": "stderr",
     "output_type": "stream",
     "text": [
      "[2023-11-29 18:13:08,354][promptflow._sdk.entities._connection][WARNING] - Please use connection.secrets[key] to access secrets.\n"
     ]
    },
    {
     "name": "stdout",
     "output_type": "stream",
     "text": [
      "2023-11-29 18:13:08 -0600   39040 execution.flow     INFO     Start to run 5 nodes with concurrency level 16.\n",
      "2023-11-29 18:13:08 -0600   39040 execution.flow     INFO     Executing node question_embedding. node run id: d16a937f-ce36-4eee-b4e5-43ecef979b3b_question_embedding_0\n",
      "2023-11-29 18:13:08 -0600   39040 execution.flow     INFO     Executing node customer_lookup. node run id: d16a937f-ce36-4eee-b4e5-43ecef979b3b_customer_lookup_0\n",
      "2023-11-29 18:13:09 -0600   39040 execution.flow     INFO     Node question_embedding completes.\n",
      "2023-11-29 18:13:09 -0600   39040 execution.flow     INFO     Executing node retrieve_documentation. node run id: d16a937f-ce36-4eee-b4e5-43ecef979b3b_retrieve_documentation_0\n",
      "2023-11-29 18:13:10 -0600   39040 execution.flow     INFO     Node customer_lookup completes.\n",
      "2023-11-29 18:13:10 -0600   39040 execution.flow     INFO     Node retrieve_documentation completes.\n",
      "2023-11-29 18:13:10 -0600   39040 execution.flow     INFO     Executing node customer_prompt. node run id: d16a937f-ce36-4eee-b4e5-43ecef979b3b_customer_prompt_0\n",
      "2023-11-29 18:13:10 -0600   39040 execution.flow     INFO     Node customer_prompt completes.\n",
      "2023-11-29 18:13:10 -0600   39040 execution.flow     INFO     Executing node llm_response. node run id: d16a937f-ce36-4eee-b4e5-43ecef979b3b_llm_response_0\n",
      "2023-11-29 18:13:10 -0600   39040 execution.flow     WARNING  Output of llm_response is not json serializable, use str to store it.\n",
      "2023-11-29 18:13:10 -0600   39040 execution.flow     INFO     Node llm_response completes.\n"
     ]
    }
   ],
   "source": [
    "question = \"What was in my previous order?\"\n",
    "customerId = \"4\"\n",
    "output = pf_client.test(\n",
    "    \"../\",\n",
    "    inputs={\n",
    "        \"chat_history\": [],\n",
    "        \"question\": question,\n",
    "        \"customerId\": customerId,\n",
    "    },\n",
    ")\n",
    "output[\"answer\"] = \"\".join(list(output[\"answer\"]))"
   ]
  },
  {
   "cell_type": "code",
   "execution_count": 3,
   "metadata": {},
   "outputs": [
    {
     "data": {
      "text/plain": [
       "{'answer': 'Hi Sarah Lee! 🌞 As a valued Platinum member, you have purchased the TrailMaster X4 Tent 🏕️ and the CozyNights Sleeping Bag 🌙 in the past, both perfect for any nature enthusiast! 🌳🌼',\n",
       " 'context': [{'id': '19',\n",
       "   'title': 'Adventure Dining Table',\n",
       "   'content': \"Discover the joy of outdoor adventures with the CampBuddy Adventure Dining Table. This feature-packed camping essential brings both comfort and convenience to your memorable trips. Made from high-quality aluminum, it promises long-lasting performance, weather resistance, and easy maintenance - all key for the great outdoors! It's light, portable, and comes with adjustable height settings to suit various seating arrangements and the spacious surface comfortably accommodates meals, drinks, and other essentials. The sturdy yet lightweight frame holds food, dishes, and utensils with ease. When it's time to pack up, it fold and stows away with no fuss, ready for the next adventure!  Perfect for camping, picnics, barbecues, and beach outings - its versatility shines as brightly as the summer sun! Durable, sturdy and a breeze to set up, the Adventure Dining Table will be a loyal companion on every trip. Embark on your next adventure and make lifetime memories with CampBuddy. As with all good experiences, it'll leave you wanting more! \",\n",
       "   'url': '/products/adventure-dining-table'},\n",
       "  {'id': '16',\n",
       "   'title': 'TrailLite Daypack',\n",
       "   'content': \"Step up your hiking game with HikeMate's TrailLite Daypack. Built for comfort and efficiency, this lightweight and durable backpack offers a spacious main compartment, multiple pockets, and organization-friendly features all in one sleek package. The adjustable shoulder straps and padded back panel ensure optimal comfort during those long exhilarating treks. Course through nature without worry as the daypack's water-resistant fabric protects your essentials from unexpected showers. Plus, never run dry with the integrated hydration system. And did we mention it comes in a plethora of colors and designs? So you can choose one that truly speaks to your outdoorsy soul! Keeping your visibility in mind, we've added reflective accents that light up in low-light conditions. Don't just carry a backpack, adorn a companion that takes you a step ahead in your adventures. Trust the TrailLite Daypack for a hassle-free, enjoyable hiking experience.\",\n",
       "   'url': '/products/traillite-daypack'}]}"
      ]
     },
     "execution_count": 3,
     "metadata": {},
     "output_type": "execute_result"
    }
   ],
   "source": [
    "output"
   ]
  },
  {
   "cell_type": "code",
   "execution_count": 4,
   "metadata": {},
   "outputs": [
    {
     "name": "stderr",
     "output_type": "stream",
     "text": [
      "[2023-11-29 18:13:11,183][promptflow._sdk.entities._connection][WARNING] - Please use connection.secrets[key] to access secrets.\n"
     ]
    },
    {
     "name": "stdout",
     "output_type": "stream",
     "text": [
      "2023-11-29 18:13:11 -0600   39040 execution.flow     INFO     Start to run 5 nodes with concurrency level 16.\n",
      "2023-11-29 18:13:11 -0600   39040 execution.flow     INFO     Executing node question_embedding. node run id: 614cfa5e-7c98-4c95-a002-710eade0fe8e_question_embedding_0\n",
      "2023-11-29 18:13:11 -0600   39040 execution.flow     INFO     Executing node customer_lookup. node run id: 614cfa5e-7c98-4c95-a002-710eade0fe8e_customer_lookup_0\n",
      "2023-11-29 18:13:11 -0600   39040 execution.flow     INFO     Node question_embedding completes.\n",
      "2023-11-29 18:13:11 -0600   39040 execution.flow     INFO     Executing node retrieve_documentation. node run id: 614cfa5e-7c98-4c95-a002-710eade0fe8e_retrieve_documentation_0\n",
      "2023-11-29 18:13:12 -0600   39040 execution.flow     INFO     Node customer_lookup completes.\n",
      "2023-11-29 18:13:12 -0600   39040 execution.flow     INFO     Node retrieve_documentation completes.\n",
      "2023-11-29 18:13:12 -0600   39040 execution.flow     INFO     Executing node customer_prompt. node run id: 614cfa5e-7c98-4c95-a002-710eade0fe8e_customer_prompt_0\n",
      "2023-11-29 18:13:12 -0600   39040 execution.flow     INFO     Node customer_prompt completes.\n",
      "2023-11-29 18:13:12 -0600   39040 execution.flow     INFO     Executing node llm_response. node run id: 614cfa5e-7c98-4c95-a002-710eade0fe8e_llm_response_0\n",
      "2023-11-29 18:13:12 -0600   39040 execution.flow     WARNING  Output of llm_response is not json serializable, use str to store it.\n",
      "2023-11-29 18:13:12 -0600   39040 execution.flow     INFO     Node llm_response completes.\n"
     ]
    }
   ],
   "source": [
    "question = \"What is the temperature rating of my sleeping bag?\"\n",
    "customerId = \"4\"\n",
    "output = pf_client.test(\n",
    "    \"../\",\n",
    "    inputs={\n",
    "        \"chat_history\": [],\n",
    "        \"question\": question,\n",
    "        \"customerId\": customerId,\n",
    "    },\n",
    ")\n",
    "output[\"answer\"] = \"\".join(list(output[\"answer\"]))"
   ]
  },
  {
   "cell_type": "code",
   "execution_count": 5,
   "metadata": {},
   "outputs": [
    {
     "name": "stdout",
     "output_type": "stream",
     "text": [
      "2023-11-29 18:13:14 -0600   39040 execution.flow     INFO     Start to run 2 nodes with concurrency level 16.\n",
      "2023-11-29 18:13:14 -0600   39040 execution.flow     INFO     Executing node groundedness_score. node run id: e2f9eeaa-315e-427c-9bcf-a6e3b5a31926_groundedness_score_0\n",
      "2023-11-29 18:13:15 -0600   39040 execution.flow     INFO     Node groundedness_score completes.\n",
      "2023-11-29 18:13:15 -0600   39040 execution.flow     INFO     Executing node concat_scores. node run id: e2f9eeaa-315e-427c-9bcf-a6e3b5a31926_concat_scores_0\n",
      "2023-11-29 18:13:15 -0600   39040 execution.flow     INFO     Node concat_scores completes.\n",
      "2023-11-29 18:13:15 -0600   39040 execution.flow     INFO     Start to run 1 nodes with concurrency level 16.\n",
      "2023-11-29 18:13:15 -0600   39040 execution.flow     INFO     Executing node aggregate_variants_results. node run id: 7fae7f28-307a-4a38-abde-4aa1ddfd989a_aggregate_variants_results_reduce\n",
      "2023-11-29 18:13:15 -0600   39040 execution.flow     INFO     Node aggregate_variants_results completes.\n"
     ]
    }
   ],
   "source": [
    "test = pf_client.test(\n",
    "    \"../eval/groundedness\",\n",
    "    inputs={\n",
    "        \"question\": question,\n",
    "        \"context\": str(output[\"context\"]),\n",
    "        \"answer\": output[\"answer\"],\n",
    "    },\n",
    ")"
   ]
  },
  {
   "cell_type": "code",
   "execution_count": 6,
   "metadata": {},
   "outputs": [
    {
     "data": {
      "text/plain": [
       "{'answer': 'Hi Sarah Lee! Based on the information in our relevant documents, your CozyNights Sleeping Bag features a reliable temperature rating suitable for spring, summer, and fall camping! 🏕️🌞🍁  To complement your sleeping bag, you may want to check out our TrailMaster X4 Tent, which features water-resistant construction and a spacious interior perfect for four occupants. ⛺️👨\\u200d👩\\u200d👧\\u200d👦🌧️',\n",
       " 'context': [{'id': '14',\n",
       "   'title': 'MountainDream Sleeping Bag',\n",
       "   'content': \"Meet the MountainDream Sleeping Bag: your new must-have companion for every outdoor adventure. Designed to handle 3-season camping with ease, it comes equipped with a premium synthetic insulation that will keep you cozy even when temperatures fall down to 15°F! Sporting a durable water-resistant nylon shell and soft breathable polyester lining, this bag doesn't sacrifice comfort for toughness. The star of the show is the contoured mummy shape that not only provides optimal heat retention but also cuts down on the weight. A smooth, snag-free YKK zipper with a unique anti-snag design allows for hassle-free operation, while the adjustable hood and full-length zipper baffle work together to ensure you stay warm all night long. Need to bring along some essentials? Not to worry! There's an interior pocket just for that. And when it's time to pack up? Just slip it into the included compression sack for easy storage and transport. Whether you're a backpacking pro or a camping novice, the MountainDream Sleeping Bag is the perfect blend of durability, warmth, and comfort that you've been looking for.\",\n",
       "   'url': '/products/mountaindream-sleeping-bag'},\n",
       "  {'id': '7',\n",
       "   'title': 'CozyNights Sleeping Bag',\n",
       "   'content': \"Embrace the great outdoors in any season with the lightweight CozyNights Sleeping Bag! This durable three-season bag is superbly designed to give hikers, campers, and backpackers comfort and warmth during spring, summer, and fall. With a compact design that folds down into a convenient stuff sack, you can whisk it away on any adventure without a hitch. The sleeping bag takes comfort seriously, featuring a handy hood, ample room and padding, and a reliable temperature rating. Crafted from high-quality polyester, it ensures long-lasting use and can even be zipped together with another bag for shared comfort. Whether you're gazing at stars or catching a quick nap between trails, the CozyNights Sleeping Bag makes it a treat. Don't just sleep— dream with CozyNights.\",\n",
       "   'url': '/products/cozynights-sleeping-bag'}]}"
      ]
     },
     "execution_count": 6,
     "metadata": {},
     "output_type": "execute_result"
    }
   ],
   "source": [
    "output"
   ]
  },
  {
   "cell_type": "code",
   "execution_count": 7,
   "metadata": {},
   "outputs": [
    {
     "data": {
      "text/plain": [
       "{'gpt_groundedness': 5.0}"
      ]
     },
     "execution_count": 7,
     "metadata": {},
     "output_type": "execute_result"
    }
   ],
   "source": [
    "test"
   ]
  },
  {
   "cell_type": "markdown",
   "metadata": {},
   "source": [
    "## Eval Flow"
   ]
  },
  {
   "cell_type": "code",
   "execution_count": 8,
   "metadata": {},
   "outputs": [
    {
     "name": "stdout",
     "output_type": "stream",
     "text": [
      "2023-11-29 18:13:15 -0600   39040 execution.flow     INFO     Start to run 8 nodes with concurrency level 16.\n",
      "2023-11-29 18:13:15 -0600   39040 execution.flow     INFO     Executing node coherence_score. node run id: 93b4e933-eb6b-41d1-ae6c-15f50c1fde59_coherence_score_0\n",
      "2023-11-29 18:13:15 -0600   39040 execution.flow     INFO     Executing node fluency_score. node run id: 93b4e933-eb6b-41d1-ae6c-15f50c1fde59_fluency_score_0\n",
      "2023-11-29 18:13:15 -0600   39040 execution.flow     INFO     Executing node groundedness_score. node run id: 93b4e933-eb6b-41d1-ae6c-15f50c1fde59_groundedness_score_0\n",
      "2023-11-29 18:13:15 -0600   39040 execution.flow     INFO     Executing node relevance_score. node run id: 93b4e933-eb6b-41d1-ae6c-15f50c1fde59_relevance_score_0\n",
      "2023-11-29 18:13:17 -0600   39040 execution.flow     INFO     Node coherence_score completes.\n",
      "2023-11-29 18:13:17 -0600   39040 execution.flow     INFO     Executing node coherence_concat_scores. node run id: 93b4e933-eb6b-41d1-ae6c-15f50c1fde59_coherence_concat_scores_0\n",
      "2023-11-29 18:13:17 -0600   39040 execution.flow     INFO     Node coherence_concat_scores completes.\n",
      "2023-11-29 18:13:17 -0600   39040 execution.flow     INFO     Node fluency_score completes.\n",
      "2023-11-29 18:13:17 -0600   39040 execution.flow     INFO     Executing node fluency_concat_scores. node run id: 93b4e933-eb6b-41d1-ae6c-15f50c1fde59_fluency_concat_scores_0\n",
      "2023-11-29 18:13:17 -0600   39040 execution.flow     INFO     Node fluency_concat_scores completes.\n",
      "2023-11-29 18:13:17 -0600   39040 execution.flow     INFO     Node relevance_score completes.\n",
      "2023-11-29 18:13:17 -0600   39040 execution.flow     INFO     Executing node relevance_concat_scores. node run id: 93b4e933-eb6b-41d1-ae6c-15f50c1fde59_relevance_concat_scores_0\n",
      "2023-11-29 18:13:17 -0600   39040 execution.flow     INFO     Node relevance_concat_scores completes.\n",
      "2023-11-29 18:13:17 -0600   39040 execution.flow     INFO     Node groundedness_score completes.\n",
      "2023-11-29 18:13:17 -0600   39040 execution.flow     INFO     Executing node groundedness_concat_scores. node run id: 93b4e933-eb6b-41d1-ae6c-15f50c1fde59_groundedness_concat_scores_0\n",
      "2023-11-29 18:13:17 -0600   39040 execution.flow     INFO     Node groundedness_concat_scores completes.\n",
      "2023-11-29 18:13:17 -0600   39040 execution.flow     INFO     Start to run 4 nodes with concurrency level 16.\n",
      "2023-11-29 18:13:17 -0600   39040 execution.flow     INFO     Executing node coherence_aggregate_variants_results. node run id: 4d118ede-de8f-4821-9a00-0f28257bfe61_coherence_aggregate_variants_results_reduce\n",
      "2023-11-29 18:13:17 -0600   39040 execution.flow     INFO     Executing node fluency_aggregate_variants_results. node run id: 4d118ede-de8f-4821-9a00-0f28257bfe61_fluency_aggregate_variants_results_reduce\n",
      "2023-11-29 18:13:17 -0600   39040 execution.flow     INFO     Executing node groundedness_aggregate_variants_results. node run id: 4d118ede-de8f-4821-9a00-0f28257bfe61_groundedness_aggregate_variants_results_reduce\n",
      "2023-11-29 18:13:17 -0600   39040 execution.flow     INFO     Node coherence_aggregate_variants_results completes.\n",
      "2023-11-29 18:13:17 -0600   39040 execution.flow     INFO     Executing node relevance_aggregate_variants_results. node run id: 4d118ede-de8f-4821-9a00-0f28257bfe61_relevance_aggregate_variants_results_reduce\n",
      "2023-11-29 18:13:17 -0600   39040 execution.flow     INFO     Node fluency_aggregate_variants_results completes.\n",
      "2023-11-29 18:13:17 -0600   39040 execution.flow     INFO     Node groundedness_aggregate_variants_results completes.\n",
      "2023-11-29 18:13:17 -0600   39040 execution.flow     INFO     Node relevance_aggregate_variants_results completes.\n"
     ]
    }
   ],
   "source": [
    "test_multi = pf_client.test(\n",
    "    \"../eval/multi_flow\",\n",
    "    inputs={\n",
    "        \"question\": question,\n",
    "        \"context\": str(output[\"context\"]),\n",
    "        \"answer\": output[\"answer\"],\n",
    "    },\n",
    ")"
   ]
  },
  {
   "cell_type": "code",
   "execution_count": 9,
   "metadata": {},
   "outputs": [
    {
     "data": {
      "text/plain": [
       "{'gpt_coherence': 4.0,\n",
       " 'gpt_fluency': 5.0,\n",
       " 'gpt_groundedness': 3.0,\n",
       " 'gpt_relevance': 2.0}"
      ]
     },
     "execution_count": 9,
     "metadata": {},
     "output_type": "execute_result"
    }
   ],
   "source": [
    "test_multi"
   ]
  },
  {
   "cell_type": "markdown",
   "metadata": {},
   "source": [
    "# Cloud Batch Run on Json Data"
   ]
  },
  {
   "cell_type": "code",
   "execution_count": 4,
   "metadata": {},
   "outputs": [],
   "source": [
    "import json\n",
    "# Import required libraries\n",
    "from promptflow.azure import PFClient\n",
    "\n",
    "# Import required libraries\n",
    "from azure.identity import DefaultAzureCredential, InteractiveBrowserCredential"
   ]
  },
  {
   "cell_type": "code",
   "execution_count": 5,
   "metadata": {},
   "outputs": [],
   "source": [
    "try:\n",
    "    credential = DefaultAzureCredential()\n",
    "    # Check if given credential can get token successfully.\n",
    "    credential.get_token(\"https://management.azure.com/.default\")\n",
    "except Exception as ex:\n",
    "    # Fall back to InteractiveBrowserCredential in case DefaultAzureCredential not work\n",
    "    credential = InteractiveBrowserCredential()"
   ]
  },
  {
   "cell_type": "code",
   "execution_count": 6,
   "metadata": {},
   "outputs": [
    {
     "name": "stderr",
     "output_type": "stream",
     "text": [
      "Found the config file in: ..\\config.json\n"
     ]
    }
   ],
   "source": [
    "config_path = \"../config.json\"\n",
    "pf = PFClient.from_config(credential=credential, path=config_path)"
   ]
  },
  {
   "cell_type": "code",
   "execution_count": 13,
   "metadata": {},
   "outputs": [],
   "source": [
    "runtime = \"contoso-retail-runtime\"\n",
    "# load flow\n",
    "flow = \"../\"\n",
    "data = \"../data/testdata.jsonl\""
   ]
  },
  {
   "cell_type": "code",
   "execution_count": 14,
   "metadata": {},
   "outputs": [
    {
     "name": "stdout",
     "output_type": "stream",
     "text": [
      "Portal url: https://ml.azure.com/prompts/flow/bulkrun/run/contoso_trek_variant_0_20231129_184904_724023/details?wsid=/subscriptions/91d27443-f037-45d9-bb0c-428256992df6/resourceGroups/rg-contosooutdoors/providers/Microsoft.MachineLearningServices/workspaces/contoso-store\n",
      "name: contoso_trek_variant_0_20231129_184904_724023\n",
      "created_on: '2023-11-30T00:49:17.197569+00:00'\n",
      "status: Preparing\n",
      "display_name: contoso-trek\n",
      "description: null\n",
      "tags: {}\n",
      "properties:\n",
      "  azureml.promptflow.runtime_name: contoso-retail-runtime\n",
      "  azureml.promptflow.runtime_version: 20231024.v1\n",
      "  azureml.promptflow.definition_file_name: flow.dag.yaml\n",
      "  azureml.promptflow.session_id: c284997311bc83cae62ec6a3be730410617ebd278b1f935c\n",
      "  azureml.promptflow.flow_lineage_id: 429e1e6d26688d24763c13521763a396c1f37974a875a82d49bb0ba9df1dc560\n",
      "  azureml.promptflow.flow_definition_datastore_name: workspaceblobstore\n",
      "  azureml.promptflow.flow_definition_blob_path: LocalUpload/faf8d82c39c12f0e0a0e39ec68f5f9e8/contoso-trek/flow.dag.yaml\n",
      "  azureml.promptflow.inputs_mapping: '{\"customerId\":\"${data.customerId}\",\"question\":\"${data.question}\"}'\n",
      "  azureml.promptflow.snapshot_id: 1870691e-e7aa-4358-8520-1619138a3de3\n",
      "  _azureml.evaluation_run: promptflow.BatchRun\n",
      "creation_context:\n",
      "  userObjectId: 50c2d972-de75-441d-ab86-ce5b387ed84a\n",
      "  userPuId: 1003200035704ECF\n",
      "  userIdp: null\n",
      "  userAltSecId: null\n",
      "  userIss: https://sts.windows.net/72f988bf-86f1-41af-91ab-2d7cd011db47/\n",
      "  userTenantId: 72f988bf-86f1-41af-91ab-2d7cd011db47\n",
      "  userName: Cassie Breviu\n",
      "  upn: null\n",
      "start_time: null\n",
      "end_time: null\n",
      "duration: null\n",
      "portal_url: https://ml.azure.com/prompts/flow/bulkrun/run/contoso_trek_variant_0_20231129_184904_724023/details?wsid=/subscriptions/91d27443-f037-45d9-bb0c-428256992df6/resourceGroups/rg-contosooutdoors/providers/Microsoft.MachineLearningServices/workspaces/contoso-store\n",
      "data: azureml://datastores/workspaceblobstore/paths/LocalUpload/da7da0535829a1c714482f457f2a936e/testdata.jsonl\n",
      "data_portal_url: https://ml.azure.com/data/datastore/workspaceblobstore/edit?wsid=/subscriptions/91d27443-f037-45d9-bb0c-428256992df6/resourceGroups/rg-contosooutdoors/providers/Microsoft.MachineLearningServices/workspaces/contoso-store&activeFilePath=LocalUpload/da7da0535829a1c714482f457f2a936e/testdata.jsonl#browseTab\n",
      "output: null\n",
      "output_portal_url: null\n",
      "\n"
     ]
    }
   ],
   "source": [
    "# create run\n",
    "base_run = pf.run(\n",
    "    flow=flow,\n",
    "    data=data,\n",
    "    column_mapping={\n",
    "        # reference data\n",
    "        \"customerId\": \"${data.customerId}\",\n",
    "        \"question\": \"${data.question}\",\n",
    "    },\n",
    "    runtime=runtime,\n",
    ")\n",
    "print(base_run)"
   ]
  },
  {
   "cell_type": "code",
   "execution_count": 15,
   "metadata": {},
   "outputs": [
    {
     "name": "stdout",
     "output_type": "stream",
     "text": [
      "2023-11-30 00:49:21 +0000     204 promptflow-runtime INFO     [contoso_trek_variant_0_20231129_184904_724023] Receiving v2 bulk run request 43e769b3-df1c-4743-bf31-890324861225: {\"flow_id\": \"contoso_trek_variant_0_20231129_184904_724023\", \"flow_run_id\": \"contoso_trek_variant_0_20231129_184904_724023\", \"flow_source\": {\"flow_source_type\": 1, \"flow_source_info\": {\"snapshot_id\": \"1870691e-e7aa-4358-8520-1619138a3de3\"}, \"flow_dag_file\": \"flow.dag.yaml\"}, \"connections\": \"**data_scrubbed**\", \"log_path\": \"https://stcontosoout446048492429.blob.core.windows.net/azureml/ExperimentRun/dcid.contoso_trek_variant_0_20231129_184904_724023/logs/azureml/executionlogs.txt?sv=2019-07-07&sr=b&sig=**data_scrubbed**&skoid=6a9cdc9c-374e-4dae-aeb3-39ff5126526d&sktid=72f988bf-86f1-41af-91ab-2d7cd011db47&skt=2023-11-29T22%3A56%3A03Z&ske=2023-12-01T07%3A06%3A03Z&sks=b&skv=2019-07-07&st=2023-11-30T00%3A39%3A18Z&se=2023-11-30T08%3A49%3A18Z&sp=rcw\", \"app_insights_instrumentation_key\": \"InstrumentationKey=**data_scrubbed**;IngestionEndpoint=https://eastus-6.in.applicationinsights.azure.com/;LiveEndpoint=https://eastus.livediagnostics.monitor.azure.com/\", \"data_inputs\": {\"data\": \"azureml://datastores/workspaceblobstore/paths/LocalUpload/da7da0535829a1c714482f457f2a936e/testdata.jsonl\"}, \"inputs_mapping\": {\"customerId\": \"${data.customerId}\", \"question\": \"${data.question}\"}, \"azure_storage_setting\": {\"azure_storage_mode\": 1, \"storage_account_name\": \"stcontosoout446048492429\", \"blob_container_name\": \"azureml-blobstore-4ab2cc7d-74ab-4a3f-9ce1-218668c55b0e\", \"flow_artifacts_root_path\": \"promptflow/PromptFlowArtifacts/contoso_trek_variant_0_20231129_184904_724023\", \"blob_container_sas_token\": \"?sv=2019-07-07&sr=c&sig=**data_scrubbed**&skoid=6a9cdc9c-374e-4dae-aeb3-39ff5126526d&sktid=72f988bf-86f1-41af-91ab-2d7cd011db47&skt=2023-11-30T00%3A49%3A20Z&ske=2023-12-07T00%3A49%3A19Z&sks=b&skv=2019-07-07&se=2023-12-07T00%3A49%3A19Z&sp=racwl\", \"output_datastore_name\": \"workspaceblobstore\"}}\n",
      "2023-11-30 00:49:21 +0000     204 promptflow-runtime INFO     Runtime version: 20231024.v1. PromptFlow version: 0.1.0b8.dev5\n",
      "2023-11-30 00:49:21 +0000     204 promptflow-runtime INFO     Running <function RunHistoryClient.get_run at 0x7f3109c51310>, 3 more tries to go.\n",
      "2023-11-30 00:49:21 +0000     204 promptflow-runtime INFO     Running <function RunHistoryClient.get_run at 0x7f3109c51280>, 3 more tries to go.\n",
      "2023-11-30 00:49:21 +0000     204 promptflow-runtime INFO     Running <function RunHistoryClient.update_run_status at 0x7f3109c510d0>, 3 more tries to go.\n",
      "2023-11-30 00:49:21 +0000     204 promptflow-runtime INFO     Updating contoso_trek_variant_0_20231129_184904_724023 to Status.Preparing...\n",
      "2023-11-30 00:49:21 +0000     204 promptflow-runtime INFO     Starting to check process 2636 status for run contoso_trek_variant_0_20231129_184904_724023\n",
      "2023-11-30 00:49:21 +0000     204 promptflow-runtime INFO     Start checking run status for bulk run contoso_trek_variant_0_20231129_184904_724023\n",
      "2023-11-30 00:49:21 +0000     204 promptflow-runtime INFO     Start checking run status for run contoso_trek_variant_0_20231129_184904_724023\n",
      "2023-11-30 00:49:21 +0000    2636 promptflow-runtime INFO     [204--2636] Start processing flowV2......\n",
      "2023-11-30 00:49:21 +0000    2636 promptflow-runtime INFO     Setting mlflow tracking uri...\n",
      "2023-11-30 00:49:21 +0000    2636 promptflow-runtime INFO     Validating 'AzureML Data Scientist' user authentication...\n",
      "2023-11-30 00:49:21 +0000    2636 promptflow-runtime INFO     Running <function RuntimeConfig.validate_by_get_dummy_run at 0x7f3109c5b790>, 5 more tries to go.\n",
      "2023-11-30 00:49:22 +0000    2636 promptflow-runtime INFO     Successfully validated 'AzureML Data Scientist' user authentication.\n",
      "2023-11-30 00:49:22 +0000    2636 promptflow-runtime INFO     Using AzureMLRunStorageV2\n",
      "2023-11-30 00:49:22 +0000    2636 promptflow-runtime INFO     Setting mlflow tracking uri to 'azureml://eastus.api.azureml.ms/mlflow/v1.0/subscriptions/91d27443-f037-45d9-bb0c-428256992df6/resourceGroups/rg-contosooutdoors/providers/Microsoft.MachineLearningServices/workspaces/contoso-store'\n",
      "2023-11-30 00:49:22 +0000    2636 promptflow-runtime INFO     Running <function MlflowHelper.get_host_creds at 0x7f30d6139b80>, 5 more tries to go.\n",
      "2023-11-30 00:49:22 +0000    2636 promptflow-runtime INFO     Initialized blob service client for AzureMLRunTracker.\n",
      "2023-11-30 00:49:22 +0000    2636 promptflow-runtime INFO     Setting mlflow tracking uri to 'azureml://eastus.api.azureml.ms/mlflow/v1.0/subscriptions/91d27443-f037-45d9-bb0c-428256992df6/resourceGroups/rg-contosooutdoors/providers/Microsoft.MachineLearningServices/workspaces/contoso-store'\n",
      "2023-11-30 00:49:22 +0000    2636 promptflow-runtime INFO     Running <function MlflowHelper.get_host_creds at 0x7f30d6139b80>, 5 more tries to go.\n",
      "2023-11-30 00:49:22 +0000    2636 promptflow-runtime INFO     Running <function SnapshotsClient.download_snapshot at 0x7f3108df3790>, 3 more tries to go.\n",
      "2023-11-30 00:49:22 +0000    2636 promptflow-runtime INFO     Get snapshot sas url for 1870691e-e7aa-4358-8520-1619138a3de3...\n",
      "2023-11-30 00:49:29 +0000    2636 promptflow-runtime INFO     Downloading snapshot 1870691e-e7aa-4358-8520-1619138a3de3 from uri https://stcontosoout446048492429.blob.core.windows.net/snapshotzips/contoso-store:4ab2cc7d-74ab-4a3f-9ce1-218668c55b0e:snapshotzip/1870691e-e7aa-4358-8520-1619138a3de3.zip...\n",
      "2023-11-30 00:49:29 +0000    2636 promptflow-runtime INFO     Downloaded file /service/app/45635/requests/contoso_trek_variant_0_20231129_184904_724023/1870691e-e7aa-4358-8520-1619138a3de3.zip with size 122242 for snapshot 1870691e-e7aa-4358-8520-1619138a3de3.\n",
      "2023-11-30 00:49:29 +0000    2636 promptflow-runtime INFO     Download snapshot 1870691e-e7aa-4358-8520-1619138a3de3 completed.\n",
      "2023-11-30 00:49:29 +0000    2636 promptflow-runtime INFO     Running <function prepare_data at 0x7f30d2c813a0>, 3 more tries to go.\n",
      "2023-11-30 00:49:30 +0000    2636 promptflow-runtime INFO     Resolve data from url finished in 0.9718396277166903 seconds\n",
      "2023-11-30 00:49:30 +0000    2636 promptflow-runtime INFO     Flow run is not terminated, skip persisting flow run record.\n",
      "2023-11-30 00:49:30 +0000    2636 promptflow-runtime INFO     Starting the aml run 'contoso_trek_variant_0_20231129_184904_724023'...\n",
      "2023-11-30 00:49:30 +0000    2636 execution.bulk     INFO     Using fork, process count: 5\n",
      "2023-11-30 00:49:30 +0000    2666 execution          INFO     Process 2666 started.\n",
      "2023-11-30 00:49:30 +0000    2673 execution          INFO     Process 2673 started.\n",
      "2023-11-30 00:49:30 +0000    2678 execution          INFO     Process 2678 started.\n",
      "2023-11-30 00:49:30 +0000    2682 execution          INFO     Process 2682 started.\n",
      "2023-11-30 00:49:30 +0000    2686 execution          INFO     Process 2686 started.\n",
      "2023-11-30 00:49:31 +0000    2636 execution          INFO     Process name: Process-26:2, Process id: 2666, Line number: 0 start execution.\n",
      "2023-11-30 00:49:31 +0000    2636 promptflow-runtime INFO     Flow run is not terminated, skip persisting flow run record.\n",
      "2023-11-30 00:49:31 +0000    2636 execution          INFO     Process name: Process-26:3, Process id: 2673, Line number: 1 start execution.\n",
      "2023-11-30 00:49:31 +0000    2636 execution          INFO     Process name: Process-26:4, Process id: 2678, Line number: 2 start execution.\n",
      "2023-11-30 00:49:31 +0000    2636 promptflow-runtime INFO     Flow run is not terminated, skip persisting flow run record.\n",
      "2023-11-30 00:49:31 +0000    2636 promptflow-runtime INFO     Flow run is not terminated, skip persisting flow run record.\n",
      "2023-11-30 00:49:31 +0000    2636 execution          INFO     Process name: Process-26:6, Process id: 2682, Line number: 3 start execution.\n",
      "2023-11-30 00:49:31 +0000    2636 execution          INFO     Process name: Process-26:5, Process id: 2686, Line number: 4 start execution.\n",
      "2023-11-30 00:49:31 +0000    2636 promptflow-runtime INFO     Flow run is not terminated, skip persisting flow run record.\n",
      "2023-11-30 00:49:31 +0000    2636 promptflow-runtime INFO     Flow run is not terminated, skip persisting flow run record.\n",
      "2023-11-30 00:49:32 +0000    2636 execution          INFO     Process name: Process-26:6, Process id: 2682, Line number: 3 completed.\n",
      "2023-11-30 00:49:32 +0000    2636 execution.bulk     INFO     Finished 1 / 5 lines.\n",
      "2023-11-30 00:49:32 +0000    2636 execution          INFO     Process name: Process-26:5, Process id: 2686, Line number: 4 completed.\n",
      "2023-11-30 00:49:32 +0000    2636 execution.bulk     INFO     Average execution time for completed lines: 1.67 seconds. Estimated time for incomplete lines: 6.68 seconds.\n",
      "2023-11-30 00:49:32 +0000    2636 execution.bulk     INFO     Finished 2 / 5 lines.\n",
      "2023-11-30 00:49:32 +0000    2636 execution.bulk     INFO     Average execution time for completed lines: 0.85 seconds. Estimated time for incomplete lines: 2.55 seconds.\n",
      "2023-11-30 00:49:32 +0000    2636 execution          INFO     Process name: Process-26:3, Process id: 2673, Line number: 1 completed.\n",
      "2023-11-30 00:49:32 +0000    2636 execution.bulk     INFO     Finished 3 / 5 lines.\n",
      "2023-11-30 00:49:32 +0000    2636 execution.bulk     INFO     Average execution time for completed lines: 0.62 seconds. Estimated time for incomplete lines: 1.24 seconds.\n",
      "2023-11-30 00:49:33 +0000    2636 execution          INFO     Process name: Process-26:4, Process id: 2678, Line number: 2 completed.\n",
      "2023-11-30 00:49:33 +0000    2636 execution.bulk     INFO     Finished 4 / 5 lines.\n",
      "2023-11-30 00:49:33 +0000    2636 execution.bulk     INFO     Average execution time for completed lines: 0.55 seconds. Estimated time for incomplete lines: 0.55 seconds.\n",
      "2023-11-30 00:49:33 +0000    2636 execution          INFO     Process name: Process-26:2, Process id: 2666, Line number: 0 completed.\n",
      "2023-11-30 00:49:33 +0000    2636 execution.bulk     INFO     Finished 5 / 5 lines.\n",
      "2023-11-30 00:49:33 +0000    2636 execution.bulk     INFO     Average execution time for completed lines: 0.47 seconds. Estimated time for incomplete lines: 0.0 seconds.\n",
      "2023-11-30 00:49:37 +0000    2636 execution.bulk     INFO     Upload status summary metrics for run contoso_trek_variant_0_20231129_184904_724023 finished in 2.9288909253664315 seconds\n",
      "2023-11-30 00:49:37 +0000    2636 promptflow-runtime INFO     Successfully write run properties {\"azureml.promptflow.total_tokens\": 6327, \"_azureml.evaluate_artifacts\": \"[{\\\"path\\\": \\\"instance_results.jsonl\\\", \\\"type\\\": \\\"table\\\"}]\"} with run id 'contoso_trek_variant_0_20231129_184904_724023'\n",
      "2023-11-30 00:49:37 +0000    2636 execution.bulk     INFO     Upload RH properties for run contoso_trek_variant_0_20231129_184904_724023 finished in 0.07127594714984298 seconds\n",
      "2023-11-30 00:49:37 +0000    2636 promptflow-runtime INFO     Running <function AssetClient.create_unregistered_output at 0x7f3108f225e0>, 3 more tries to go.\n",
      "2023-11-30 00:49:37 +0000    2636 promptflow-runtime INFO     Creating unregistered output Asset for Run contoso_trek_variant_0_20231129_184904_724023...\n",
      "2023-11-30 00:49:37 +0000    2636 promptflow-runtime INFO     Created debug_info Asset: azureml://locations/eastus/workspaces/4ab2cc7d-74ab-4a3f-9ce1-218668c55b0e/data/azureml_contoso_trek_variant_0_20231129_184904_724023_output_data_debug_info/versions/1\n",
      "2023-11-30 00:49:37 +0000    2636 promptflow-runtime INFO     Running <function AssetClient.create_unregistered_output at 0x7f3108f225e0>, 3 more tries to go.\n",
      "2023-11-30 00:49:37 +0000    2636 promptflow-runtime INFO     Creating unregistered output Asset for Run contoso_trek_variant_0_20231129_184904_724023...\n",
      "2023-11-30 00:49:37 +0000    2636 promptflow-runtime INFO     Created flow_outputs output Asset: azureml://locations/eastus/workspaces/4ab2cc7d-74ab-4a3f-9ce1-218668c55b0e/data/azureml_contoso_trek_variant_0_20231129_184904_724023_output_data_flow_outputs/versions/1\n",
      "2023-11-30 00:49:37 +0000    2636 promptflow-runtime INFO     Running <function ArtifactClient.register_artifact at 0x7f3108f228b0>, 3 more tries to go.\n",
      "2023-11-30 00:49:37 +0000    2636 promptflow-runtime INFO     Creating Artifact for Run contoso_trek_variant_0_20231129_184904_724023...\n",
      "2023-11-30 00:49:38 +0000    2636 promptflow-runtime INFO     Created instance_results.jsonl Artifact.\n",
      "2023-11-30 00:49:38 +0000    2636 promptflow-runtime INFO     Running <function RunHistoryClient.patch_run at 0x7f3109c4bf70>, 3 more tries to go.\n",
      "2023-11-30 00:49:38 +0000    2636 promptflow-runtime INFO     Patching contoso_trek_variant_0_20231129_184904_724023...\n",
      "2023-11-30 00:49:38 +0000    2636 promptflow-runtime INFO     Ending the aml run 'contoso_trek_variant_0_20231129_184904_724023' with status 'Completed'...\n",
      "2023-11-30 00:49:38 +0000     204 promptflow-runtime INFO     Process 2636 finished\n",
      "2023-11-30 00:49:38 +0000     204 promptflow-runtime INFO     [204] Child process finished!\n",
      "2023-11-30 00:49:38 +0000     204 promptflow-runtime INFO     [contoso_trek_variant_0_20231129_184904_724023] End processing bulk run\n",
      "======= Run Summary =======\n",
      "Run name: \"contoso_trek_variant_0_20231129_184904_724023\"\n",
      "Run status: \"Completed\"\n",
      "Start time: \"2023-11-30 00:49:30.713480+00:00\"\n",
      "Duration: \"0:00:07.533333\"\n",
      "Run url: \"https://ml.azure.com/prompts/flow/bulkrun/run/contoso_trek_variant_0_20231129_184904_724023/details?wsid=/subscriptions/91d27443-f037-45d9-bb0c-428256992df6/resourceGroups/rg-contosooutdoors/providers/Microsoft.MachineLearningServices/workspaces/contoso-store\""
     ]
    },
    {
     "data": {
      "text/plain": [
       "<promptflow._sdk.entities._run.Run at 0x1ac3de0f8e0>"
      ]
     },
     "execution_count": 15,
     "metadata": {},
     "output_type": "execute_result"
    }
   ],
   "source": [
    "pf.stream(base_run)"
   ]
  },
  {
   "cell_type": "code",
   "execution_count": 16,
   "metadata": {},
   "outputs": [
    {
     "data": {
      "text/html": [
       "<div>\n",
       "<style scoped>\n",
       "    .dataframe tbody tr th:only-of-type {\n",
       "        vertical-align: middle;\n",
       "    }\n",
       "\n",
       "    .dataframe tbody tr th {\n",
       "        vertical-align: top;\n",
       "    }\n",
       "\n",
       "    .dataframe thead th {\n",
       "        text-align: right;\n",
       "    }\n",
       "</style>\n",
       "<table border=\"1\" class=\"dataframe\">\n",
       "  <thead>\n",
       "    <tr style=\"text-align: right;\">\n",
       "      <th></th>\n",
       "      <th>inputs.chat_history</th>\n",
       "      <th>inputs.customerId</th>\n",
       "      <th>inputs.question</th>\n",
       "      <th>inputs.line_number</th>\n",
       "      <th>outputs.answer</th>\n",
       "      <th>outputs.context</th>\n",
       "    </tr>\n",
       "    <tr>\n",
       "      <th>outputs.line_number</th>\n",
       "      <th></th>\n",
       "      <th></th>\n",
       "      <th></th>\n",
       "      <th></th>\n",
       "      <th></th>\n",
       "      <th></th>\n",
       "    </tr>\n",
       "  </thead>\n",
       "  <tbody>\n",
       "    <tr>\n",
       "      <th>3</th>\n",
       "      <td>[]</td>\n",
       "      <td>6</td>\n",
       "      <td>Do you have any hiking boots?</td>\n",
       "      <td>3</td>\n",
       "      <td>Hi Emily! Yes, we have a few great options for...</td>\n",
       "      <td>[{'id': '4', 'title': 'TrekReady Hiking Boots'...</td>\n",
       "    </tr>\n",
       "    <tr>\n",
       "      <th>4</th>\n",
       "      <td>[]</td>\n",
       "      <td>2</td>\n",
       "      <td>What gear do you recommend for hiking?</td>\n",
       "      <td>4</td>\n",
       "      <td>Hi Jane! As an adventurer with a \"Gold\" member...</td>\n",
       "      <td>[{'id': '16', 'title': 'TrailLite Daypack', 'c...</td>\n",
       "    </tr>\n",
       "    <tr>\n",
       "      <th>1</th>\n",
       "      <td>[]</td>\n",
       "      <td>1</td>\n",
       "      <td>Do you have any climbing gear?</td>\n",
       "      <td>1</td>\n",
       "      <td>Hello John! As a Base member, you've made some...</td>\n",
       "      <td>[{'id': '3', 'title': 'Summit Breeze Jacket', ...</td>\n",
       "    </tr>\n",
       "    <tr>\n",
       "      <th>2</th>\n",
       "      <td>[]</td>\n",
       "      <td>3</td>\n",
       "      <td>Can you tell me about your selection of tents?</td>\n",
       "      <td>2</td>\n",
       "      <td>Hi Michael! 🤖 Of course, we have a wide select...</td>\n",
       "      <td>[{'id': '8', 'title': 'Alpine Explorer Tent', ...</td>\n",
       "    </tr>\n",
       "    <tr>\n",
       "      <th>0</th>\n",
       "      <td>[]</td>\n",
       "      <td>4</td>\n",
       "      <td>tell me about your hiking jackets</td>\n",
       "      <td>0</td>\n",
       "      <td>Hi Sarah Lee! Thanks for asking about our hiki...</td>\n",
       "      <td>[{'id': '3', 'title': 'Summit Breeze Jacket', ...</td>\n",
       "    </tr>\n",
       "  </tbody>\n",
       "</table>\n",
       "</div>"
      ],
      "text/plain": [
       "                    inputs.chat_history inputs.customerId  \\\n",
       "outputs.line_number                                         \n",
       "3                                    []                 6   \n",
       "4                                    []                 2   \n",
       "1                                    []                 1   \n",
       "2                                    []                 3   \n",
       "0                                    []                 4   \n",
       "\n",
       "                                                    inputs.question  \\\n",
       "outputs.line_number                                                   \n",
       "3                                     Do you have any hiking boots?   \n",
       "4                            What gear do you recommend for hiking?   \n",
       "1                                    Do you have any climbing gear?   \n",
       "2                    Can you tell me about your selection of tents?   \n",
       "0                                 tell me about your hiking jackets   \n",
       "\n",
       "                     inputs.line_number  \\\n",
       "outputs.line_number                       \n",
       "3                                     3   \n",
       "4                                     4   \n",
       "1                                     1   \n",
       "2                                     2   \n",
       "0                                     0   \n",
       "\n",
       "                                                        outputs.answer  \\\n",
       "outputs.line_number                                                      \n",
       "3                    Hi Emily! Yes, we have a few great options for...   \n",
       "4                    Hi Jane! As an adventurer with a \"Gold\" member...   \n",
       "1                    Hello John! As a Base member, you've made some...   \n",
       "2                    Hi Michael! 🤖 Of course, we have a wide select...   \n",
       "0                    Hi Sarah Lee! Thanks for asking about our hiki...   \n",
       "\n",
       "                                                       outputs.context  \n",
       "outputs.line_number                                                     \n",
       "3                    [{'id': '4', 'title': 'TrekReady Hiking Boots'...  \n",
       "4                    [{'id': '16', 'title': 'TrailLite Daypack', 'c...  \n",
       "1                    [{'id': '3', 'title': 'Summit Breeze Jacket', ...  \n",
       "2                    [{'id': '8', 'title': 'Alpine Explorer Tent', ...  \n",
       "0                    [{'id': '3', 'title': 'Summit Breeze Jacket', ...  "
      ]
     },
     "execution_count": 16,
     "metadata": {},
     "output_type": "execute_result"
    }
   ],
   "source": [
    "details = pf.get_details(base_run)\n",
    "details.head(10)"
   ]
  },
  {
   "cell_type": "markdown",
   "metadata": {},
   "source": [
    "# Cloud Eval run on Json Data"
   ]
  },
  {
   "cell_type": "code",
   "execution_count": 30,
   "metadata": {},
   "outputs": [
    {
     "name": "stdout",
     "output_type": "stream",
     "text": [
      "Portal url: https://ml.azure.com/prompts/flow/bulkrun/run/multi_flow_variant_0_20231129_185903_170460/details?wsid=/subscriptions/91d27443-f037-45d9-bb0c-428256992df6/resourceGroups/rg-contosooutdoors/providers/Microsoft.MachineLearningServices/workspaces/contoso-store\n"
     ]
    }
   ],
   "source": [
    "eval_flow = \"../eval/multi_flow/\"\n",
    "data = \"../data/testdata.jsonl\"\n",
    "\n",
    "eval_run_variant = pf.run(\n",
    "    flow=eval_flow,\n",
    "    data=data,  # path to the data file\n",
    "    run=base_run,  # use run as the variant\n",
    "    column_mapping={\n",
    "        # reference data\n",
    "        \"customerId\": \"${data.customerId}\",\n",
    "        \"question\": \"${data.question}\",\n",
    "        \"context\": \"${run.outputs.context}\",\n",
    "        # reference the run's output\n",
    "        \"answer\": \"${run.outputs.answer}\",\n",
    "    },\n",
    "    runtime=runtime,\n",
    ")"
   ]
  },
  {
   "cell_type": "code",
   "execution_count": 31,
   "metadata": {},
   "outputs": [
    {
     "name": "stdout",
     "output_type": "stream",
     "text": [
      "2023-11-30 00:59:22 +0000      45 promptflow-runtime INFO     [multi_flow_variant_0_20231129_185903_170460] Receiving v2 bulk run request af27b1c8-61e6-4ebc-8de4-4dc6508bc9c0: {\"flow_id\": \"multi_flow_variant_0_20231129_185903_170460\", \"flow_run_id\": \"multi_flow_variant_0_20231129_185903_170460\", \"flow_source\": {\"flow_source_type\": 1, \"flow_source_info\": {\"snapshot_id\": \"c82f31e0-484a-47ca-b6b5-ecb043d9ed91\"}, \"flow_dag_file\": \"flow.dag.yaml\"}, \"connections\": \"**data_scrubbed**\", \"log_path\": \"https://stcontosoout446048492429.blob.core.windows.net/azureml/ExperimentRun/dcid.multi_flow_variant_0_20231129_185903_170460/logs/azureml/executionlogs.txt?sv=2019-07-07&sr=b&sig=**data_scrubbed**&skoid=6a9cdc9c-374e-4dae-aeb3-39ff5126526d&sktid=72f988bf-86f1-41af-91ab-2d7cd011db47&skt=2023-11-29T22%3A55%3A56Z&ske=2023-12-01T07%3A05%3A56Z&sks=b&skv=2019-07-07&st=2023-11-30T00%3A49%3A18Z&se=2023-11-30T08%3A59%3A18Z&sp=rcw\", \"app_insights_instrumentation_key\": \"InstrumentationKey=**data_scrubbed**;IngestionEndpoint=https://eastus-6.in.applicationinsights.azure.com/;LiveEndpoint=https://eastus.livediagnostics.monitor.azure.com/\", \"data_inputs\": {\"data\": \"azureml://datastores/workspaceblobstore/paths/LocalUpload/da7da0535829a1c714482f457f2a936e/testdata.jsonl\", \"run.outputs\": \"azureml:/subscriptions/91d27443-f037-45d9-bb0c-428256992df6/resourceGroups/rg-contosooutdoors/providers/Microsoft.MachineLearningServices/workspaces/contoso-store/data/azureml_contoso_trek_variant_0_20231129_184904_724023_output_data_flow_outputs/versions/1\"}, \"inputs_mapping\": {\"customerId\": \"${data.customerId}\", \"question\": \"${data.question}\", \"context\": \"${run.outputs.context}\", \"answer\": \"${run.outputs.answer}\"}, \"azure_storage_setting\": {\"azure_storage_mode\": 1, \"storage_account_name\": \"stcontosoout446048492429\", \"blob_container_name\": \"azureml-blobstore-4ab2cc7d-74ab-4a3f-9ce1-218668c55b0e\", \"flow_artifacts_root_path\": \"promptflow/PromptFlowArtifacts/multi_flow_variant_0_20231129_185903_170460\", \"blob_container_sas_token\": \"?sv=2019-07-07&sr=c&sig=**data_scrubbed**&skoid=6a9cdc9c-374e-4dae-aeb3-39ff5126526d&sktid=72f988bf-86f1-41af-91ab-2d7cd011db47&skt=2023-11-30T00%3A59%3A20Z&ske=2023-12-07T00%3A59%3A20Z&sks=b&skv=2019-07-07&se=2023-12-07T00%3A59%3A20Z&sp=racwl\", \"output_datastore_name\": \"workspaceblobstore\"}}\n",
      "2023-11-30 00:59:22 +0000      45 promptflow-runtime INFO     Runtime version: 20231024.v1. PromptFlow version: 0.1.0b8.dev5\n",
      "2023-11-30 00:59:22 +0000      45 promptflow-runtime INFO     Running <function RunHistoryClient.get_run at 0x7effccc8d310>, 3 more tries to go.\n",
      "2023-11-30 00:59:22 +0000      45 promptflow-runtime INFO     Running <function RunHistoryClient.get_run at 0x7effccc8d280>, 3 more tries to go.\n",
      "2023-11-30 00:59:22 +0000      45 promptflow-runtime INFO     Running <function RunHistoryClient.update_run_status at 0x7effccc8d0d0>, 3 more tries to go.\n",
      "2023-11-30 00:59:22 +0000      45 promptflow-runtime INFO     Updating multi_flow_variant_0_20231129_185903_170460 to Status.Preparing...\n",
      "2023-11-30 00:59:23 +0000      45 promptflow-runtime INFO     Starting to check process 3240 status for run multi_flow_variant_0_20231129_185903_170460\n",
      "2023-11-30 00:59:23 +0000    3240 promptflow-runtime INFO     [45--3240] Start processing flowV2......\n",
      "2023-11-30 00:59:23 +0000      45 promptflow-runtime INFO     Start checking run status for bulk run multi_flow_variant_0_20231129_185903_170460\n",
      "2023-11-30 00:59:23 +0000    3240 promptflow-runtime INFO     Setting mlflow tracking uri...\n",
      "2023-11-30 00:59:23 +0000      45 promptflow-runtime INFO     Start checking run status for run multi_flow_variant_0_20231129_185903_170460\n",
      "2023-11-30 00:59:23 +0000    3240 promptflow-runtime INFO     Validating 'AzureML Data Scientist' user authentication...\n",
      "2023-11-30 00:59:23 +0000    3240 promptflow-runtime INFO     Running <function RuntimeConfig.validate_by_get_dummy_run at 0x7effccc97790>, 5 more tries to go.\n",
      "2023-11-30 00:59:23 +0000    3240 promptflow-runtime INFO     Successfully validated 'AzureML Data Scientist' user authentication.\n",
      "2023-11-30 00:59:23 +0000    3240 promptflow-runtime INFO     Using AzureMLRunStorageV2\n",
      "2023-11-30 00:59:23 +0000    3240 promptflow-runtime INFO     Setting mlflow tracking uri to 'azureml://eastus.api.azureml.ms/mlflow/v1.0/subscriptions/91d27443-f037-45d9-bb0c-428256992df6/resourceGroups/rg-contosooutdoors/providers/Microsoft.MachineLearningServices/workspaces/contoso-store'\n",
      "2023-11-30 00:59:23 +0000    3240 promptflow-runtime INFO     Running <function MlflowHelper.get_host_creds at 0x7eff9917fb80>, 5 more tries to go.\n",
      "2023-11-30 00:59:23 +0000    3240 promptflow-runtime INFO     Initialized blob service client for AzureMLRunTracker.\n",
      "2023-11-30 00:59:23 +0000    3240 promptflow-runtime INFO     Setting mlflow tracking uri to 'azureml://eastus.api.azureml.ms/mlflow/v1.0/subscriptions/91d27443-f037-45d9-bb0c-428256992df6/resourceGroups/rg-contosooutdoors/providers/Microsoft.MachineLearningServices/workspaces/contoso-store'\n",
      "2023-11-30 00:59:23 +0000    3240 promptflow-runtime INFO     Running <function MlflowHelper.get_host_creds at 0x7eff9917fb80>, 5 more tries to go.\n",
      "2023-11-30 00:59:24 +0000    3240 promptflow-runtime INFO     Running <function SnapshotsClient.download_snapshot at 0x7effcbec4700>, 3 more tries to go.\n",
      "2023-11-30 00:59:24 +0000    3240 promptflow-runtime INFO     Get snapshot sas url for c82f31e0-484a-47ca-b6b5-ecb043d9ed91...\n",
      "2023-11-30 00:59:30 +0000    3240 promptflow-runtime INFO     Downloading snapshot c82f31e0-484a-47ca-b6b5-ecb043d9ed91 from uri https://stcontosoout446048492429.blob.core.windows.net/snapshotzips/contoso-store:4ab2cc7d-74ab-4a3f-9ce1-218668c55b0e:snapshotzip/c82f31e0-484a-47ca-b6b5-ecb043d9ed91.zip...\n",
      "2023-11-30 00:59:30 +0000    3240 promptflow-runtime INFO     Downloaded file /service/app/46191/requests/multi_flow_variant_0_20231129_185903_170460/c82f31e0-484a-47ca-b6b5-ecb043d9ed91.zip with size 31573 for snapshot c82f31e0-484a-47ca-b6b5-ecb043d9ed91.\n",
      "2023-11-30 00:59:30 +0000    3240 promptflow-runtime INFO     Download snapshot c82f31e0-484a-47ca-b6b5-ecb043d9ed91 completed.\n",
      "2023-11-30 00:59:30 +0000    3240 promptflow-runtime INFO     Running <function prepare_data at 0x7eff95cc73a0>, 3 more tries to go.\n",
      "2023-11-30 00:59:30 +0000    3240 promptflow-runtime INFO     Resolve data from url finished in 0.482668608892709 seconds\n",
      "2023-11-30 00:59:31 +0000    3240 promptflow-runtime INFO     Running <function prepare_data at 0x7eff95cc73a0>, 3 more tries to go.\n",
      "2023-11-30 00:59:31 +0000    3240 promptflow-runtime INFO     Resolve data from url finished in 0.5753285018727183 seconds\n",
      "2023-11-30 00:59:31 +0000    3240 promptflow-runtime INFO     Flow run is not terminated, skip persisting flow run record.\n",
      "2023-11-30 00:59:31 +0000    3240 promptflow-runtime INFO     Starting the aml run 'multi_flow_variant_0_20231129_185903_170460'...\n",
      "2023-11-30 00:59:32 +0000    3240 execution.bulk     INFO     Using fork, process count: 5\n",
      "2023-11-30 00:59:32 +0000    3275 execution          INFO     Process 3275 started.\n",
      "2023-11-30 00:59:32 +0000    3271 execution          INFO     Process 3271 started.\n",
      "2023-11-30 00:59:32 +0000    3290 execution          INFO     Process 3290 started.\n",
      "2023-11-30 00:59:32 +0000    3240 execution          INFO     Process name: Process-38:3, Process id: 3275, Line number: 0 start execution.\n",
      "2023-11-30 00:59:32 +0000    3286 execution          INFO     Process 3286 started.\n",
      "2023-11-30 00:59:32 +0000    3240 promptflow-runtime INFO     Flow run is not terminated, skip persisting flow run record.\n",
      "2023-11-30 00:59:32 +0000    3240 execution          INFO     Process name: Process-38:2, Process id: 3271, Line number: 1 start execution.\n",
      "2023-11-30 00:59:32 +0000    3240 execution          INFO     Process name: Process-38:5, Process id: 3290, Line number: 2 start execution.\n",
      "2023-11-30 00:59:32 +0000    3240 promptflow-runtime INFO     Flow run is not terminated, skip persisting flow run record.\n",
      "2023-11-30 00:59:32 +0000    3240 execution          INFO     Process name: Process-38:6, Process id: 3286, Line number: 3 start execution.\n",
      "2023-11-30 00:59:32 +0000    3240 promptflow-runtime INFO     Flow run is not terminated, skip persisting flow run record.\n",
      "2023-11-30 00:59:32 +0000    3240 promptflow-runtime INFO     Flow run is not terminated, skip persisting flow run record.\n",
      "2023-11-30 00:59:32 +0000    3290 execution          WARNING  [groundedness_score in line 2 (index starts from 0)] stderr> Exception occurs: RateLimitError: Requests to the ChatCompletions_Create Operation under Azure OpenAI API version 2023-07-01-preview have exceeded call rate limit of your current OpenAI S0 pricing tier. Please retry after 10 seconds. Please go here: https://aka.ms/oai/quotaincrease if you would like to further increase the default rate limit.\n",
      "2023-11-30 00:59:32 +0000    3286 execution          WARNING  [groundedness_score in line 3 (index starts from 0)] stderr> Exception occurs: RateLimitError: Requests to the ChatCompletions_Create Operation under Azure OpenAI API version 2023-07-01-preview have exceeded call rate limit of your current OpenAI S0 pricing tier. Please retry after 10 seconds. Please go here: https://aka.ms/oai/quotaincrease if you would like to further increase the default rate limit.\n",
      "2023-11-30 00:59:32 +0000    3290 execution          WARNING  [relevance_score in line 2 (index starts from 0)] stderr> Exception occurs: RateLimitError: Requests to the ChatCompletions_Create Operation under Azure OpenAI API version 2023-07-01-preview have exceeded call rate limit of your current OpenAI S0 pricing tier. Please retry after 10 seconds. Please go here: https://aka.ms/oai/quotaincrease if you would like to further increase the default rate limit.\n",
      "2023-11-30 00:59:32 +0000    3286 execution          WARNING  [relevance_score in line 3 (index starts from 0)] stderr> Exception occurs: RateLimitError: Requests to the ChatCompletions_Create Operation under Azure OpenAI API version 2023-07-01-preview have exceeded call rate limit of your current OpenAI S0 pricing tier. Please retry after 10 seconds. Please go here: https://aka.ms/oai/quotaincrease if you would like to further increase the default rate limit.\n",
      "2023-11-30 00:59:32 +0000    3290 execution          WARNING  [groundedness_score in line 2 (index starts from 0)] stderr> RateLimitError #0, Retry-After=10, Back off 10.0 seconds for retry.\n",
      "2023-11-30 00:59:32 +0000    3290 execution          WARNING  [relevance_score in line 2 (index starts from 0)] stderr> RateLimitError #0, Retry-After=10, Back off 10.0 seconds for retry.\n",
      "2023-11-30 00:59:32 +0000    3286 execution          WARNING  [groundedness_score in line 3 (index starts from 0)] stderr> RateLimitError #0, Retry-After=10, Back off 10.0 seconds for retry.\n",
      "2023-11-30 00:59:32 +0000    3286 execution          WARNING  [relevance_score in line 3 (index starts from 0)] stderr> RateLimitError #0, Retry-After=10, Back off 10.0 seconds for retry.\n",
      "2023-11-30 00:59:32 +0000    3280 execution          INFO     Process 3280 started.\n",
      "2023-11-30 00:59:33 +0000    3240 execution          INFO     Process name: Process-38:4, Process id: 3280, Line number: 4 start execution.\n",
      "2023-11-30 00:59:33 +0000    3240 promptflow-runtime INFO     Flow run is not terminated, skip persisting flow run record.\n",
      "2023-11-30 00:59:33 +0000    3280 execution          WARNING  [coherence_score in line 4 (index starts from 0)] stderr> Exception occurs: RateLimitError: Requests to the ChatCompletions_Create Operation under Azure OpenAI API version 2023-07-01-preview have exceeded call rate limit of your current OpenAI S0 pricing tier. Please retry after 9 seconds. Please go here: https://aka.ms/oai/quotaincrease if you would like to further increase the default rate limit.\n",
      "2023-11-30 00:59:33 +0000    3280 execution          WARNING  [fluency_score in line 4 (index starts from 0)] stderr> Exception occurs: RateLimitError: Requests to the ChatCompletions_Create Operation under Azure OpenAI API version 2023-07-01-preview have exceeded call rate limit of your current OpenAI S0 pricing tier. Please retry after 9 seconds. Please go here: https://aka.ms/oai/quotaincrease if you would like to further increase the default rate limit.\n",
      "2023-11-30 00:59:33 +0000    3280 execution          WARNING  [coherence_score in line 4 (index starts from 0)] stderr> RateLimitError #0, Retry-After=9, Back off 9.0 seconds for retry.\n",
      "2023-11-30 00:59:33 +0000    3280 execution          WARNING  [fluency_score in line 4 (index starts from 0)] stderr> RateLimitError #0, Retry-After=9, Back off 9.0 seconds for retry.\n",
      "2023-11-30 00:59:33 +0000    3240 execution          INFO     Process name: Process-38:2, Process id: 3271, Line number: 1 completed.\n",
      "2023-11-30 00:59:33 +0000    3240 execution.bulk     INFO     Finished 1 / 5 lines.\n",
      "2023-11-30 00:59:33 +0000    3240 execution.bulk     INFO     Average execution time for completed lines: 1.36 seconds. Estimated time for incomplete lines: 5.44 seconds.\n",
      "2023-11-30 00:59:34 +0000    3240 execution          INFO     Process name: Process-38:3, Process id: 3275, Line number: 0 completed.\n",
      "2023-11-30 00:59:34 +0000    3240 execution.bulk     INFO     Finished 2 / 5 lines.\n",
      "2023-11-30 00:59:34 +0000    3240 execution.bulk     INFO     Average execution time for completed lines: 1.06 seconds. Estimated time for incomplete lines: 3.18 seconds.\n",
      "(Run status is 'Running', continue streaming...)\n",
      "2023-11-30 00:59:43 +0000      45 promptflow-runtime INFO     Running <function RunHistoryClient.get_run at 0x7effccc8d310>, 3 more tries to go.\n",
      "2023-11-30 00:59:43 +0000      45 promptflow-runtime INFO     Running <function RunHistoryClient.get_run at 0x7effccc8d280>, 3 more tries to go.\n",
      "2023-11-30 00:59:43 +0000      45 promptflow-runtime INFO     Run multi_flow_variant_0_20231129_185903_170460 is in progress, Execution status: Running\n",
      "2023-11-30 00:59:43 +0000    3240 execution          INFO     Process name: Process-38:6, Process id: 3286, Line number: 3 completed.\n",
      "2023-11-30 00:59:43 +0000    3240 execution.bulk     INFO     Finished 3 / 5 lines.\n",
      "2023-11-30 00:59:43 +0000    3240 execution.bulk     INFO     Average execution time for completed lines: 3.81 seconds. Estimated time for incomplete lines: 7.62 seconds.\n",
      "2023-11-30 00:59:43 +0000    3240 execution          INFO     Process name: Process-38:5, Process id: 3290, Line number: 2 completed.\n",
      "2023-11-30 00:59:43 +0000    3240 execution.bulk     INFO     Finished 4 / 5 lines.\n",
      "2023-11-30 00:59:43 +0000    3240 execution.bulk     INFO     Average execution time for completed lines: 2.92 seconds. Estimated time for incomplete lines: 2.92 seconds.\n",
      "2023-11-30 00:59:43 +0000    3240 execution          INFO     Process name: Process-38:4, Process id: 3280, Line number: 4 completed.\n",
      "2023-11-30 00:59:43 +0000    3240 execution.bulk     INFO     Finished 5 / 5 lines.\n",
      "2023-11-30 00:59:43 +0000    3240 execution.bulk     INFO     Average execution time for completed lines: 2.36 seconds. Estimated time for incomplete lines: 0.0 seconds.\n",
      "2023-11-30 00:59:45 +0000    3240 execution          INFO     Executing aggregation nodes...\n",
      "2023-11-30 00:59:45 +0000    3240 execution          INFO     Finish executing aggregation nodes.\n",
      "2023-11-30 00:59:50 +0000    3240 execution.bulk     INFO     Upload status summary metrics for run multi_flow_variant_0_20231129_185903_170460 finished in 5.443493254948407 seconds\n",
      "2023-11-30 00:59:53 +0000    3240 execution.bulk     INFO     Upload metrics for run multi_flow_variant_0_20231129_185903_170460 finished in 3.24393202830106 seconds\n",
      "2023-11-30 00:59:53 +0000    3240 promptflow-runtime INFO     Successfully write run properties {\"azureml.promptflow.total_tokens\": 18297, \"_azureml.evaluate_artifacts\": \"[{\\\"path\\\": \\\"instance_results.jsonl\\\", \\\"type\\\": \\\"table\\\"}]\"} with run id 'multi_flow_variant_0_20231129_185903_170460'\n",
      "2023-11-30 00:59:53 +0000    3240 execution.bulk     INFO     Upload RH properties for run multi_flow_variant_0_20231129_185903_170460 finished in 0.0871151671744883 seconds\n",
      "2023-11-30 00:59:53 +0000    3240 promptflow-runtime INFO     Running <function AssetClient.create_unregistered_output at 0x7effcbffa3a0>, 3 more tries to go.\n",
      "2023-11-30 00:59:53 +0000    3240 promptflow-runtime INFO     Creating unregistered output Asset for Run multi_flow_variant_0_20231129_185903_170460...\n",
      "2023-11-30 00:59:54 +0000    3240 promptflow-runtime INFO     Created debug_info Asset: azureml://locations/eastus/workspaces/4ab2cc7d-74ab-4a3f-9ce1-218668c55b0e/data/azureml_multi_flow_variant_0_20231129_185903_170460_output_data_debug_info/versions/1\n",
      "2023-11-30 00:59:54 +0000    3240 promptflow-runtime INFO     Running <function AssetClient.create_unregistered_output at 0x7effcbffa3a0>, 3 more tries to go.\n",
      "2023-11-30 00:59:54 +0000    3240 promptflow-runtime INFO     Creating unregistered output Asset for Run multi_flow_variant_0_20231129_185903_170460...\n",
      "2023-11-30 00:59:54 +0000    3240 promptflow-runtime INFO     Created flow_outputs output Asset: azureml://locations/eastus/workspaces/4ab2cc7d-74ab-4a3f-9ce1-218668c55b0e/data/azureml_multi_flow_variant_0_20231129_185903_170460_output_data_flow_outputs/versions/1\n",
      "2023-11-30 00:59:54 +0000    3240 promptflow-runtime INFO     Running <function ArtifactClient.register_artifact at 0x7effcbffa670>, 3 more tries to go.\n",
      "2023-11-30 00:59:54 +0000    3240 promptflow-runtime INFO     Creating Artifact for Run multi_flow_variant_0_20231129_185903_170460...\n",
      "2023-11-30 00:59:54 +0000    3240 promptflow-runtime INFO     Created instance_results.jsonl Artifact.\n",
      "2023-11-30 00:59:54 +0000    3240 promptflow-runtime INFO     Running <function RunHistoryClient.patch_run at 0x7effccc85f70>, 3 more tries to go.\n",
      "2023-11-30 00:59:54 +0000    3240 promptflow-runtime INFO     Patching multi_flow_variant_0_20231129_185903_170460...\n",
      "2023-11-30 00:59:54 +0000    3240 promptflow-runtime INFO     Ending the aml run 'multi_flow_variant_0_20231129_185903_170460' with status 'Completed'...\n",
      "2023-11-30 00:59:57 +0000      45 promptflow-runtime INFO     Process 3240 finished\n",
      "2023-11-30 00:59:57 +0000      45 promptflow-runtime INFO     [45] Child process finished!\n",
      "2023-11-30 00:59:57 +0000      45 promptflow-runtime INFO     [multi_flow_variant_0_20231129_185903_170460] End processing bulk run\n",
      "2023-11-30 01:00:03 +0000      45 promptflow-runtime INFO     Running <function RunHistoryClient.get_run at 0x7effccc8d310>, 3 more tries to go.\n",
      "2023-11-30 01:00:03 +0000      45 promptflow-runtime INFO     Running <function RunHistoryClient.get_run at 0x7effccc8d280>, 3 more tries to go.\n",
      "2023-11-30 01:00:03 +0000      45 promptflow-runtime INFO     Run multi_flow_variant_0_20231129_185903_170460 is in progress, Execution status: Completed\n",
      "======= Run Summary =======\n",
      "Run name: \"multi_flow_variant_0_20231129_185903_170460\"\n",
      "Run status: \"Completed\"\n",
      "Start time: \"2023-11-30 00:59:31.950590+00:00\"\n",
      "Duration: \"0:00:22.885251\"\n",
      "Run url: \"https://ml.azure.com/prompts/flow/bulkrun/run/multi_flow_variant_0_20231129_185903_170460/details?wsid=/subscriptions/91d27443-f037-45d9-bb0c-428256992df6/resourceGroups/rg-contosooutdoors/providers/Microsoft.MachineLearningServices/workspaces/contoso-store\""
     ]
    },
    {
     "data": {
      "text/plain": [
       "<promptflow._sdk.entities._run.Run at 0x1ac40a0eaf0>"
      ]
     },
     "execution_count": 31,
     "metadata": {},
     "output_type": "execute_result"
    }
   ],
   "source": [
    "pf.stream(eval_run_variant)"
   ]
  },
  {
   "cell_type": "code",
   "execution_count": 32,
   "metadata": {},
   "outputs": [
    {
     "data": {
      "text/html": [
       "<div>\n",
       "<style scoped>\n",
       "    .dataframe tbody tr th:only-of-type {\n",
       "        vertical-align: middle;\n",
       "    }\n",
       "\n",
       "    .dataframe tbody tr th {\n",
       "        vertical-align: top;\n",
       "    }\n",
       "\n",
       "    .dataframe thead th {\n",
       "        text-align: right;\n",
       "    }\n",
       "</style>\n",
       "<table border=\"1\" class=\"dataframe\">\n",
       "  <thead>\n",
       "    <tr style=\"text-align: right;\">\n",
       "      <th></th>\n",
       "      <th>inputs.chat_history</th>\n",
       "      <th>inputs.customerId</th>\n",
       "      <th>inputs.question</th>\n",
       "      <th>inputs.context</th>\n",
       "      <th>inputs.answer</th>\n",
       "      <th>inputs.line_number</th>\n",
       "      <th>outputs.gpt_coherence</th>\n",
       "      <th>outputs.gpt_fluency</th>\n",
       "      <th>outputs.gpt_groundedness</th>\n",
       "      <th>outputs.gpt_relevance</th>\n",
       "    </tr>\n",
       "    <tr>\n",
       "      <th>outputs.line_number</th>\n",
       "      <th></th>\n",
       "      <th></th>\n",
       "      <th></th>\n",
       "      <th></th>\n",
       "      <th></th>\n",
       "      <th></th>\n",
       "      <th></th>\n",
       "      <th></th>\n",
       "      <th></th>\n",
       "      <th></th>\n",
       "    </tr>\n",
       "  </thead>\n",
       "  <tbody>\n",
       "    <tr>\n",
       "      <th>1</th>\n",
       "      <td>[]</td>\n",
       "      <td>1</td>\n",
       "      <td>Do you have any climbing gear?</td>\n",
       "      <td>[{'id': '3', 'title': 'Summit Breeze Jacket', ...</td>\n",
       "      <td>Hello John! As a Base member, you've made some...</td>\n",
       "      <td>1</td>\n",
       "      <td>5.0</td>\n",
       "      <td>5.0</td>\n",
       "      <td>1.0</td>\n",
       "      <td>2.0</td>\n",
       "    </tr>\n",
       "    <tr>\n",
       "      <th>0</th>\n",
       "      <td>[]</td>\n",
       "      <td>4</td>\n",
       "      <td>tell me about your hiking jackets</td>\n",
       "      <td>[{'id': '3', 'title': 'Summit Breeze Jacket', ...</td>\n",
       "      <td>Hi Sarah Lee! Thanks for asking about our hiki...</td>\n",
       "      <td>0</td>\n",
       "      <td>5.0</td>\n",
       "      <td>5.0</td>\n",
       "      <td>5.0</td>\n",
       "      <td>5.0</td>\n",
       "    </tr>\n",
       "    <tr>\n",
       "      <th>3</th>\n",
       "      <td>[]</td>\n",
       "      <td>6</td>\n",
       "      <td>Do you have any hiking boots?</td>\n",
       "      <td>[{'id': '4', 'title': 'TrekReady Hiking Boots'...</td>\n",
       "      <td>Hi Emily! Yes, we have a few great options for...</td>\n",
       "      <td>3</td>\n",
       "      <td>5.0</td>\n",
       "      <td>5.0</td>\n",
       "      <td>5.0</td>\n",
       "      <td>5.0</td>\n",
       "    </tr>\n",
       "    <tr>\n",
       "      <th>2</th>\n",
       "      <td>[]</td>\n",
       "      <td>3</td>\n",
       "      <td>Can you tell me about your selection of tents?</td>\n",
       "      <td>[{'id': '8', 'title': 'Alpine Explorer Tent', ...</td>\n",
       "      <td>Hi Michael! 🤖 Of course, we have a wide select...</td>\n",
       "      <td>2</td>\n",
       "      <td>5.0</td>\n",
       "      <td>5.0</td>\n",
       "      <td>5.0</td>\n",
       "      <td>2.0</td>\n",
       "    </tr>\n",
       "    <tr>\n",
       "      <th>4</th>\n",
       "      <td>[]</td>\n",
       "      <td>2</td>\n",
       "      <td>What gear do you recommend for hiking?</td>\n",
       "      <td>[{'id': '16', 'title': 'TrailLite Daypack', 'c...</td>\n",
       "      <td>Hi Jane! As an adventurer with a \"Gold\" member...</td>\n",
       "      <td>4</td>\n",
       "      <td>4.0</td>\n",
       "      <td>5.0</td>\n",
       "      <td>1.0</td>\n",
       "      <td>4.0</td>\n",
       "    </tr>\n",
       "  </tbody>\n",
       "</table>\n",
       "</div>"
      ],
      "text/plain": [
       "                    inputs.chat_history  inputs.customerId  \\\n",
       "outputs.line_number                                          \n",
       "1                                    []                  1   \n",
       "0                                    []                  4   \n",
       "3                                    []                  6   \n",
       "2                                    []                  3   \n",
       "4                                    []                  2   \n",
       "\n",
       "                                                    inputs.question  \\\n",
       "outputs.line_number                                                   \n",
       "1                                    Do you have any climbing gear?   \n",
       "0                                 tell me about your hiking jackets   \n",
       "3                                     Do you have any hiking boots?   \n",
       "2                    Can you tell me about your selection of tents?   \n",
       "4                            What gear do you recommend for hiking?   \n",
       "\n",
       "                                                        inputs.context  \\\n",
       "outputs.line_number                                                      \n",
       "1                    [{'id': '3', 'title': 'Summit Breeze Jacket', ...   \n",
       "0                    [{'id': '3', 'title': 'Summit Breeze Jacket', ...   \n",
       "3                    [{'id': '4', 'title': 'TrekReady Hiking Boots'...   \n",
       "2                    [{'id': '8', 'title': 'Alpine Explorer Tent', ...   \n",
       "4                    [{'id': '16', 'title': 'TrailLite Daypack', 'c...   \n",
       "\n",
       "                                                         inputs.answer  \\\n",
       "outputs.line_number                                                      \n",
       "1                    Hello John! As a Base member, you've made some...   \n",
       "0                    Hi Sarah Lee! Thanks for asking about our hiki...   \n",
       "3                    Hi Emily! Yes, we have a few great options for...   \n",
       "2                    Hi Michael! 🤖 Of course, we have a wide select...   \n",
       "4                    Hi Jane! As an adventurer with a \"Gold\" member...   \n",
       "\n",
       "                     inputs.line_number  outputs.gpt_coherence  \\\n",
       "outputs.line_number                                              \n",
       "1                                     1                    5.0   \n",
       "0                                     0                    5.0   \n",
       "3                                     3                    5.0   \n",
       "2                                     2                    5.0   \n",
       "4                                     4                    4.0   \n",
       "\n",
       "                     outputs.gpt_fluency  outputs.gpt_groundedness  \\\n",
       "outputs.line_number                                                  \n",
       "1                                    5.0                       1.0   \n",
       "0                                    5.0                       5.0   \n",
       "3                                    5.0                       5.0   \n",
       "2                                    5.0                       5.0   \n",
       "4                                    5.0                       1.0   \n",
       "\n",
       "                     outputs.gpt_relevance  \n",
       "outputs.line_number                         \n",
       "1                                      2.0  \n",
       "0                                      5.0  \n",
       "3                                      5.0  \n",
       "2                                      2.0  \n",
       "4                                      4.0  "
      ]
     },
     "execution_count": 32,
     "metadata": {},
     "output_type": "execute_result"
    }
   ],
   "source": [
    "details = pf.get_details(eval_run_variant)\n",
    "details.head(10)"
   ]
  },
  {
   "cell_type": "code",
   "execution_count": 33,
   "metadata": {},
   "outputs": [
    {
     "name": "stdout",
     "output_type": "stream",
     "text": [
      "{\n",
      "    \"gpt_coherence\": 4.8,\n",
      "    \"gpt_coherence_pass_rate(%)\": 100.0,\n",
      "    \"gpt_fluency\": 5.0,\n",
      "    \"gpt_fluency_pass_rate(%)\": 100.0,\n",
      "    \"gpt_groundedness\": 3.4,\n",
      "    \"gpt_groundedness_pass_rate(%)\": 60.0,\n",
      "    \"gpt_relevance\": 3.6,\n",
      "    \"gpt_relevance_pass_rate(%)\": 60.0\n",
      "}\n"
     ]
    }
   ],
   "source": [
    "\n",
    "metrics = pf.get_metrics(eval_run_variant)\n",
    "print(json.dumps(metrics, indent=4))"
   ]
  },
  {
   "cell_type": "code",
   "execution_count": 34,
   "metadata": {},
   "outputs": [
    {
     "name": "stdout",
     "output_type": "stream",
     "text": [
      "Web View: https://ml.azure.com/prompts/flow/bulkrun/runs/outputs?wsid=/subscriptions/91d27443-f037-45d9-bb0c-428256992df6/resourceGroups/rg-contosooutdoors/providers/Microsoft.MachineLearningServices/workspaces/contoso-store&runId=contoso_trek_variant_0_20231129_184904_724023,multi_flow_variant_0_20231129_185903_170460\n"
     ]
    }
   ],
   "source": [
    "pf.visualize([base_run, eval_run_variant])"
   ]
  },
  {
   "cell_type": "markdown",
   "metadata": {},
   "source": []
  },
  {
   "cell_type": "markdown",
   "metadata": {},
   "source": []
  }
 ],
 "metadata": {
  "kernelspec": {
   "display_name": ".venv",
   "language": "python",
   "name": "python3"
  },
  "language_info": {
   "codemirror_mode": {
    "name": "ipython",
    "version": 3
   },
   "file_extension": ".py",
   "mimetype": "text/x-python",
   "name": "python",
   "nbconvert_exporter": "python",
   "pygments_lexer": "ipython3",
   "version": "3.9.18"
  }
 },
 "nbformat": 4,
 "nbformat_minor": 2
}
