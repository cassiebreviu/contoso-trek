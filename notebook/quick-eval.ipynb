{
 "cells": [
  {
   "cell_type": "code",
   "execution_count": 1,
   "metadata": {},
   "outputs": [],
   "source": [
    "from promptflow import PFClient\n",
    "\n",
    "question = \"tell me about your jackets\"\n",
    "customerId = \"2\""
   ]
  },
  {
   "cell_type": "code",
   "execution_count": 2,
   "metadata": {},
   "outputs": [
    {
     "name": "stderr",
     "output_type": "stream",
     "text": [
      "[2023-11-29 11:35:21,764][promptflow._sdk.entities._connection][WARNING] - Please use connection.secrets[key] to access secrets.\n"
     ]
    },
    {
     "name": "stdout",
     "output_type": "stream",
     "text": [
      "2023-11-29 11:35:21 -0800   12728 execution.flow     INFO     Start to run 5 nodes with concurrency level 16.\n",
      "2023-11-29 11:35:21 -0800   12728 execution.flow     INFO     Executing node question_embedding. node run id: faa7c71b-eb08-4794-b43d-2487532e430d_question_embedding_0\n",
      "2023-11-29 11:35:21 -0800   12728 execution.flow     INFO     Executing node customer_lookup. node run id: faa7c71b-eb08-4794-b43d-2487532e430d_customer_lookup_0\n",
      "2023-11-29 11:35:24 -0800   12728 execution.flow     INFO     Node question_embedding completes.\n",
      "2023-11-29 11:35:24 -0800   12728 execution.flow     INFO     Executing node retrieve_documentation. node run id: faa7c71b-eb08-4794-b43d-2487532e430d_retrieve_documentation_0\n",
      "2023-11-29 11:35:24 -0800   12728 execution.flow     INFO     Node customer_lookup completes.\n",
      "2023-11-29 11:35:26 -0800   12728 execution.flow     INFO     Node retrieve_documentation completes.\n",
      "2023-11-29 11:35:26 -0800   12728 execution.flow     INFO     Executing node customer_prompt. node run id: faa7c71b-eb08-4794-b43d-2487532e430d_customer_prompt_0\n",
      "2023-11-29 11:35:26 -0800   12728 execution.flow     INFO     Node customer_prompt completes.\n",
      "2023-11-29 11:35:26 -0800   12728 execution.flow     INFO     Executing node llm_response. node run id: faa7c71b-eb08-4794-b43d-2487532e430d_llm_response_0\n",
      "2023-11-29 11:35:26 -0800   12728 execution.flow     WARNING  Output of llm_response is not json serializable, use str to store it.\n",
      "2023-11-29 11:35:26 -0800   12728 execution.flow     INFO     Node llm_response completes.\n"
     ]
    }
   ],
   "source": [
    "pf_client = PFClient()\n",
    "output = pf_client.test(\n",
    "    \"../\",\n",
    "    inputs={\n",
    "        \"chat_history\": [],\n",
    "        \"question\": question,\n",
    "        \"customerId\": customerId,\n",
    "    },\n",
    ")\n",
    "output[\"answer\"] = \"\".join(list(output[\"answer\"]))"
   ]
  },
  {
   "cell_type": "code",
   "execution_count": 6,
   "metadata": {},
   "outputs": [
    {
     "data": {
      "text/plain": [
       "{'answer': \"Hi Jane! 😄 We have two amazing jackets in our catalog that I think you'll love! The Summit Breeze Jacket is perfect for lightweight adventures and the RainGuard Hiking Jacket is great if you're looking for something more durable and weatherproof. Both jackets are highly functional and come with adjustable features to fit your needs. 🏕️ As a Gold member, don't forget that you get exclusive discounts on all our products so it's a great time to add one of these jackets to your collection. If you're looking to complete your outfit, check out our TrekReady Hiking Boots and Adventurer Pro Backpack for the ultimate outdoor gear combo! 🎒🥾\",\n",
       " 'context': [{'id': '3',\n",
       "   'title': 'Summit Breeze Jacket',\n",
       "   'content': \"Discover the joy of hiking with MountainStyle's Summit Breeze Jacket. This lightweight jacket is your perfect companion for outdoor adventures. Sporting a trail-ready, windproof design and a water-resistant fabric, it's ready to withstand any weather. The breathable polyester material and adjustable cuffs keep you comfortable, whether you're ascending a mountain or strolling through a park. And its sleek black color adds style to function. The jacket features a full-zip front closure, adjustable hood, and secure zippered pockets. Experience the comfort of its inner lining and the convenience of its packable design. Crafted for night trekkers too, the jacket has reflective accents for enhanced visibility. Rugged yet chic, the Summit Breeze Jacket is more than a hiking essential, it's the gear that inspires you to reach new heights. Choose adventure, choose the Summit Breeze Jacket.\",\n",
       "   'url': '/products/summit-breeze-jacket'},\n",
       "  {'id': '17',\n",
       "   'title': 'RainGuard Hiking Jacket',\n",
       "   'content': \"Introducing the MountainStyle RainGuard Hiking Jacket - the ultimate solution for weatherproof comfort during your outdoor undertakings! Designed with waterproof, breathable fabric, this jacket promises an outdoor experience that's as dry as it is comfortable. The rugged construction assures durability, while the adjustable hood provides a customizable fit against wind and rain. Featuring multiple pockets for safe, convenient storage and adjustable cuffs and hem, you can tailor the jacket to suit your needs on-the-go. And, don't worry about overheating during intense activities - it's equipped with ventilation zippers for increased airflow. Reflective details ensure visibility even during low-light conditions, making it perfect for evening treks. With its lightweight, packable design, carrying it inside your backpack requires minimal effort. With options for men and women, the RainGuard Hiking Jacket is perfect for hiking, camping, trekking and countless other outdoor adventures. Don't let the weather stand in your way - embrace the outdoors with MountainStyle RainGuard Hiking Jacket!\",\n",
       "   'url': '/products/rainguard-hiking-jacket'}]}"
      ]
     },
     "execution_count": 6,
     "metadata": {},
     "output_type": "execute_result"
    }
   ],
   "source": [
    "output"
   ]
  },
  {
   "cell_type": "code",
   "execution_count": 3,
   "metadata": {},
   "outputs": [
    {
     "name": "stdout",
     "output_type": "stream",
     "text": [
      "2023-11-29 11:35:30 -0800   12728 execution.flow     INFO     Start to run 2 nodes with concurrency level 16.\n",
      "2023-11-29 11:35:30 -0800   12728 execution.flow     INFO     Executing node groundedness_score. node run id: 9d4c1a29-d518-4952-aa93-23ed52e562f1_groundedness_score_0\n",
      "2023-11-29 11:35:32 -0800   12728 execution.flow     INFO     Node groundedness_score completes.\n",
      "2023-11-29 11:35:32 -0800   12728 execution.flow     INFO     Executing node concat_scores. node run id: 9d4c1a29-d518-4952-aa93-23ed52e562f1_concat_scores_0\n",
      "2023-11-29 11:35:32 -0800   12728 execution.flow     INFO     Node concat_scores completes.\n",
      "2023-11-29 11:35:32 -0800   12728 execution.flow     INFO     Start to run 1 nodes with concurrency level 16.\n",
      "2023-11-29 11:35:32 -0800   12728 execution.flow     INFO     Executing node aggregate_variants_results. node run id: ada04f42-2d8a-4d21-bd34-6407dcc2c35c_aggregate_variants_results_reduce\n",
      "2023-11-29 11:35:32 -0800   12728 execution.flow     INFO     Node aggregate_variants_results completes.\n"
     ]
    }
   ],
   "source": [
    "test = pf_client.test(\n",
    "    \"../eval/groundedness\",\n",
    "    inputs={\n",
    "        \"question\": question,\n",
    "        \"context\": str(output[\"context\"]),\n",
    "        \"answer\": output[\"answer\"],\n",
    "    },\n",
    ")"
   ]
  },
  {
   "cell_type": "code",
   "execution_count": 4,
   "metadata": {},
   "outputs": [
    {
     "data": {
      "text/plain": [
       "{'gpt_groundedness': 5.0}"
      ]
     },
     "execution_count": 4,
     "metadata": {},
     "output_type": "execute_result"
    }
   ],
   "source": [
    "test"
   ]
  },
  {
   "cell_type": "code",
   "execution_count": null,
   "metadata": {},
   "outputs": [],
   "source": []
  }
 ],
 "metadata": {
  "kernelspec": {
   "display_name": ".venv",
   "language": "python",
   "name": "python3"
  },
  "language_info": {
   "codemirror_mode": {
    "name": "ipython",
    "version": 3
   },
   "file_extension": ".py",
   "mimetype": "text/x-python",
   "name": "python",
   "nbconvert_exporter": "python",
   "pygments_lexer": "ipython3",
   "version": "3.11.5"
  }
 },
 "nbformat": 4,
 "nbformat_minor": 2
}
